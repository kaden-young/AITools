{
 "cells": [
  {
   "cell_type": "code",
   "execution_count": 1,
   "metadata": {
    "ExecuteTime": {
     "end_time": "2023-12-13T00:04:31.033279Z",
     "start_time": "2023-12-13T00:04:31.028109Z"
    }
   },
   "outputs": [],
   "source": [
    "import pandas as pd"
   ]
  },
  {
   "cell_type": "code",
   "execution_count": 2,
   "metadata": {
    "ExecuteTime": {
     "end_time": "2023-12-13T00:04:32.004687Z",
     "start_time": "2023-12-13T00:04:31.033091Z"
    }
   },
   "outputs": [],
   "source": [
    "df = pd.read_feather(\"100k_kindle_reviews_lemmatized.feather\")"
   ]
  },
  {
   "cell_type": "code",
   "execution_count": 3,
   "metadata": {
    "ExecuteTime": {
     "end_time": "2023-12-13T00:04:32.100238Z",
     "start_time": "2023-12-13T00:04:32.011964Z"
    }
   },
   "outputs": [
    {
     "name": "stdout",
     "output_type": "stream",
     "text": [
      "<class 'pandas.core.frame.DataFrame'>\n",
      "RangeIndex: 100000 entries, 0 to 99999\n",
      "Data columns (total 32 columns):\n",
      " #   Column            Non-Null Count   Dtype  \n",
      "---  ------            --------------   -----  \n",
      " 0   overall           100000 non-null  int64  \n",
      " 1   verified          100000 non-null  bool   \n",
      " 2   reviewTime        100000 non-null  object \n",
      " 3   reviewerID        100000 non-null  object \n",
      " 4   asin              100000 non-null  object \n",
      " 5   style             100000 non-null  object \n",
      " 6   reviewerName      100000 non-null  object \n",
      " 7   reviewText        100000 non-null  object \n",
      " 8   summary           100000 non-null  object \n",
      " 9   unixReviewTime    100000 non-null  int64  \n",
      " 10  vote              100000 non-null  int32  \n",
      " 11  image             70 non-null      object \n",
      " 12  processed_review  100000 non-null  object \n",
      " 13  lemmatized_text   100000 non-null  object \n",
      " 14  ADV               80797 non-null   float64\n",
      " 15  VERB              91419 non-null   float64\n",
      " 16  PRON              86519 non-null   float64\n",
      " 17  SCONJ             47676 non-null   float64\n",
      " 18  DET               89456 non-null   float64\n",
      " 19  ADJ               92077 non-null   float64\n",
      " 20  NOUN              95062 non-null   float64\n",
      " 21  ADP               85714 non-null   float64\n",
      " 22  CCONJ             73120 non-null   float64\n",
      " 23  PUNCT             93056 non-null   float64\n",
      " 24  AUX               85053 non-null   float64\n",
      " 25  PART              72871 non-null   float64\n",
      " 26  PROPN             50662 non-null   float64\n",
      " 27  NUM               33704 non-null   float64\n",
      " 28  SPACE             45473 non-null   float64\n",
      " 29  INTJ              11475 non-null   float64\n",
      " 30  SYM               5834 non-null    float64\n",
      " 31  X                 3738 non-null    float64\n",
      "dtypes: bool(1), float64(18), int32(1), int64(2), object(10)\n",
      "memory usage: 23.4+ MB\n"
     ]
    }
   ],
   "source": [
    "df.info()"
   ]
  },
  {
   "cell_type": "code",
   "execution_count": 4,
   "metadata": {
    "ExecuteTime": {
     "end_time": "2023-12-13T00:04:32.173251Z",
     "start_time": "2023-12-13T00:04:32.100017Z"
    }
   },
   "outputs": [
    {
     "data": {
      "text/plain": "   overall  verified   reviewTime      reviewerID        asin  \\\n0        1      True  12 27, 2014  A3JRP9RI3ZE6VK  B00JQDHIES   \n1        1     False  06 25, 2016  A3IZWB0YUZXZZ6  B01H124NQQ   \n2        1      True  05 13, 2013   A82LP6E48UFM5  B00C2E9EK4   \n3        1      True  05 10, 2012   AMV9B31WKSLM7  B005RH2GNU   \n4        1      True   09 4, 2013   AZ27B4OUL64TR  B00DC7PXLY   \n\n                            style     reviewerName  \\\n0  {'Format:': ' Kindle Edition'}           e-BOOK   \n1  {'Format:': ' Kindle Edition'}   Kathryn childs   \n2  {'Format:': ' Kindle Edition'}  Amazon Customer   \n3  {'Format:': ' Kindle Edition'}  Eclectic Reader   \n4  {'Format:': ' Kindle Edition'}      Word Junkie   \n\n                                          reviewText  \\\n0  Truly hate it when I make a bad call on a book...   \n1  Only 4% of this book is the discretion it isn'...   \n2  The quality of writing for this book is very p...   \n3  The Outback is the vast, remote, arid area of ...   \n4  Grace Burrowes lives within a few miles of me,...   \n\n                         summary  unixReviewTime  ...  CCONJ PUNCT   AUX  \\\n0                       Juvenile      1419638400  ...    4.0   5.0   2.0   \n1            Not worth your time      1466812800  ...    1.0   2.0   3.0   \n2                   poor quality      1368403200  ...    5.0   7.0   9.0   \n3     Outback is in AUSTRALIA!!!      1336608000  ...    NaN   5.0   3.0   \n4  Not as good as its progenitor      1378252800  ...   12.0  25.0  12.0   \n\n   PART  PROPN  NUM  SPACE  INTJ  SYM   X  \n0   2.0    2.0  1.0    NaN   NaN  NaN NaN  \n1   2.0    NaN  2.0    NaN   NaN  NaN NaN  \n2   3.0    NaN  NaN    3.0   NaN  NaN NaN  \n3   NaN    3.0  NaN    2.0   NaN  NaN NaN  \n4  13.0   27.0  3.0    9.0   NaN  NaN NaN  \n\n[5 rows x 32 columns]",
      "text/html": "<div>\n<style scoped>\n    .dataframe tbody tr th:only-of-type {\n        vertical-align: middle;\n    }\n\n    .dataframe tbody tr th {\n        vertical-align: top;\n    }\n\n    .dataframe thead th {\n        text-align: right;\n    }\n</style>\n<table border=\"1\" class=\"dataframe\">\n  <thead>\n    <tr style=\"text-align: right;\">\n      <th></th>\n      <th>overall</th>\n      <th>verified</th>\n      <th>reviewTime</th>\n      <th>reviewerID</th>\n      <th>asin</th>\n      <th>style</th>\n      <th>reviewerName</th>\n      <th>reviewText</th>\n      <th>summary</th>\n      <th>unixReviewTime</th>\n      <th>...</th>\n      <th>CCONJ</th>\n      <th>PUNCT</th>\n      <th>AUX</th>\n      <th>PART</th>\n      <th>PROPN</th>\n      <th>NUM</th>\n      <th>SPACE</th>\n      <th>INTJ</th>\n      <th>SYM</th>\n      <th>X</th>\n    </tr>\n  </thead>\n  <tbody>\n    <tr>\n      <th>0</th>\n      <td>1</td>\n      <td>True</td>\n      <td>12 27, 2014</td>\n      <td>A3JRP9RI3ZE6VK</td>\n      <td>B00JQDHIES</td>\n      <td>{'Format:': ' Kindle Edition'}</td>\n      <td>e-BOOK</td>\n      <td>Truly hate it when I make a bad call on a book...</td>\n      <td>Juvenile</td>\n      <td>1419638400</td>\n      <td>...</td>\n      <td>4.0</td>\n      <td>5.0</td>\n      <td>2.0</td>\n      <td>2.0</td>\n      <td>2.0</td>\n      <td>1.0</td>\n      <td>NaN</td>\n      <td>NaN</td>\n      <td>NaN</td>\n      <td>NaN</td>\n    </tr>\n    <tr>\n      <th>1</th>\n      <td>1</td>\n      <td>False</td>\n      <td>06 25, 2016</td>\n      <td>A3IZWB0YUZXZZ6</td>\n      <td>B01H124NQQ</td>\n      <td>{'Format:': ' Kindle Edition'}</td>\n      <td>Kathryn childs</td>\n      <td>Only 4% of this book is the discretion it isn'...</td>\n      <td>Not worth your time</td>\n      <td>1466812800</td>\n      <td>...</td>\n      <td>1.0</td>\n      <td>2.0</td>\n      <td>3.0</td>\n      <td>2.0</td>\n      <td>NaN</td>\n      <td>2.0</td>\n      <td>NaN</td>\n      <td>NaN</td>\n      <td>NaN</td>\n      <td>NaN</td>\n    </tr>\n    <tr>\n      <th>2</th>\n      <td>1</td>\n      <td>True</td>\n      <td>05 13, 2013</td>\n      <td>A82LP6E48UFM5</td>\n      <td>B00C2E9EK4</td>\n      <td>{'Format:': ' Kindle Edition'}</td>\n      <td>Amazon Customer</td>\n      <td>The quality of writing for this book is very p...</td>\n      <td>poor quality</td>\n      <td>1368403200</td>\n      <td>...</td>\n      <td>5.0</td>\n      <td>7.0</td>\n      <td>9.0</td>\n      <td>3.0</td>\n      <td>NaN</td>\n      <td>NaN</td>\n      <td>3.0</td>\n      <td>NaN</td>\n      <td>NaN</td>\n      <td>NaN</td>\n    </tr>\n    <tr>\n      <th>3</th>\n      <td>1</td>\n      <td>True</td>\n      <td>05 10, 2012</td>\n      <td>AMV9B31WKSLM7</td>\n      <td>B005RH2GNU</td>\n      <td>{'Format:': ' Kindle Edition'}</td>\n      <td>Eclectic Reader</td>\n      <td>The Outback is the vast, remote, arid area of ...</td>\n      <td>Outback is in AUSTRALIA!!!</td>\n      <td>1336608000</td>\n      <td>...</td>\n      <td>NaN</td>\n      <td>5.0</td>\n      <td>3.0</td>\n      <td>NaN</td>\n      <td>3.0</td>\n      <td>NaN</td>\n      <td>2.0</td>\n      <td>NaN</td>\n      <td>NaN</td>\n      <td>NaN</td>\n    </tr>\n    <tr>\n      <th>4</th>\n      <td>1</td>\n      <td>True</td>\n      <td>09 4, 2013</td>\n      <td>AZ27B4OUL64TR</td>\n      <td>B00DC7PXLY</td>\n      <td>{'Format:': ' Kindle Edition'}</td>\n      <td>Word Junkie</td>\n      <td>Grace Burrowes lives within a few miles of me,...</td>\n      <td>Not as good as its progenitor</td>\n      <td>1378252800</td>\n      <td>...</td>\n      <td>12.0</td>\n      <td>25.0</td>\n      <td>12.0</td>\n      <td>13.0</td>\n      <td>27.0</td>\n      <td>3.0</td>\n      <td>9.0</td>\n      <td>NaN</td>\n      <td>NaN</td>\n      <td>NaN</td>\n    </tr>\n  </tbody>\n</table>\n<p>5 rows × 32 columns</p>\n</div>"
     },
     "execution_count": 4,
     "metadata": {},
     "output_type": "execute_result"
    }
   ],
   "source": [
    "df.head()"
   ]
  },
  {
   "cell_type": "code",
   "execution_count": 5,
   "metadata": {
    "collapsed": false,
    "ExecuteTime": {
     "end_time": "2023-12-13T00:04:32.232407Z",
     "start_time": "2023-12-13T00:04:32.126378Z"
    }
   },
   "outputs": [],
   "source": [
    "speech_count_columns = ['ADV', 'VERB', 'PRON', 'SCONJ', 'DET', 'ADJ', 'NOUN', 'ADP', 'CCONJ', 'PUNCT', 'AUX', 'PART', 'PROPN', 'NUM', 'SPACE', 'INTJ', 'SYM', 'X']\n",
    "df[speech_count_columns] = df[speech_count_columns].fillna(0)"
   ]
  },
  {
   "cell_type": "code",
   "execution_count": 6,
   "metadata": {
    "collapsed": false,
    "ExecuteTime": {
     "end_time": "2023-12-13T00:04:32.397021Z",
     "start_time": "2023-12-13T00:04:32.201586Z"
    }
   },
   "outputs": [
    {
     "data": {
      "text/plain": "   overall  verified   reviewTime      reviewerID        asin  \\\n0        1      True  12 27, 2014  A3JRP9RI3ZE6VK  B00JQDHIES   \n1        1     False  06 25, 2016  A3IZWB0YUZXZZ6  B01H124NQQ   \n2        1      True  05 13, 2013   A82LP6E48UFM5  B00C2E9EK4   \n3        1      True  05 10, 2012   AMV9B31WKSLM7  B005RH2GNU   \n4        1      True   09 4, 2013   AZ27B4OUL64TR  B00DC7PXLY   \n\n                            style     reviewerName  \\\n0  {'Format:': ' Kindle Edition'}           e-BOOK   \n1  {'Format:': ' Kindle Edition'}   Kathryn childs   \n2  {'Format:': ' Kindle Edition'}  Amazon Customer   \n3  {'Format:': ' Kindle Edition'}  Eclectic Reader   \n4  {'Format:': ' Kindle Edition'}      Word Junkie   \n\n                                          reviewText  \\\n0  Truly hate it when I make a bad call on a book...   \n1  Only 4% of this book is the discretion it isn'...   \n2  The quality of writing for this book is very p...   \n3  The Outback is the vast, remote, arid area of ...   \n4  Grace Burrowes lives within a few miles of me,...   \n\n                         summary  unixReviewTime  ...  CCONJ PUNCT   AUX  \\\n0                       Juvenile      1419638400  ...    4.0   5.0   2.0   \n1            Not worth your time      1466812800  ...    1.0   2.0   3.0   \n2                   poor quality      1368403200  ...    5.0   7.0   9.0   \n3     Outback is in AUSTRALIA!!!      1336608000  ...    0.0   5.0   3.0   \n4  Not as good as its progenitor      1378252800  ...   12.0  25.0  12.0   \n\n   PART  PROPN  NUM  SPACE  INTJ  SYM    X  \n0   2.0    2.0  1.0    0.0   0.0  0.0  0.0  \n1   2.0    0.0  2.0    0.0   0.0  0.0  0.0  \n2   3.0    0.0  0.0    3.0   0.0  0.0  0.0  \n3   0.0    3.0  0.0    2.0   0.0  0.0  0.0  \n4  13.0   27.0  3.0    9.0   0.0  0.0  0.0  \n\n[5 rows x 32 columns]",
      "text/html": "<div>\n<style scoped>\n    .dataframe tbody tr th:only-of-type {\n        vertical-align: middle;\n    }\n\n    .dataframe tbody tr th {\n        vertical-align: top;\n    }\n\n    .dataframe thead th {\n        text-align: right;\n    }\n</style>\n<table border=\"1\" class=\"dataframe\">\n  <thead>\n    <tr style=\"text-align: right;\">\n      <th></th>\n      <th>overall</th>\n      <th>verified</th>\n      <th>reviewTime</th>\n      <th>reviewerID</th>\n      <th>asin</th>\n      <th>style</th>\n      <th>reviewerName</th>\n      <th>reviewText</th>\n      <th>summary</th>\n      <th>unixReviewTime</th>\n      <th>...</th>\n      <th>CCONJ</th>\n      <th>PUNCT</th>\n      <th>AUX</th>\n      <th>PART</th>\n      <th>PROPN</th>\n      <th>NUM</th>\n      <th>SPACE</th>\n      <th>INTJ</th>\n      <th>SYM</th>\n      <th>X</th>\n    </tr>\n  </thead>\n  <tbody>\n    <tr>\n      <th>0</th>\n      <td>1</td>\n      <td>True</td>\n      <td>12 27, 2014</td>\n      <td>A3JRP9RI3ZE6VK</td>\n      <td>B00JQDHIES</td>\n      <td>{'Format:': ' Kindle Edition'}</td>\n      <td>e-BOOK</td>\n      <td>Truly hate it when I make a bad call on a book...</td>\n      <td>Juvenile</td>\n      <td>1419638400</td>\n      <td>...</td>\n      <td>4.0</td>\n      <td>5.0</td>\n      <td>2.0</td>\n      <td>2.0</td>\n      <td>2.0</td>\n      <td>1.0</td>\n      <td>0.0</td>\n      <td>0.0</td>\n      <td>0.0</td>\n      <td>0.0</td>\n    </tr>\n    <tr>\n      <th>1</th>\n      <td>1</td>\n      <td>False</td>\n      <td>06 25, 2016</td>\n      <td>A3IZWB0YUZXZZ6</td>\n      <td>B01H124NQQ</td>\n      <td>{'Format:': ' Kindle Edition'}</td>\n      <td>Kathryn childs</td>\n      <td>Only 4% of this book is the discretion it isn'...</td>\n      <td>Not worth your time</td>\n      <td>1466812800</td>\n      <td>...</td>\n      <td>1.0</td>\n      <td>2.0</td>\n      <td>3.0</td>\n      <td>2.0</td>\n      <td>0.0</td>\n      <td>2.0</td>\n      <td>0.0</td>\n      <td>0.0</td>\n      <td>0.0</td>\n      <td>0.0</td>\n    </tr>\n    <tr>\n      <th>2</th>\n      <td>1</td>\n      <td>True</td>\n      <td>05 13, 2013</td>\n      <td>A82LP6E48UFM5</td>\n      <td>B00C2E9EK4</td>\n      <td>{'Format:': ' Kindle Edition'}</td>\n      <td>Amazon Customer</td>\n      <td>The quality of writing for this book is very p...</td>\n      <td>poor quality</td>\n      <td>1368403200</td>\n      <td>...</td>\n      <td>5.0</td>\n      <td>7.0</td>\n      <td>9.0</td>\n      <td>3.0</td>\n      <td>0.0</td>\n      <td>0.0</td>\n      <td>3.0</td>\n      <td>0.0</td>\n      <td>0.0</td>\n      <td>0.0</td>\n    </tr>\n    <tr>\n      <th>3</th>\n      <td>1</td>\n      <td>True</td>\n      <td>05 10, 2012</td>\n      <td>AMV9B31WKSLM7</td>\n      <td>B005RH2GNU</td>\n      <td>{'Format:': ' Kindle Edition'}</td>\n      <td>Eclectic Reader</td>\n      <td>The Outback is the vast, remote, arid area of ...</td>\n      <td>Outback is in AUSTRALIA!!!</td>\n      <td>1336608000</td>\n      <td>...</td>\n      <td>0.0</td>\n      <td>5.0</td>\n      <td>3.0</td>\n      <td>0.0</td>\n      <td>3.0</td>\n      <td>0.0</td>\n      <td>2.0</td>\n      <td>0.0</td>\n      <td>0.0</td>\n      <td>0.0</td>\n    </tr>\n    <tr>\n      <th>4</th>\n      <td>1</td>\n      <td>True</td>\n      <td>09 4, 2013</td>\n      <td>AZ27B4OUL64TR</td>\n      <td>B00DC7PXLY</td>\n      <td>{'Format:': ' Kindle Edition'}</td>\n      <td>Word Junkie</td>\n      <td>Grace Burrowes lives within a few miles of me,...</td>\n      <td>Not as good as its progenitor</td>\n      <td>1378252800</td>\n      <td>...</td>\n      <td>12.0</td>\n      <td>25.0</td>\n      <td>12.0</td>\n      <td>13.0</td>\n      <td>27.0</td>\n      <td>3.0</td>\n      <td>9.0</td>\n      <td>0.0</td>\n      <td>0.0</td>\n      <td>0.0</td>\n    </tr>\n  </tbody>\n</table>\n<p>5 rows × 32 columns</p>\n</div>"
     },
     "execution_count": 6,
     "metadata": {},
     "output_type": "execute_result"
    }
   ],
   "source": [
    "df.head()"
   ]
  },
  {
   "cell_type": "code",
   "execution_count": 7,
   "metadata": {
    "ExecuteTime": {
     "end_time": "2023-12-13T00:04:32.436654Z",
     "start_time": "2023-12-13T00:04:32.211067Z"
    }
   },
   "outputs": [],
   "source": [
    "# if image is non null return 1 else 0\n",
    "df['image'] = df['image'].notnull().astype('int')"
   ]
  },
  {
   "cell_type": "markdown",
   "metadata": {},
   "source": [
    "replace null with empty string"
   ]
  },
  {
   "cell_type": "code",
   "execution_count": 8,
   "metadata": {
    "ExecuteTime": {
     "end_time": "2023-12-13T00:04:32.440560Z",
     "start_time": "2023-12-13T00:04:32.225230Z"
    }
   },
   "outputs": [],
   "source": [
    "# in review text replace null values with empty string\n",
    "df['reviewText'] = df['reviewText'].fillna('')\n",
    "df['summary'] = df['summary'].fillna('')"
   ]
  },
  {
   "cell_type": "markdown",
   "metadata": {},
   "source": [
    "convert verfied to dummy"
   ]
  },
  {
   "cell_type": "code",
   "execution_count": 9,
   "metadata": {
    "ExecuteTime": {
     "end_time": "2023-12-13T00:04:32.447108Z",
     "start_time": "2023-12-13T00:04:32.247322Z"
    }
   },
   "outputs": [],
   "source": [
    "# convert verified to int 1 if true 0 if false\n",
    "df['verified'] = df['verified'].astype('int')"
   ]
  },
  {
   "cell_type": "code",
   "execution_count": 10,
   "metadata": {
    "ExecuteTime": {
     "end_time": "2023-12-13T00:04:32.447811Z",
     "start_time": "2023-12-13T00:04:32.255096Z"
    }
   },
   "outputs": [],
   "source": [
    "df = df.drop(columns=['style'])"
   ]
  },
  {
   "cell_type": "markdown",
   "metadata": {},
   "source": [
    "dropped reviewtime, already have unix representation"
   ]
  },
  {
   "cell_type": "code",
   "execution_count": 11,
   "metadata": {
    "ExecuteTime": {
     "end_time": "2023-12-13T00:04:32.448777Z",
     "start_time": "2023-12-13T00:04:32.294158Z"
    }
   },
   "outputs": [],
   "source": [
    "# drop the reviewTime column\n",
    "df = df.drop(columns='reviewTime')"
   ]
  },
  {
   "cell_type": "markdown",
   "metadata": {},
   "source": [
    "creating review length column"
   ]
  },
  {
   "cell_type": "code",
   "execution_count": 12,
   "metadata": {
    "ExecuteTime": {
     "end_time": "2023-12-13T00:04:32.493528Z",
     "start_time": "2023-12-13T00:04:32.370223Z"
    }
   },
   "outputs": [],
   "source": [
    "# create a new column called reviewLength\n",
    "df['reviewLength'] = df['reviewText'].apply(lambda x: 0 if isinstance(x, float) else len(x))"
   ]
  },
  {
   "cell_type": "markdown",
   "metadata": {},
   "source": [
    "creating summary length column"
   ]
  },
  {
   "cell_type": "code",
   "execution_count": 13,
   "metadata": {
    "ExecuteTime": {
     "end_time": "2023-12-13T00:04:32.549036Z",
     "start_time": "2023-12-13T00:04:32.417525Z"
    }
   },
   "outputs": [],
   "source": [
    "# create a new column called summaryLength (There were some NaN values in summary, which was forcing the type to be float64.  This ensures everything is an int).\n",
    "df['summaryLength'] = df['summary'].apply(lambda x: 0 if isinstance(x, float) else len(x))"
   ]
  },
  {
   "cell_type": "markdown",
   "metadata": {},
   "source": [
    "asin is the amazon product id. removing this and the reviewer info"
   ]
  },
  {
   "cell_type": "code",
   "execution_count": 14,
   "metadata": {
    "ExecuteTime": {
     "end_time": "2023-12-13T00:04:32.582914Z",
     "start_time": "2023-12-13T00:04:32.443306Z"
    }
   },
   "outputs": [],
   "source": [
    "# removing asin, reviewerID, reviewerName\n",
    "df = df.drop(columns=['asin', 'reviewerID', 'reviewerName'])"
   ]
  },
  {
   "cell_type": "markdown",
   "metadata": {},
   "source": [
    "labeling categorical variables"
   ]
  },
  {
   "cell_type": "code",
   "execution_count": 15,
   "metadata": {
    "ExecuteTime": {
     "end_time": "2023-12-13T00:04:32.591326Z",
     "start_time": "2023-12-13T00:04:32.487774Z"
    }
   },
   "outputs": [],
   "source": [
    "# labeling ['verified', 'image'] as categorical\n",
    "df[['overall', 'verified', 'image']] = df[['overall', 'verified', 'image']].astype('category')"
   ]
  },
  {
   "cell_type": "markdown",
   "metadata": {},
   "source": [
    "reviewing data"
   ]
  },
  {
   "cell_type": "code",
   "execution_count": 16,
   "metadata": {
    "ExecuteTime": {
     "end_time": "2023-12-13T00:04:32.619624Z",
     "start_time": "2023-12-13T00:04:32.495360Z"
    }
   },
   "outputs": [
    {
     "data": {
      "text/plain": "  overall verified                                         reviewText  \\\n0       1        1  Truly hate it when I make a bad call on a book...   \n1       1        0  Only 4% of this book is the discretion it isn'...   \n2       1        1  The quality of writing for this book is very p...   \n3       1        1  The Outback is the vast, remote, arid area of ...   \n4       1        1  Grace Burrowes lives within a few miles of me,...   \n\n                         summary  unixReviewTime  vote image  \\\n0                       Juvenile      1419638400     0     0   \n1            Not worth your time      1466812800     0     0   \n2                   poor quality      1368403200     0     0   \n3     Outback is in AUSTRALIA!!!      1336608000     0     0   \n4  Not as good as its progenitor      1378252800     0     0   \n\n                                    processed_review  \\\n0  truly hate bad book waste money . honestly fin...   \n1  4 % book discretion worth time money . say 800...   \n2  quality writing book poor .   understand insta...   \n3  Outback vast , remote , arid area Australia ac...   \n4  Grace Burrowes live mile , want tell enjoy Gro...   \n\n                                     lemmatized_text   ADV  ...   AUX  PART  \\\n0  truly hate bad book waste money . honestly fin...   4.0  ...   2.0   2.0   \n1  4 % book discretion worth time money . say 800...   1.0  ...   3.0   2.0   \n2  quality writing book poor .   understand insta...   6.0  ...   9.0   3.0   \n3  Outback vast , remote , arid area Australia ac...   1.0  ...   3.0   0.0   \n4  Grace Burrowes live mile , want tell enjoy Gro...  13.0  ...  12.0  13.0   \n\n   PROPN  NUM  SPACE  INTJ  SYM    X  reviewLength  summaryLength  \n0    2.0  1.0    0.0   0.0  0.0  0.0           272              8  \n1    0.0  2.0    0.0   0.0  0.0  0.0           106             19  \n2    0.0  0.0    3.0   0.0  0.0  0.0           425             12  \n3    3.0  0.0    2.0   0.0  0.0  0.0           145             26  \n4   27.0  3.0    9.0   0.0  0.0  0.0          1235             29  \n\n[5 rows x 29 columns]",
      "text/html": "<div>\n<style scoped>\n    .dataframe tbody tr th:only-of-type {\n        vertical-align: middle;\n    }\n\n    .dataframe tbody tr th {\n        vertical-align: top;\n    }\n\n    .dataframe thead th {\n        text-align: right;\n    }\n</style>\n<table border=\"1\" class=\"dataframe\">\n  <thead>\n    <tr style=\"text-align: right;\">\n      <th></th>\n      <th>overall</th>\n      <th>verified</th>\n      <th>reviewText</th>\n      <th>summary</th>\n      <th>unixReviewTime</th>\n      <th>vote</th>\n      <th>image</th>\n      <th>processed_review</th>\n      <th>lemmatized_text</th>\n      <th>ADV</th>\n      <th>...</th>\n      <th>AUX</th>\n      <th>PART</th>\n      <th>PROPN</th>\n      <th>NUM</th>\n      <th>SPACE</th>\n      <th>INTJ</th>\n      <th>SYM</th>\n      <th>X</th>\n      <th>reviewLength</th>\n      <th>summaryLength</th>\n    </tr>\n  </thead>\n  <tbody>\n    <tr>\n      <th>0</th>\n      <td>1</td>\n      <td>1</td>\n      <td>Truly hate it when I make a bad call on a book...</td>\n      <td>Juvenile</td>\n      <td>1419638400</td>\n      <td>0</td>\n      <td>0</td>\n      <td>truly hate bad book waste money . honestly fin...</td>\n      <td>truly hate bad book waste money . honestly fin...</td>\n      <td>4.0</td>\n      <td>...</td>\n      <td>2.0</td>\n      <td>2.0</td>\n      <td>2.0</td>\n      <td>1.0</td>\n      <td>0.0</td>\n      <td>0.0</td>\n      <td>0.0</td>\n      <td>0.0</td>\n      <td>272</td>\n      <td>8</td>\n    </tr>\n    <tr>\n      <th>1</th>\n      <td>1</td>\n      <td>0</td>\n      <td>Only 4% of this book is the discretion it isn'...</td>\n      <td>Not worth your time</td>\n      <td>1466812800</td>\n      <td>0</td>\n      <td>0</td>\n      <td>4 % book discretion worth time money . say 800...</td>\n      <td>4 % book discretion worth time money . say 800...</td>\n      <td>1.0</td>\n      <td>...</td>\n      <td>3.0</td>\n      <td>2.0</td>\n      <td>0.0</td>\n      <td>2.0</td>\n      <td>0.0</td>\n      <td>0.0</td>\n      <td>0.0</td>\n      <td>0.0</td>\n      <td>106</td>\n      <td>19</td>\n    </tr>\n    <tr>\n      <th>2</th>\n      <td>1</td>\n      <td>1</td>\n      <td>The quality of writing for this book is very p...</td>\n      <td>poor quality</td>\n      <td>1368403200</td>\n      <td>0</td>\n      <td>0</td>\n      <td>quality writing book poor .   understand insta...</td>\n      <td>quality writing book poor .   understand insta...</td>\n      <td>6.0</td>\n      <td>...</td>\n      <td>9.0</td>\n      <td>3.0</td>\n      <td>0.0</td>\n      <td>0.0</td>\n      <td>3.0</td>\n      <td>0.0</td>\n      <td>0.0</td>\n      <td>0.0</td>\n      <td>425</td>\n      <td>12</td>\n    </tr>\n    <tr>\n      <th>3</th>\n      <td>1</td>\n      <td>1</td>\n      <td>The Outback is the vast, remote, arid area of ...</td>\n      <td>Outback is in AUSTRALIA!!!</td>\n      <td>1336608000</td>\n      <td>0</td>\n      <td>0</td>\n      <td>Outback vast , remote , arid area Australia ac...</td>\n      <td>Outback vast , remote , arid area Australia ac...</td>\n      <td>1.0</td>\n      <td>...</td>\n      <td>3.0</td>\n      <td>0.0</td>\n      <td>3.0</td>\n      <td>0.0</td>\n      <td>2.0</td>\n      <td>0.0</td>\n      <td>0.0</td>\n      <td>0.0</td>\n      <td>145</td>\n      <td>26</td>\n    </tr>\n    <tr>\n      <th>4</th>\n      <td>1</td>\n      <td>1</td>\n      <td>Grace Burrowes lives within a few miles of me,...</td>\n      <td>Not as good as its progenitor</td>\n      <td>1378252800</td>\n      <td>0</td>\n      <td>0</td>\n      <td>Grace Burrowes live mile , want tell enjoy Gro...</td>\n      <td>Grace Burrowes live mile , want tell enjoy Gro...</td>\n      <td>13.0</td>\n      <td>...</td>\n      <td>12.0</td>\n      <td>13.0</td>\n      <td>27.0</td>\n      <td>3.0</td>\n      <td>9.0</td>\n      <td>0.0</td>\n      <td>0.0</td>\n      <td>0.0</td>\n      <td>1235</td>\n      <td>29</td>\n    </tr>\n  </tbody>\n</table>\n<p>5 rows × 29 columns</p>\n</div>"
     },
     "execution_count": 16,
     "metadata": {},
     "output_type": "execute_result"
    }
   ],
   "source": [
    "df.head()"
   ]
  },
  {
   "cell_type": "markdown",
   "metadata": {
    "collapsed": false
   },
   "source": [
    "# Basic Model"
   ]
  },
  {
   "cell_type": "code",
   "execution_count": 17,
   "metadata": {
    "collapsed": false,
    "ExecuteTime": {
     "end_time": "2023-12-13T00:04:35.724296Z",
     "start_time": "2023-12-13T00:04:32.524307Z"
    }
   },
   "outputs": [
    {
     "name": "stdout",
     "output_type": "stream",
     "text": [
      "Accuracy of the RandomForestClassifier: 0.2205\n",
      "Micro-averaged F1 score on test set: 0.220\n"
     ]
    },
    {
     "data": {
      "text/plain": "<Figure size 640x480 with 2 Axes>",
      "image/png": "[encoded data removed]"
     },
     "metadata": {},
     "output_type": "display_data"
    }
   ],
   "source": [
    "from sklearn.model_selection import train_test_split\n",
    "from sklearn.metrics import f1_score\n",
    "from sklearn.ensemble import  RandomForestClassifier\n",
    "from sklearn.metrics import confusion_matrix, ConfusionMatrixDisplay\n",
    "from sklearn.compose import ColumnTransformer\n",
    "import matplotlib.pyplot as plt\n",
    "\n",
    "basic_X = df[['image', 'verified', 'vote']]\n",
    "basic_y = df['overall']\n",
    "basic_X_train, basic_X_test, basic_y_train, basic_y_test = train_test_split(basic_X, basic_y, random_state=55)\n",
    "\n",
    "rf_model = RandomForestClassifier()\n",
    "rf_model.fit(basic_X_train, basic_y_train)\n",
    "rf_reg_y_test_pred = rf_model.predict(basic_X_test)\n",
    "\n",
    "rf_model_accuracy = rf_model.score(basic_X_test, basic_y_test)\n",
    "print(f\"Accuracy of the RandomForestClassifier: {rf_model_accuracy:.4f}\")\n",
    "print(\"Micro-averaged F1 score on test set: %0.3f\" % f1_score(basic_y_test, rf_reg_y_test_pred, average=\"micro\"))\n",
    "\n",
    "cm = confusion_matrix(basic_y_test, rf_reg_y_test_pred, normalize='true')\n",
    "disp = ConfusionMatrixDisplay(confusion_matrix=cm)\n",
    "disp.plot(cmap='inferno')\n",
    "plt.grid(None)"
   ]
  },
  {
   "cell_type": "code",
   "execution_count": 18,
   "outputs": [
    {
     "name": "stdout",
     "output_type": "stream",
     "text": [
      "Accuracy of the RandomForestClassifier: 0.2900\n",
      "Micro-averaged F1 score on test set: 0.290\n"
     ]
    },
    {
     "data": {
      "text/plain": "<Figure size 640x480 with 2 Axes>",
      "image/png": "[encoded data removed]"
     },
     "metadata": {},
     "output_type": "display_data"
    }
   ],
   "source": [
    "from sklearn.model_selection import train_test_split\n",
    "from sklearn.metrics import f1_score\n",
    "from sklearn.ensemble import  RandomForestClassifier\n",
    "from sklearn.metrics import confusion_matrix, ConfusionMatrixDisplay\n",
    "from sklearn.compose import ColumnTransformer\n",
    "import matplotlib.pyplot as plt\n",
    "\n",
    "basic_X = df[['summaryLength']]\n",
    "basic_y = df['overall']\n",
    "basic_X_train, basic_X_test, basic_y_train, basic_y_test = train_test_split(basic_X, basic_y, random_state=55)\n",
    "\n",
    "rf_model = RandomForestClassifier()\n",
    "rf_model.fit(basic_X_train, basic_y_train)\n",
    "rf_reg_y_test_pred = rf_model.predict(basic_X_test)\n",
    "\n",
    "rf_model_accuracy = rf_model.score(basic_X_test, basic_y_test)\n",
    "print(f\"Accuracy of the RandomForestClassifier: {rf_model_accuracy:.4f}\")\n",
    "print(\"Micro-averaged F1 score on test set: %0.3f\" % f1_score(basic_y_test, rf_reg_y_test_pred, average=\"micro\"))\n",
    "\n",
    "cm = confusion_matrix(basic_y_test, rf_reg_y_test_pred, normalize='true')\n",
    "disp = ConfusionMatrixDisplay(confusion_matrix=cm)\n",
    "disp.plot(cmap='inferno')\n",
    "plt.grid(None)"
   ],
   "metadata": {
    "collapsed": false,
    "ExecuteTime": {
     "end_time": "2023-12-13T00:04:39.315073Z",
     "start_time": "2023-12-13T00:04:35.729936Z"
    }
   }
  },
  {
   "cell_type": "code",
   "execution_count": 19,
   "outputs": [
    {
     "name": "stdout",
     "output_type": "stream",
     "text": [
      "Accuracy of the RandomForestClassifier: 0.2112\n",
      "Micro-averaged F1 score on test set: 0.211\n"
     ]
    },
    {
     "data": {
      "text/plain": "<Figure size 640x480 with 2 Axes>",
      "image/png": "[encoded data removed]"
     },
     "metadata": {},
     "output_type": "display_data"
    }
   ],
   "source": [
    "from sklearn.model_selection import train_test_split\n",
    "from sklearn.metrics import f1_score\n",
    "from sklearn.ensemble import  RandomForestClassifier\n",
    "from sklearn.metrics import confusion_matrix, ConfusionMatrixDisplay\n",
    "from sklearn.compose import ColumnTransformer\n",
    "import matplotlib.pyplot as plt\n",
    "\n",
    "basic_X = df[['reviewLength']]\n",
    "basic_y = df['overall']\n",
    "basic_X_train, basic_X_test, basic_y_train, basic_y_test = train_test_split(basic_X, basic_y, random_state=55)\n",
    "\n",
    "rf_model = RandomForestClassifier()\n",
    "rf_model.fit(basic_X_train, basic_y_train)\n",
    "rf_reg_y_test_pred = rf_model.predict(basic_X_test)\n",
    "\n",
    "rf_model_accuracy = rf_model.score(basic_X_test, basic_y_test)\n",
    "print(f\"Accuracy of the RandomForestClassifier: {rf_model_accuracy:.4f}\")\n",
    "print(\"Micro-averaged F1 score on test set: %0.3f\" % f1_score(basic_y_test, rf_reg_y_test_pred, average=\"micro\"))\n",
    "\n",
    "cm = confusion_matrix(basic_y_test, rf_reg_y_test_pred, normalize='true')\n",
    "disp = ConfusionMatrixDisplay(confusion_matrix=cm)\n",
    "disp.plot(cmap='inferno')\n",
    "plt.grid(None)"
   ],
   "metadata": {
    "collapsed": false,
    "ExecuteTime": {
     "end_time": "2023-12-13T00:04:47.306021Z",
     "start_time": "2023-12-13T00:04:39.317233Z"
    }
   }
  },
  {
   "cell_type": "code",
   "execution_count": 20,
   "outputs": [
    {
     "ename": "KeyboardInterrupt",
     "evalue": "",
     "output_type": "error",
     "traceback": [
      "\u001B[0;31m---------------------------------------------------------------------------\u001B[0m",
      "\u001B[0;31mKeyboardInterrupt\u001B[0m                         Traceback (most recent call last)",
      "Cell \u001B[0;32mIn[20], line 16\u001B[0m\n\u001B[1;32m     13\u001B[0m rf_model\u001B[38;5;241m.\u001B[39mfit(basic_X_train, basic_y_train)\n\u001B[1;32m     14\u001B[0m rf_reg_y_test_pred \u001B[38;5;241m=\u001B[39m rf_model\u001B[38;5;241m.\u001B[39mpredict(basic_X_test)\n\u001B[0;32m---> 16\u001B[0m rf_model_accuracy \u001B[38;5;241m=\u001B[39m \u001B[43mrf_model\u001B[49m\u001B[38;5;241;43m.\u001B[39;49m\u001B[43mscore\u001B[49m\u001B[43m(\u001B[49m\u001B[43mbasic_X_test\u001B[49m\u001B[43m,\u001B[49m\u001B[43m \u001B[49m\u001B[43mbasic_y_test\u001B[49m\u001B[43m)\u001B[49m\n\u001B[1;32m     17\u001B[0m \u001B[38;5;28mprint\u001B[39m(\u001B[38;5;124mf\u001B[39m\u001B[38;5;124m\"\u001B[39m\u001B[38;5;124mAccuracy of the RandomForestClassifier: \u001B[39m\u001B[38;5;132;01m{\u001B[39;00mrf_model_accuracy\u001B[38;5;132;01m:\u001B[39;00m\u001B[38;5;124m.4f\u001B[39m\u001B[38;5;132;01m}\u001B[39;00m\u001B[38;5;124m\"\u001B[39m)\n\u001B[1;32m     18\u001B[0m \u001B[38;5;28mprint\u001B[39m(\u001B[38;5;124m\"\u001B[39m\u001B[38;5;124mMicro-averaged F1 score on test set: \u001B[39m\u001B[38;5;132;01m%0.3f\u001B[39;00m\u001B[38;5;124m\"\u001B[39m \u001B[38;5;241m%\u001B[39m f1_score(basic_y_test, rf_reg_y_test_pred, average\u001B[38;5;241m=\u001B[39m\u001B[38;5;124m\"\u001B[39m\u001B[38;5;124mmicro\u001B[39m\u001B[38;5;124m\"\u001B[39m))\n",
      "File \u001B[0;32m~/csc5610/lib/python3.11/site-packages/sklearn/base.py:706\u001B[0m, in \u001B[0;36mClassifierMixin.score\u001B[0;34m(self, X, y, sample_weight)\u001B[0m\n\u001B[1;32m    681\u001B[0m \u001B[38;5;250m\u001B[39m\u001B[38;5;124;03m\"\"\"\u001B[39;00m\n\u001B[1;32m    682\u001B[0m \u001B[38;5;124;03mReturn the mean accuracy on the given test data and labels.\u001B[39;00m\n\u001B[1;32m    683\u001B[0m \n\u001B[0;32m   (...)\u001B[0m\n\u001B[1;32m    702\u001B[0m \u001B[38;5;124;03m    Mean accuracy of ``self.predict(X)`` w.r.t. `y`.\u001B[39;00m\n\u001B[1;32m    703\u001B[0m \u001B[38;5;124;03m\"\"\"\u001B[39;00m\n\u001B[1;32m    704\u001B[0m \u001B[38;5;28;01mfrom\u001B[39;00m \u001B[38;5;21;01m.\u001B[39;00m\u001B[38;5;21;01mmetrics\u001B[39;00m \u001B[38;5;28;01mimport\u001B[39;00m accuracy_score\n\u001B[0;32m--> 706\u001B[0m \u001B[38;5;28;01mreturn\u001B[39;00m accuracy_score(y, \u001B[38;5;28;43mself\u001B[39;49m\u001B[38;5;241;43m.\u001B[39;49m\u001B[43mpredict\u001B[49m\u001B[43m(\u001B[49m\u001B[43mX\u001B[49m\u001B[43m)\u001B[49m, sample_weight\u001B[38;5;241m=\u001B[39msample_weight)\n",
      "File \u001B[0;32m~/csc5610/lib/python3.11/site-packages/sklearn/ensemble/_forest.py:823\u001B[0m, in \u001B[0;36mForestClassifier.predict\u001B[0;34m(self, X)\u001B[0m\n\u001B[1;32m    802\u001B[0m \u001B[38;5;28;01mdef\u001B[39;00m \u001B[38;5;21mpredict\u001B[39m(\u001B[38;5;28mself\u001B[39m, X):\n\u001B[1;32m    803\u001B[0m \u001B[38;5;250m    \u001B[39m\u001B[38;5;124;03m\"\"\"\u001B[39;00m\n\u001B[1;32m    804\u001B[0m \u001B[38;5;124;03m    Predict class for X.\u001B[39;00m\n\u001B[1;32m    805\u001B[0m \n\u001B[0;32m   (...)\u001B[0m\n\u001B[1;32m    821\u001B[0m \u001B[38;5;124;03m        The predicted classes.\u001B[39;00m\n\u001B[1;32m    822\u001B[0m \u001B[38;5;124;03m    \"\"\"\u001B[39;00m\n\u001B[0;32m--> 823\u001B[0m     proba \u001B[38;5;241m=\u001B[39m \u001B[38;5;28;43mself\u001B[39;49m\u001B[38;5;241;43m.\u001B[39;49m\u001B[43mpredict_proba\u001B[49m\u001B[43m(\u001B[49m\u001B[43mX\u001B[49m\u001B[43m)\u001B[49m\n\u001B[1;32m    825\u001B[0m     \u001B[38;5;28;01mif\u001B[39;00m \u001B[38;5;28mself\u001B[39m\u001B[38;5;241m.\u001B[39mn_outputs_ \u001B[38;5;241m==\u001B[39m \u001B[38;5;241m1\u001B[39m:\n\u001B[1;32m    826\u001B[0m         \u001B[38;5;28;01mreturn\u001B[39;00m \u001B[38;5;28mself\u001B[39m\u001B[38;5;241m.\u001B[39mclasses_\u001B[38;5;241m.\u001B[39mtake(np\u001B[38;5;241m.\u001B[39margmax(proba, axis\u001B[38;5;241m=\u001B[39m\u001B[38;5;241m1\u001B[39m), axis\u001B[38;5;241m=\u001B[39m\u001B[38;5;241m0\u001B[39m)\n",
      "File \u001B[0;32m~/csc5610/lib/python3.11/site-packages/sklearn/ensemble/_forest.py:876\u001B[0m, in \u001B[0;36mForestClassifier.predict_proba\u001B[0;34m(self, X)\u001B[0m\n\u001B[1;32m    871\u001B[0m all_proba \u001B[38;5;241m=\u001B[39m [\n\u001B[1;32m    872\u001B[0m     np\u001B[38;5;241m.\u001B[39mzeros((X\u001B[38;5;241m.\u001B[39mshape[\u001B[38;5;241m0\u001B[39m], j), dtype\u001B[38;5;241m=\u001B[39mnp\u001B[38;5;241m.\u001B[39mfloat64)\n\u001B[1;32m    873\u001B[0m     \u001B[38;5;28;01mfor\u001B[39;00m j \u001B[38;5;129;01min\u001B[39;00m np\u001B[38;5;241m.\u001B[39matleast_1d(\u001B[38;5;28mself\u001B[39m\u001B[38;5;241m.\u001B[39mn_classes_)\n\u001B[1;32m    874\u001B[0m ]\n\u001B[1;32m    875\u001B[0m lock \u001B[38;5;241m=\u001B[39m threading\u001B[38;5;241m.\u001B[39mLock()\n\u001B[0;32m--> 876\u001B[0m \u001B[43mParallel\u001B[49m\u001B[43m(\u001B[49m\u001B[43mn_jobs\u001B[49m\u001B[38;5;241;43m=\u001B[39;49m\u001B[43mn_jobs\u001B[49m\u001B[43m,\u001B[49m\u001B[43m \u001B[49m\u001B[43mverbose\u001B[49m\u001B[38;5;241;43m=\u001B[39;49m\u001B[38;5;28;43mself\u001B[39;49m\u001B[38;5;241;43m.\u001B[39;49m\u001B[43mverbose\u001B[49m\u001B[43m,\u001B[49m\u001B[43m \u001B[49m\u001B[43mrequire\u001B[49m\u001B[38;5;241;43m=\u001B[39;49m\u001B[38;5;124;43m\"\u001B[39;49m\u001B[38;5;124;43msharedmem\u001B[39;49m\u001B[38;5;124;43m\"\u001B[39;49m\u001B[43m)\u001B[49m\u001B[43m(\u001B[49m\n\u001B[1;32m    877\u001B[0m \u001B[43m    \u001B[49m\u001B[43mdelayed\u001B[49m\u001B[43m(\u001B[49m\u001B[43m_accumulate_prediction\u001B[49m\u001B[43m)\u001B[49m\u001B[43m(\u001B[49m\u001B[43me\u001B[49m\u001B[38;5;241;43m.\u001B[39;49m\u001B[43mpredict_proba\u001B[49m\u001B[43m,\u001B[49m\u001B[43m \u001B[49m\u001B[43mX\u001B[49m\u001B[43m,\u001B[49m\u001B[43m \u001B[49m\u001B[43mall_proba\u001B[49m\u001B[43m,\u001B[49m\u001B[43m \u001B[49m\u001B[43mlock\u001B[49m\u001B[43m)\u001B[49m\n\u001B[1;32m    878\u001B[0m \u001B[43m    \u001B[49m\u001B[38;5;28;43;01mfor\u001B[39;49;00m\u001B[43m \u001B[49m\u001B[43me\u001B[49m\u001B[43m \u001B[49m\u001B[38;5;129;43;01min\u001B[39;49;00m\u001B[43m \u001B[49m\u001B[38;5;28;43mself\u001B[39;49m\u001B[38;5;241;43m.\u001B[39;49m\u001B[43mestimators_\u001B[49m\n\u001B[1;32m    879\u001B[0m \u001B[43m\u001B[49m\u001B[43m)\u001B[49m\n\u001B[1;32m    881\u001B[0m \u001B[38;5;28;01mfor\u001B[39;00m proba \u001B[38;5;129;01min\u001B[39;00m all_proba:\n\u001B[1;32m    882\u001B[0m     proba \u001B[38;5;241m/\u001B[39m\u001B[38;5;241m=\u001B[39m \u001B[38;5;28mlen\u001B[39m(\u001B[38;5;28mself\u001B[39m\u001B[38;5;241m.\u001B[39mestimators_)\n",
      "File \u001B[0;32m~/csc5610/lib/python3.11/site-packages/sklearn/utils/parallel.py:65\u001B[0m, in \u001B[0;36mParallel.__call__\u001B[0;34m(self, iterable)\u001B[0m\n\u001B[1;32m     60\u001B[0m config \u001B[38;5;241m=\u001B[39m get_config()\n\u001B[1;32m     61\u001B[0m iterable_with_config \u001B[38;5;241m=\u001B[39m (\n\u001B[1;32m     62\u001B[0m     (_with_config(delayed_func, config), args, kwargs)\n\u001B[1;32m     63\u001B[0m     \u001B[38;5;28;01mfor\u001B[39;00m delayed_func, args, kwargs \u001B[38;5;129;01min\u001B[39;00m iterable\n\u001B[1;32m     64\u001B[0m )\n\u001B[0;32m---> 65\u001B[0m \u001B[38;5;28;01mreturn\u001B[39;00m \u001B[38;5;28;43msuper\u001B[39;49m\u001B[43m(\u001B[49m\u001B[43m)\u001B[49m\u001B[38;5;241;43m.\u001B[39;49m\u001B[38;5;21;43m__call__\u001B[39;49m\u001B[43m(\u001B[49m\u001B[43miterable_with_config\u001B[49m\u001B[43m)\u001B[49m\n",
      "File \u001B[0;32m~/csc5610/lib/python3.11/site-packages/joblib/parallel.py:1863\u001B[0m, in \u001B[0;36mParallel.__call__\u001B[0;34m(self, iterable)\u001B[0m\n\u001B[1;32m   1861\u001B[0m     output \u001B[38;5;241m=\u001B[39m \u001B[38;5;28mself\u001B[39m\u001B[38;5;241m.\u001B[39m_get_sequential_output(iterable)\n\u001B[1;32m   1862\u001B[0m     \u001B[38;5;28mnext\u001B[39m(output)\n\u001B[0;32m-> 1863\u001B[0m     \u001B[38;5;28;01mreturn\u001B[39;00m output \u001B[38;5;28;01mif\u001B[39;00m \u001B[38;5;28mself\u001B[39m\u001B[38;5;241m.\u001B[39mreturn_generator \u001B[38;5;28;01melse\u001B[39;00m \u001B[38;5;28mlist\u001B[39m(output)\n\u001B[1;32m   1865\u001B[0m \u001B[38;5;66;03m# Let's create an ID that uniquely identifies the current call. If the\u001B[39;00m\n\u001B[1;32m   1866\u001B[0m \u001B[38;5;66;03m# call is interrupted early and that the same instance is immediately\u001B[39;00m\n\u001B[1;32m   1867\u001B[0m \u001B[38;5;66;03m# re-used, this id will be used to prevent workers that were\u001B[39;00m\n\u001B[1;32m   1868\u001B[0m \u001B[38;5;66;03m# concurrently finalizing a task from the previous call to run the\u001B[39;00m\n\u001B[1;32m   1869\u001B[0m \u001B[38;5;66;03m# callback.\u001B[39;00m\n\u001B[1;32m   1870\u001B[0m \u001B[38;5;28;01mwith\u001B[39;00m \u001B[38;5;28mself\u001B[39m\u001B[38;5;241m.\u001B[39m_lock:\n",
      "File \u001B[0;32m~/csc5610/lib/python3.11/site-packages/joblib/parallel.py:1792\u001B[0m, in \u001B[0;36mParallel._get_sequential_output\u001B[0;34m(self, iterable)\u001B[0m\n\u001B[1;32m   1790\u001B[0m \u001B[38;5;28mself\u001B[39m\u001B[38;5;241m.\u001B[39mn_dispatched_batches \u001B[38;5;241m+\u001B[39m\u001B[38;5;241m=\u001B[39m \u001B[38;5;241m1\u001B[39m\n\u001B[1;32m   1791\u001B[0m \u001B[38;5;28mself\u001B[39m\u001B[38;5;241m.\u001B[39mn_dispatched_tasks \u001B[38;5;241m+\u001B[39m\u001B[38;5;241m=\u001B[39m \u001B[38;5;241m1\u001B[39m\n\u001B[0;32m-> 1792\u001B[0m res \u001B[38;5;241m=\u001B[39m \u001B[43mfunc\u001B[49m\u001B[43m(\u001B[49m\u001B[38;5;241;43m*\u001B[39;49m\u001B[43margs\u001B[49m\u001B[43m,\u001B[49m\u001B[43m \u001B[49m\u001B[38;5;241;43m*\u001B[39;49m\u001B[38;5;241;43m*\u001B[39;49m\u001B[43mkwargs\u001B[49m\u001B[43m)\u001B[49m\n\u001B[1;32m   1793\u001B[0m \u001B[38;5;28mself\u001B[39m\u001B[38;5;241m.\u001B[39mn_completed_tasks \u001B[38;5;241m+\u001B[39m\u001B[38;5;241m=\u001B[39m \u001B[38;5;241m1\u001B[39m\n\u001B[1;32m   1794\u001B[0m \u001B[38;5;28mself\u001B[39m\u001B[38;5;241m.\u001B[39mprint_progress()\n",
      "File \u001B[0;32m~/csc5610/lib/python3.11/site-packages/sklearn/utils/parallel.py:127\u001B[0m, in \u001B[0;36m_FuncWrapper.__call__\u001B[0;34m(self, *args, **kwargs)\u001B[0m\n\u001B[1;32m    125\u001B[0m     config \u001B[38;5;241m=\u001B[39m {}\n\u001B[1;32m    126\u001B[0m \u001B[38;5;28;01mwith\u001B[39;00m config_context(\u001B[38;5;241m*\u001B[39m\u001B[38;5;241m*\u001B[39mconfig):\n\u001B[0;32m--> 127\u001B[0m     \u001B[38;5;28;01mreturn\u001B[39;00m \u001B[38;5;28;43mself\u001B[39;49m\u001B[38;5;241;43m.\u001B[39;49m\u001B[43mfunction\u001B[49m\u001B[43m(\u001B[49m\u001B[38;5;241;43m*\u001B[39;49m\u001B[43margs\u001B[49m\u001B[43m,\u001B[49m\u001B[43m \u001B[49m\u001B[38;5;241;43m*\u001B[39;49m\u001B[38;5;241;43m*\u001B[39;49m\u001B[43mkwargs\u001B[49m\u001B[43m)\u001B[49m\n",
      "File \u001B[0;32m~/csc5610/lib/python3.11/site-packages/sklearn/ensemble/_forest.py:647\u001B[0m, in \u001B[0;36m_accumulate_prediction\u001B[0;34m(predict, X, out, lock)\u001B[0m\n\u001B[1;32m    640\u001B[0m \u001B[38;5;28;01mdef\u001B[39;00m \u001B[38;5;21m_accumulate_prediction\u001B[39m(predict, X, out, lock):\n\u001B[1;32m    641\u001B[0m \u001B[38;5;250m    \u001B[39m\u001B[38;5;124;03m\"\"\"\u001B[39;00m\n\u001B[1;32m    642\u001B[0m \u001B[38;5;124;03m    This is a utility function for joblib's Parallel.\u001B[39;00m\n\u001B[1;32m    643\u001B[0m \n\u001B[1;32m    644\u001B[0m \u001B[38;5;124;03m    It can't go locally in ForestClassifier or ForestRegressor, because joblib\u001B[39;00m\n\u001B[1;32m    645\u001B[0m \u001B[38;5;124;03m    complains that it cannot pickle it when placed there.\u001B[39;00m\n\u001B[1;32m    646\u001B[0m \u001B[38;5;124;03m    \"\"\"\u001B[39;00m\n\u001B[0;32m--> 647\u001B[0m     prediction \u001B[38;5;241m=\u001B[39m \u001B[43mpredict\u001B[49m\u001B[43m(\u001B[49m\u001B[43mX\u001B[49m\u001B[43m,\u001B[49m\u001B[43m \u001B[49m\u001B[43mcheck_input\u001B[49m\u001B[38;5;241;43m=\u001B[39;49m\u001B[38;5;28;43;01mFalse\u001B[39;49;00m\u001B[43m)\u001B[49m\n\u001B[1;32m    648\u001B[0m     \u001B[38;5;28;01mwith\u001B[39;00m lock:\n\u001B[1;32m    649\u001B[0m         \u001B[38;5;28;01mif\u001B[39;00m \u001B[38;5;28mlen\u001B[39m(out) \u001B[38;5;241m==\u001B[39m \u001B[38;5;241m1\u001B[39m:\n",
      "File \u001B[0;32m~/csc5610/lib/python3.11/site-packages/sklearn/tree/_classes.py:993\u001B[0m, in \u001B[0;36mDecisionTreeClassifier.predict_proba\u001B[0;34m(self, X, check_input)\u001B[0m\n\u001B[1;32m    991\u001B[0m check_is_fitted(\u001B[38;5;28mself\u001B[39m)\n\u001B[1;32m    992\u001B[0m X \u001B[38;5;241m=\u001B[39m \u001B[38;5;28mself\u001B[39m\u001B[38;5;241m.\u001B[39m_validate_X_predict(X, check_input)\n\u001B[0;32m--> 993\u001B[0m proba \u001B[38;5;241m=\u001B[39m \u001B[38;5;28mself\u001B[39m\u001B[38;5;241m.\u001B[39mtree_\u001B[38;5;241m.\u001B[39mpredict(X)\n\u001B[1;32m    995\u001B[0m \u001B[38;5;28;01mif\u001B[39;00m \u001B[38;5;28mself\u001B[39m\u001B[38;5;241m.\u001B[39mn_outputs_ \u001B[38;5;241m==\u001B[39m \u001B[38;5;241m1\u001B[39m:\n\u001B[1;32m    996\u001B[0m     proba \u001B[38;5;241m=\u001B[39m proba[:, : \u001B[38;5;28mself\u001B[39m\u001B[38;5;241m.\u001B[39mn_classes_]\n",
      "\u001B[0;31mKeyboardInterrupt\u001B[0m: "
     ]
    }
   ],
   "source": [
    "from sklearn.model_selection import train_test_split\n",
    "from sklearn.metrics import f1_score\n",
    "from sklearn.ensemble import  RandomForestClassifier\n",
    "from sklearn.metrics import confusion_matrix, ConfusionMatrixDisplay\n",
    "from sklearn.compose import ColumnTransformer\n",
    "import matplotlib.pyplot as plt\n",
    "\n",
    "basic_X = df[speech_count_columns]\n",
    "basic_y = df['overall']\n",
    "basic_X_train, basic_X_test, basic_y_train, basic_y_test = train_test_split(basic_X, basic_y, random_state=55)\n",
    "\n",
    "rf_model = RandomForestClassifier()\n",
    "rf_model.fit(basic_X_train, basic_y_train)\n",
    "rf_reg_y_test_pred = rf_model.predict(basic_X_test)\n",
    "\n",
    "rf_model_accuracy = rf_model.score(basic_X_test, basic_y_test)\n",
    "print(f\"Accuracy of the RandomForestClassifier: {rf_model_accuracy:.4f}\")\n",
    "print(\"Micro-averaged F1 score on test set: %0.3f\" % f1_score(basic_y_test, rf_reg_y_test_pred, average=\"micro\"))\n",
    "\n",
    "cm = confusion_matrix(basic_y_test, rf_reg_y_test_pred, normalize='true')\n",
    "disp = ConfusionMatrixDisplay(confusion_matrix=cm)\n",
    "disp.plot(cmap='inferno')\n",
    "plt.grid(None)"
   ],
   "metadata": {
    "collapsed": false,
    "ExecuteTime": {
     "end_time": "2023-12-13T00:05:03.341209Z",
     "start_time": "2023-12-13T00:04:47.319400Z"
    }
   }
  },
  {
   "cell_type": "code",
   "execution_count": null,
   "outputs": [],
   "source": [
    "from sklearn.model_selection import train_test_split\n",
    "from sklearn.metrics import f1_score\n",
    "from sklearn.ensemble import  RandomForestClassifier\n",
    "from sklearn.metrics import confusion_matrix, ConfusionMatrixDisplay\n",
    "from sklearn.compose import ColumnTransformer\n",
    "import matplotlib.pyplot as plt\n",
    "\n",
    "basic_X = df[speech_count_columns + ['summaryLength']]\n",
    "basic_y = df['overall']\n",
    "basic_X_train, basic_X_test, basic_y_train, basic_y_test = train_test_split(basic_X, basic_y, random_state=55)\n",
    "\n",
    "rf_model = RandomForestClassifier()\n",
    "rf_model.fit(basic_X_train, basic_y_train)\n",
    "rf_reg_y_test_pred = rf_model.predict(basic_X_test)\n",
    "\n",
    "rf_model_accuracy = rf_model.score(basic_X_test, basic_y_test)\n",
    "print(f\"Accuracy of the RandomForestClassifier: {rf_model_accuracy:.4f}\")\n",
    "print(\"Micro-averaged F1 score on test set: %0.3f\" % f1_score(basic_y_test, rf_reg_y_test_pred, average=\"micro\"))\n",
    "\n",
    "cm = confusion_matrix(basic_y_test, rf_reg_y_test_pred, normalize='true')\n",
    "disp = ConfusionMatrixDisplay(confusion_matrix=cm)\n",
    "disp.plot(cmap='inferno')\n",
    "plt.grid(None)"
   ],
   "metadata": {
    "collapsed": false,
    "ExecuteTime": {
     "start_time": "2023-12-13T00:05:03.340792Z"
    }
   }
  },
  {
   "cell_type": "code",
   "execution_count": null,
   "outputs": [],
   "source": [
    "from sklearn.model_selection import train_test_split\n",
    "from sklearn.metrics import f1_score\n",
    "from sklearn.ensemble import  RandomForestClassifier\n",
    "from sklearn.metrics import confusion_matrix, ConfusionMatrixDisplay\n",
    "from sklearn.compose import ColumnTransformer\n",
    "import matplotlib.pyplot as plt\n",
    "\n",
    "basic_X = df[speech_count_columns + ['summaryLength', 'reviewLength', 'unixReviewTime', 'vote', 'image', 'verified']]\n",
    "basic_y = df['overall']\n",
    "basic_X_train, basic_X_test, basic_y_train, basic_y_test = train_test_split(basic_X, basic_y, random_state=55)\n",
    "\n",
    "rf_model = RandomForestClassifier()\n",
    "rf_model.fit(basic_X_train, basic_y_train)\n",
    "rf_reg_y_test_pred = rf_model.predict(basic_X_test)\n",
    "\n",
    "rf_model_accuracy = rf_model.score(basic_X_test, basic_y_test)\n",
    "print(f\"Accuracy of the RandomForestClassifier: {rf_model_accuracy:.4f}\")\n",
    "print(\"Micro-averaged F1 score on test set: %0.3f\" % f1_score(basic_y_test, rf_reg_y_test_pred, average=\"micro\"))\n",
    "\n",
    "cm = confusion_matrix(basic_y_test, rf_reg_y_test_pred, normalize='true')\n",
    "disp = ConfusionMatrixDisplay(confusion_matrix=cm)\n",
    "disp.plot(cmap='inferno')\n",
    "plt.grid(None)"
   ],
   "metadata": {
    "collapsed": false,
    "ExecuteTime": {
     "start_time": "2023-12-13T00:05:03.342788Z"
    }
   }
  },
  {
   "cell_type": "code",
   "execution_count": null,
   "metadata": {
    "collapsed": false,
    "ExecuteTime": {
     "end_time": "2023-12-13T00:05:03.348680Z",
     "start_time": "2023-12-13T00:05:03.345665Z"
    }
   },
   "outputs": [],
   "source": [
    "from sklearn.preprocessing import StandardScaler\n",
    "from sklearn.compose import ColumnTransformer\n",
    "\n",
    "dont_scale_columns = ['image', 'verified']\n",
    "scale_columns = speech_count_columns + ['summaryLength', 'reviewLength', 'unixReviewTime', 'vote']\n",
    "\n",
    "preprocessor = ColumnTransformer(\n",
    "    [\n",
    "        (\"scaler\", StandardScaler(), scale_columns)\n",
    "    ],\n",
    "    verbose_feature_names_out=False,\n",
    "    remainder='passthrough'\n",
    ").set_output(transform=\"pandas\")\n",
    "\n",
    "basic_X_scaled = preprocessor.fit_transform(df[scale_columns + dont_scale_columns])\n",
    "\n",
    "basic_X_train, basic_X_test, basic_y_train, basic_y_test = train_test_split(basic_X_scaled, basic_y, random_state=55)\n",
    "\n",
    "rf_model = RandomForestClassifier()\n",
    "rf_model.fit(basic_X_train, basic_y_train)\n",
    "rf_reg_y_test_pred = rf_model.predict(basic_X_test)\n",
    "\n",
    "rf_model_accuracy = rf_model.score(basic_X_test, basic_y_test)\n",
    "print(f\"Accuracy of the RandomForestClassifier: {rf_model_accuracy:.4f}\")\n",
    "print(\"Micro-averaged F1 score on test set: %0.3f\" % f1_score(basic_y_test, rf_reg_y_test_pred, average=\"micro\"))\n",
    "\n",
    "cm = confusion_matrix(basic_y_test, rf_reg_y_test_pred, normalize='true')\n",
    "disp = ConfusionMatrixDisplay(confusion_matrix=cm)\n",
    "disp.plot(cmap='inferno')\n",
    "plt.grid(None)\n",
    "plt.show()"
   ]
  },
  {
   "cell_type": "code",
   "execution_count": null,
   "metadata": {
    "collapsed": false,
    "ExecuteTime": {
     "start_time": "2023-12-13T00:05:03.348259Z"
    }
   },
   "outputs": [],
   "source": [
    "from sklearn.preprocessing import StandardScaler, KBinsDiscretizer\n",
    "from sklearn.compose import ColumnTransformer\n",
    "import pandas as pd\n",
    "\n",
    "dont_bin_columns = ['image', 'verified']\n",
    "bin_columns = speech_count_columns + ['summaryLength', 'reviewLength', 'unixReviewTime', 'vote']\n",
    "\n",
    "preprocessor = ColumnTransformer(\n",
    "    [\n",
    "        (\"kbins\", KBinsDiscretizer(encode='onehot-dense'), bin_columns),\n",
    "    ],\n",
    "    verbose_feature_names_out=False,\n",
    "    remainder='passthrough'\n",
    ").set_output(transform=\"pandas\")\n",
    "\n",
    "basic_X_binned = preprocessor.fit_transform(df[dont_bin_columns + bin_columns])\n",
    "basic_X_train, basic_X_test, basic_y_train, basic_y_test = train_test_split(basic_X_binned, basic_y, random_state=55)\n",
    "\n",
    "rf_model = RandomForestClassifier()\n",
    "rf_model.fit(basic_X_train, basic_y_train)\n",
    "rf_reg_y_test_pred = rf_model.predict(basic_X_test)\n",
    "\n",
    "rf_model_accuracy = rf_model.score(basic_X_test, basic_y_test)\n",
    "print(f\"Accuracy of the RandomForestClassifier: {rf_model_accuracy:.4f}\")\n",
    "print(\"Micro-averaged F1 score on test set: %0.3f\" % f1_score(basic_y_test, rf_reg_y_test_pred, average=\"micro\"))\n",
    "\n",
    "cm = confusion_matrix(basic_y_test, rf_reg_y_test_pred, normalize='true')\n",
    "disp = ConfusionMatrixDisplay(confusion_matrix=cm)\n",
    "disp.plot(cmap='inferno')\n",
    "plt.grid(None)\n",
    "plt.show()"
   ]
  },
  {
   "cell_type": "code",
   "execution_count": null,
   "outputs": [],
   "source": [
    "from sklearn.model_selection import train_test_split\n",
    "from sklearn.metrics import f1_score\n",
    "from sklearn.metrics import confusion_matrix, ConfusionMatrixDisplay\n",
    "import matplotlib.pyplot as plt\n",
    "from sklearn.linear_model import SGDClassifier\n",
    "\n",
    "basic_X = df[speech_count_columns + ['summaryLength', 'reviewLength', 'unixReviewTime', 'vote', 'image', 'verified']]\n",
    "basic_y = df['overall']\n",
    "basic_X_train, basic_X_test, basic_y_train, basic_y_test = train_test_split(basic_X, basic_y, random_state=55)\n",
    "\n",
    "sgd_model = SGDClassifier()\n",
    "sgd_model.fit(basic_X_train, basic_y_train)\n",
    "sgd_reg_y_test_pred = sgd_model.predict(basic_X_test)\n",
    "\n",
    "sgd_model_accuracy = sgd_model.score(basic_X_test, basic_y_test)\n",
    "print(f\"Accuracy of the SGDClassifier: {sgd_model_accuracy:.4f}\")\n",
    "print(\"Micro-averaged F1 score on test set: %0.3f\" % f1_score(basic_y_test, sgd_reg_y_test_pred, average=\"micro\"))\n",
    "\n",
    "cm = confusion_matrix(basic_y_test, sgd_reg_y_test_pred, normalize='true')\n",
    "disp = ConfusionMatrixDisplay(confusion_matrix=cm)\n",
    "disp.plot(cmap='inferno')\n",
    "plt.grid(None)"
   ],
   "metadata": {
    "collapsed": false,
    "ExecuteTime": {
     "end_time": "2023-12-13T00:05:03.356174Z",
     "start_time": "2023-12-13T00:05:03.350763Z"
    }
   }
  },
  {
   "cell_type": "code",
   "execution_count": null,
   "metadata": {
    "collapsed": false,
    "ExecuteTime": {
     "start_time": "2023-12-13T00:05:03.353224Z"
    }
   },
   "outputs": [],
   "source": [
    "basic_X_train"
   ]
  },
  {
   "cell_type": "markdown",
   "metadata": {},
   "source": [
    "## GridSearch for Ideal Model"
   ]
  },
  {
   "cell_type": "code",
   "execution_count": null,
   "metadata": {
    "collapsed": false,
    "ExecuteTime": {
     "start_time": "2023-12-13T00:05:03.355558Z"
    }
   },
   "outputs": [],
   "source": [
    "from sklearn.model_selection import train_test_split, GridSearchCV\n",
    "from sklearn.pipeline import Pipeline\n",
    "from sklearn.feature_extraction.text import TfidfTransformer\n",
    "from sklearn.feature_extraction.text import CountVectorizer\n",
    "from sklearn.linear_model import SGDClassifier\n",
    "\n",
    "pipeline = Pipeline(steps=[\n",
    "    (\"vect\", CountVectorizer()),\n",
    "    (\"tfidf\", TfidfTransformer()),\n",
    "    (\"clf\", SGDClassifier())\n",
    "])\n",
    "\n",
    "param_grid ={\n",
    "    \"vect__ngram_range\": [(1, 3)], # Other ngram options were tried.\n",
    "    \"vect__strip_accents\": [None], # Other vars were tried\n",
    "    \"vect__stop_words\": [None], # Other vars were tried\n",
    "    \"tfidf__norm\": [\"l2\"], # Other vars were tried\n",
    "    \"tfidf__sublinear_tf\": [True], # Other vars were tried\n",
    "    \"tfidf__use_idf\": [True], # Other vars were tried\n",
    "    \"clf__alpha\": [0.00001], # Other vars were tried\n",
    "    \"clf__penalty\": [\"elasticnet\"], # Other vars were tried\n",
    "    \"clf__loss\": [\"log_loss\"] # Other vars were tried\n",
    "}\n",
    "\n",
    "X, y = df['reviewText'] +  df['summary'], df['overall']\n",
    "X_train, X_test, y_train, y_test = train_test_split(X, y, random_state=42)\n",
    "\n",
    "# search = GridSearchCV(pipeline, param_grid, n_jobs=4, verbose=3, cv=3, error_score=0.0)\n",
    "# search.fit(X_train, y_train)\n",
    "\n",
    "print(\"Best parameter (CV score=%0.3f):\" % search.best_score_)\n",
    "print(search.best_params_)\n"
   ]
  },
  {
   "cell_type": "code",
   "execution_count": 21,
   "metadata": {
    "collapsed": false,
    "ExecuteTime": {
     "end_time": "2023-12-13T00:06:28.814501Z",
     "start_time": "2023-12-13T00:05:15.977897Z"
    }
   },
   "outputs": [
    {
     "name": "stdout",
     "output_type": "stream",
     "text": [
      "Number of training samples: 75000\n",
      "Micro-averaged F1 score on test set: 0.624\n",
      "Accuracy of model: 0.6244\n"
     ]
    },
    {
     "data": {
      "text/plain": "<sklearn.metrics._plot.confusion_matrix.ConfusionMatrixDisplay at 0x14c640910>"
     },
     "execution_count": 21,
     "metadata": {},
     "output_type": "execute_result"
    },
    {
     "data": {
      "text/plain": "<Figure size 640x480 with 2 Axes>",
      "image/png": "[encoded data removed]"
     },
     "metadata": {},
     "output_type": "display_data"
    }
   ],
   "source": [
    "from sklearn.model_selection import train_test_split, GridSearchCV\n",
    "from sklearn.pipeline import Pipeline\n",
    "from sklearn.feature_extraction.text import TfidfTransformer\n",
    "from sklearn.feature_extraction.text import CountVectorizer\n",
    "from sklearn.linear_model import SGDClassifier\n",
    "from sklearn.metrics import f1_score\n",
    "from sklearn.metrics import confusion_matrix, ConfusionMatrixDisplay\n",
    "\n",
    "pipeline = Pipeline(steps=[\n",
    "    (\"vect\", CountVectorizer()),\n",
    "    (\"tfidf\", TfidfTransformer()),\n",
    "    (\"clf\", SGDClassifier())\n",
    "])\n",
    "\n",
    "best_params = {\n",
    "    'vect__ngram_range': (1, 3),\n",
    "    'vect__stop_words': None,\n",
    "    'vect__strip_accents': None,\n",
    "    'tfidf__norm': 'l2',\n",
    "    'tfidf__sublinear_tf': True,\n",
    "    'tfidf__use_idf': True,\n",
    "    'clf__alpha': 1e-05, \n",
    "    'clf__loss': 'log_loss', \n",
    "    'clf__penalty': 'elasticnet', \n",
    "}\n",
    "\n",
    "classifier = pipeline.set_params(**best_params)\n",
    "\n",
    "# The space is important, otherwise this accidentally creates joined words.\n",
    "X, y = df['reviewText'] + \" \" + df['summary'],  df['overall']\n",
    "X_train, X_test, y_train, y_test = train_test_split(X, y, random_state=55)\n",
    "\n",
    "print(\"Number of training samples:\", len(X_train))\n",
    "\n",
    "classifier.fit(X_train, y_train)\n",
    "y_pred = classifier.predict(X_test)\n",
    "\n",
    "print(\"Micro-averaged F1 score on test set: %0.3f\"% f1_score(y_test, y_pred, average=\"micro\"))\n",
    "\n",
    "accuracy = classifier.score(X_test, y_test)\n",
    "print(f\"Accuracy of model: {accuracy:.4f}\")\n",
    "\n",
    "cm = confusion_matrix(y_test, y_pred, normalize='true')\n",
    "disp = ConfusionMatrixDisplay(confusion_matrix=cm)\n",
    "disp.plot(cmap='inferno')"
   ]
  },
  {
   "cell_type": "code",
   "execution_count": 26,
   "outputs": [],
   "source": [
    "feature_names = classifier.named_steps['vect'].get_feature_names_out()\n",
    "coefficients =  classifier.named_steps['clf'].coef_[0]"
   ],
   "metadata": {
    "collapsed": false,
    "ExecuteTime": {
     "end_time": "2023-12-13T00:11:45.895864Z",
     "start_time": "2023-12-13T00:11:43.076527Z"
    }
   }
  },
  {
   "cell_type": "code",
   "execution_count": 30,
   "outputs": [],
   "source": [
    "features_coefficients = zip(feature_names, coefficients)\n",
    "sorted_features = sorted(features_coefficients, key=lambda x: x[1], reverse=True)"
   ],
   "metadata": {
    "collapsed": false,
    "ExecuteTime": {
     "end_time": "2023-12-13T00:14:40.133327Z",
     "start_time": "2023-12-13T00:14:39.528637Z"
    }
   }
  },
  {
   "cell_type": "code",
   "execution_count": 41,
   "outputs": [
    {
     "name": "stdout",
     "output_type": "stream",
     "text": [
      "one star: 16.222053321037535\n",
      "star: 12.3060294026896\n",
      "not: 10.170749519992036\n",
      "no: 10.09670521881874\n",
      "terrible: 8.468794983082038\n",
      "awful: 7.7439601918525796\n",
      "waste: 7.504766084595779\n",
      "horrible: 7.045558197016093\n",
      "nothing: 6.006511687991149\n",
      "stupid: 5.994024929146721\n",
      "poorly: 5.948618269626827\n",
      "amazon: 5.914033785418086\n",
      "even: 5.86232407790675\n",
      "money: 5.738416786839994\n",
      "boring: 5.426575819703587\n",
      "don: 5.229579291067094\n",
      "worst: 5.224129519195011\n",
      "not worth: 4.9344383170857835\n",
      "poor: 4.844137030198385\n",
      "pages: 4.83518814910013\n",
      "waste of: 4.618158113530489\n",
      "one: 4.594652981776087\n",
      "buy: 4.573937840196009\n",
      "at all: 4.535725506674176\n",
      "useless: 4.411212506727224\n",
      "sorry: 4.371711407041811\n",
      "not good: 4.250134829775361\n",
      "this: 4.151789741239936\n",
      "ridiculous: 4.142245082245341\n",
      "kindle: 4.136844720593887\n",
      "bad: 4.082676766523262\n",
      "any: 4.011428836264877\n",
      "zero: 3.990655699599708\n",
      "never: 3.988916878821069\n",
      "reviews: 3.9269354818263382\n",
      "hated: 3.910386847202696\n",
      "garbage: 3.881705032816559\n",
      "couldn: 3.789369888029141\n",
      "crap: 3.7197961084052933\n",
      "deleted: 3.640942360822347\n",
      "very disappointed: 3.557413367979335\n",
      "chapter: 3.502427563970802\n",
      "poorly written: 3.423286087875838\n",
      "rip off: 3.420462393572239\n",
      "rip: 3.391150705557622\n",
      "trash: 3.3524906257627265\n",
      "disappointing: 3.34079082169427\n",
      "seriously: 3.330804950532079\n",
      "gave up: 3.324109002721217\n",
      "99: 3.2989058219688094\n",
      "unreadable: 3.2957298188515876\n",
      "ugh: 3.2374754721753165\n",
      "disgusting: 3.217381500775153\n",
      "wasted: 3.2049441943917674\n",
      "only: 3.1700868000075997\n",
      "then: 3.042663654348576\n",
      "total: 3.0072662769060066\n",
      "do not: 2.980976090171132\n",
      "purchase: 2.970008761778279\n",
      "sample: 2.96858334037252\n",
      "not book: 2.9503453354024445\n",
      "please: 2.9294450923369073\n",
      "ever: 2.9231889878707022\n",
      "write: 2.921282321424173\n",
      "bother: 2.9159826832891347\n",
      "should: 2.907780564299481\n",
      "hated it: 2.90345673907207\n",
      "cannot: 2.895537059419464\n",
      "be: 2.891628881471307\n",
      "from my: 2.8871264723678935\n",
      "zero stars: 2.8662669768329447\n",
      "worthless: 2.8649102560876556\n",
      "the worst: 2.8187984764351515\n",
      "refund: 2.804920289889534\n",
      "hate: 2.804146671175178\n",
      "instead: 2.803816310378048\n",
      "is just: 2.7767828926779545\n",
      "book: 2.764617835373823\n",
      "supposed: 2.7511296271058625\n",
      "disappointed: 2.747931083533737\n",
      "author: 2.743727040656053\n",
      "didn: 2.731920222245507\n",
      "lame: 2.726130659633344\n",
      "written: 2.725047686725801\n",
      "wrong: 2.7175949988970145\n",
      "download: 2.714875678941903\n",
      "sucks: 2.712044437627861\n",
      "if could: 2.65749758191635\n",
      "sadly: 2.623023035228464\n",
      "name: 2.596055006252317\n",
      "your time: 2.587257655511072\n",
      "is not: 2.5519727644146517\n",
      "pathetic: 2.5443590417104116\n",
      "dumb: 2.538590916622564\n",
      "will not: 2.5369356761618107\n",
      "avoid: 2.5025932376469227\n",
      "scam: 2.5016958471643647\n",
      "joke: 2.4709490045463456\n",
      "sucked: 2.4671764392835134\n",
      "worse: 2.465447654976217\n"
     ]
    }
   ],
   "source": [
    "for feature, coef in sorted_features[:100]:\n",
    "    print(f\"{feature}: {coef}\")"
   ],
   "metadata": {
    "collapsed": false,
    "ExecuteTime": {
     "end_time": "2023-12-13T00:22:31.199099Z",
     "start_time": "2023-12-13T00:22:31.136678Z"
    }
   }
  },
  {
   "cell_type": "code",
   "execution_count": 42,
   "outputs": [
    {
     "name": "stdout",
     "output_type": "stream",
     "text": [
      "stars: -15.20469441227396\n",
      "good: -11.48091212778793\n",
      "great: -11.152590244842807\n",
      "two stars: -9.121267104237456\n",
      "but: -8.169606155999203\n",
      "enjoyed: -7.82107358200303\n",
      "love: -7.757027838820349\n",
      "loved: -7.0690800069825155\n",
      "well: -6.665775928574384\n",
      "interesting: -6.493092507168236\n",
      "fun: -5.958345706335426\n",
      "three stars: -5.87364697167027\n",
      "liked: -5.870306004292812\n",
      "read: -5.768697715312002\n",
      "two: -5.3673807791032555\n",
      "story: -5.316094131791049\n",
      "nice: -5.301911286619977\n",
      "not bad: -5.2264018494432944\n",
      "ok: -5.2132998502397925\n",
      "series: -5.162018078245738\n",
      "excellent: -5.108986653288885\n",
      "easy: -4.974045273198396\n",
      "bit: -4.933729443342424\n",
      "okay: -4.92736793481137\n",
      "sweet: -4.588922557517181\n",
      "more: -4.532327518779952\n",
      "enjoyable: -4.404507169809329\n",
      "some: -4.38659857984523\n",
      "will: -4.363042796947431\n",
      "life: -4.294856775342136\n",
      "hot: -4.2736777218053295\n",
      "cute: -4.261214358741267\n",
      "five stars: -4.210107138963371\n",
      "quick: -4.103806746453726\n",
      "amazing: -4.094389896786163\n",
      "entertaining: -4.054181361706883\n",
      "little: -4.018732687666666\n",
      "three: -3.951870211553497\n",
      "wonderful: -3.7720789916499644\n",
      "and: -3.745947857298564\n",
      "best: -3.7360707597727174\n",
      "four stars: -3.710523085997338\n",
      "however: -3.536159800368035\n",
      "though: -3.4998157045807625\n",
      "definitely: -3.4996803036431596\n",
      "good read: -3.4493530036326967\n",
      "awesome: -3.4111382062353712\n",
      "me: -3.3964468385345574\n",
      "wait: -3.38213955707084\n",
      "well written: -3.265653053818424\n",
      "enjoyed this: -3.20357227917986\n",
      "four: -3.1988197027876204\n",
      "must read: -3.1733232468663437\n",
      "great read: -3.1365850082147833\n",
      "action: -3.1300167380013884\n",
      "new: -3.128240411742951\n",
      "fast: -3.071561296591023\n",
      "perfect: -3.0668376855533355\n",
      "always: -3.049495335350099\n",
      "feel: -3.0298598038684155\n",
      "great book: -2.972805913952424\n",
      "quite: -2.963785767981267\n",
      "so so: -2.9619971237735707\n",
      "heart: -2.955938322621104\n",
      "loved it: -2.936693104290274\n",
      "ending: -2.9297248313837456\n",
      "lot: -2.9133671246718404\n",
      "between: -2.8987333168766782\n",
      "favorite: -2.8681157722262642\n",
      "quick read: -2.856148950808002\n",
      "can wait: -2.8405978764209605\n",
      "his: -2.812815399692448\n",
      "each: -2.803081628164793\n",
      "enjoy: -2.763405204911843\n",
      "as: -2.7527289794895022\n",
      "the best: -2.7437592754160276\n",
      "overall: -2.7050154697972872\n",
      "although: -2.702253901699464\n",
      "easy to: -2.6732988806246056\n",
      "loved this: -2.635076018588691\n",
      "short: -2.6075402268580876\n",
      "with: -2.597949548601348\n",
      "enjoyed the: -2.589359576889784\n",
      "different: -2.569471740108279\n",
      "next: -2.5518176392332923\n",
      "family: -2.5481806728293677\n",
      "five: -2.544008638686165\n",
      "light: -2.5168307591368837\n",
      "things: -2.5151310849182584\n",
      "exciting: -2.4906891017772144\n",
      "future: -2.4787579408032134\n",
      "liked the: -2.47004612645361\n",
      "fantastic: -2.458109746703219\n",
      "sometimes: -2.4463114822629364\n",
      "still: -2.4279116469849558\n",
      "the ending: -2.4254808067869287\n",
      "in: -2.397155302884184\n",
      "honest: -2.3757516144846305\n",
      "wait to: -2.3683007524673125\n",
      "forward to: -2.3300812022189388\n"
     ]
    }
   ],
   "source": [
    "features = sorted_features[-100:]\n",
    "features.reverse()\n",
    "\n",
    "for feature, coef in features:\n",
    "    print(f\"{feature}: {coef}\")\n"
   ],
   "metadata": {
    "collapsed": false,
    "ExecuteTime": {
     "end_time": "2023-12-13T00:25:57.985462Z",
     "start_time": "2023-12-13T00:25:57.978956Z"
    }
   }
  },
  {
   "cell_type": "code",
   "execution_count": null,
   "outputs": [],
   "source": [
    "cm = confusion_matrix(y_test, y_pred, normalize='true')\n",
    "disp = ConfusionMatrixDisplay(confusion_matrix=cm)\n",
    "disp.plot(cmap='inferno')\n",
    "plt.grid(None)\n",
    "plt.show()"
   ],
   "metadata": {
    "collapsed": false,
    "ExecuteTime": {
     "end_time": "2023-12-13T00:05:03.359087Z",
     "start_time": "2023-12-13T00:05:03.358950Z"
    }
   }
  }
 ],
 "metadata": {
  "kernelspec": {
   "display_name": "Python 3 (ipykernel)",
   "language": "python",
   "name": "python3"
  },
  "language_info": {
   "codemirror_mode": {
    "name": "ipython",
    "version": 3
   },
   "file_extension": ".py",
   "mimetype": "text/x-python",
   "name": "python",
   "nbconvert_exporter": "python",
   "pygments_lexer": "ipython3",
   "version": "3.11.6"
  },
  "vscode": {
   "interpreter": {
    "hash": "78f26278aaebced278c5097c56985d85bde54a4cf6cf6ca5c930d7239c5fca84"
   }
  }
 },
 "nbformat": 4,
 "nbformat_minor": 4
}
