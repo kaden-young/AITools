{
 "cells": [
  {
   "cell_type": "code",
   "execution_count": 2,
   "metadata": {
    "ExecuteTime": {
     "end_time": "2023-12-11T21:04:04.052290Z",
     "start_time": "2023-12-11T21:04:03.041056Z"
    }
   },
   "outputs": [],
   "source": [
    "import pandas as pd"
   ]
  },
  {
   "cell_type": "code",
   "execution_count": 3,
   "metadata": {
    "ExecuteTime": {
     "end_time": "2023-12-11T21:04:04.820900Z",
     "start_time": "2023-12-11T21:04:03.851403Z"
    }
   },
   "outputs": [],
   "source": [
    "df = pd.read_feather(\"100k_kindle_reviews_lemmatized.feather\")"
   ]
  },
  {
   "cell_type": "code",
   "execution_count": 4,
   "metadata": {
    "ExecuteTime": {
     "end_time": "2023-12-11T21:04:04.827141Z",
     "start_time": "2023-12-11T21:04:04.659964Z"
    }
   },
   "outputs": [
    {
     "name": "stdout",
     "output_type": "stream",
     "text": [
      "<class 'pandas.core.frame.DataFrame'>\n",
      "RangeIndex: 100000 entries, 0 to 99999\n",
      "Data columns (total 32 columns):\n",
      " #   Column            Non-Null Count   Dtype  \n",
      "---  ------            --------------   -----  \n",
      " 0   overall           100000 non-null  int64  \n",
      " 1   verified          100000 non-null  bool   \n",
      " 2   reviewTime        100000 non-null  object \n",
      " 3   reviewerID        100000 non-null  object \n",
      " 4   asin              100000 non-null  object \n",
      " 5   style             100000 non-null  object \n",
      " 6   reviewerName      100000 non-null  object \n",
      " 7   reviewText        100000 non-null  object \n",
      " 8   summary           100000 non-null  object \n",
      " 9   unixReviewTime    100000 non-null  int64  \n",
      " 10  vote              100000 non-null  int32  \n",
      " 11  image             70 non-null      object \n",
      " 12  processed_review  100000 non-null  object \n",
      " 13  lemmatized_text   100000 non-null  object \n",
      " 14  ADV               80797 non-null   float64\n",
      " 15  VERB              91419 non-null   float64\n",
      " 16  PRON              86519 non-null   float64\n",
      " 17  SCONJ             47676 non-null   float64\n",
      " 18  DET               89456 non-null   float64\n",
      " 19  ADJ               92077 non-null   float64\n",
      " 20  NOUN              95062 non-null   float64\n",
      " 21  ADP               85714 non-null   float64\n",
      " 22  CCONJ             73120 non-null   float64\n",
      " 23  PUNCT             93056 non-null   float64\n",
      " 24  AUX               85053 non-null   float64\n",
      " 25  PART              72871 non-null   float64\n",
      " 26  PROPN             50662 non-null   float64\n",
      " 27  NUM               33704 non-null   float64\n",
      " 28  SPACE             45473 non-null   float64\n",
      " 29  INTJ              11475 non-null   float64\n",
      " 30  SYM               5834 non-null    float64\n",
      " 31  X                 3738 non-null    float64\n",
      "dtypes: bool(1), float64(18), int32(1), int64(2), object(10)\n",
      "memory usage: 23.4+ MB\n"
     ]
    }
   ],
   "source": [
    "df.info()"
   ]
  },
  {
   "cell_type": "code",
   "execution_count": 5,
   "metadata": {
    "ExecuteTime": {
     "end_time": "2023-12-11T21:04:04.829928Z",
     "start_time": "2023-12-11T21:04:04.741443Z"
    }
   },
   "outputs": [
    {
     "data": {
      "text/plain": "   overall  verified   reviewTime      reviewerID        asin  \\\n0        1      True  12 27, 2014  A3JRP9RI3ZE6VK  B00JQDHIES   \n1        1     False  06 25, 2016  A3IZWB0YUZXZZ6  B01H124NQQ   \n2        1      True  05 13, 2013   A82LP6E48UFM5  B00C2E9EK4   \n3        1      True  05 10, 2012   AMV9B31WKSLM7  B005RH2GNU   \n4        1      True   09 4, 2013   AZ27B4OUL64TR  B00DC7PXLY   \n\n                            style     reviewerName  \\\n0  {'Format:': ' Kindle Edition'}           e-BOOK   \n1  {'Format:': ' Kindle Edition'}   Kathryn childs   \n2  {'Format:': ' Kindle Edition'}  Amazon Customer   \n3  {'Format:': ' Kindle Edition'}  Eclectic Reader   \n4  {'Format:': ' Kindle Edition'}      Word Junkie   \n\n                                          reviewText  \\\n0  Truly hate it when I make a bad call on a book...   \n1  Only 4% of this book is the discretion it isn'...   \n2  The quality of writing for this book is very p...   \n3  The Outback is the vast, remote, arid area of ...   \n4  Grace Burrowes lives within a few miles of me,...   \n\n                         summary  unixReviewTime  ...  CCONJ PUNCT   AUX  \\\n0                       Juvenile      1419638400  ...    4.0   5.0   2.0   \n1            Not worth your time      1466812800  ...    1.0   2.0   3.0   \n2                   poor quality      1368403200  ...    5.0   7.0   9.0   \n3     Outback is in AUSTRALIA!!!      1336608000  ...    NaN   5.0   3.0   \n4  Not as good as its progenitor      1378252800  ...   12.0  25.0  12.0   \n\n   PART  PROPN  NUM  SPACE  INTJ  SYM   X  \n0   2.0    2.0  1.0    NaN   NaN  NaN NaN  \n1   2.0    NaN  2.0    NaN   NaN  NaN NaN  \n2   3.0    NaN  NaN    3.0   NaN  NaN NaN  \n3   NaN    3.0  NaN    2.0   NaN  NaN NaN  \n4  13.0   27.0  3.0    9.0   NaN  NaN NaN  \n\n[5 rows x 32 columns]",
      "text/html": "<div>\n<style scoped>\n    .dataframe tbody tr th:only-of-type {\n        vertical-align: middle;\n    }\n\n    .dataframe tbody tr th {\n        vertical-align: top;\n    }\n\n    .dataframe thead th {\n        text-align: right;\n    }\n</style>\n<table border=\"1\" class=\"dataframe\">\n  <thead>\n    <tr style=\"text-align: right;\">\n      <th></th>\n      <th>overall</th>\n      <th>verified</th>\n      <th>reviewTime</th>\n      <th>reviewerID</th>\n      <th>asin</th>\n      <th>style</th>\n      <th>reviewerName</th>\n      <th>reviewText</th>\n      <th>summary</th>\n      <th>unixReviewTime</th>\n      <th>...</th>\n      <th>CCONJ</th>\n      <th>PUNCT</th>\n      <th>AUX</th>\n      <th>PART</th>\n      <th>PROPN</th>\n      <th>NUM</th>\n      <th>SPACE</th>\n      <th>INTJ</th>\n      <th>SYM</th>\n      <th>X</th>\n    </tr>\n  </thead>\n  <tbody>\n    <tr>\n      <th>0</th>\n      <td>1</td>\n      <td>True</td>\n      <td>12 27, 2014</td>\n      <td>A3JRP9RI3ZE6VK</td>\n      <td>B00JQDHIES</td>\n      <td>{'Format:': ' Kindle Edition'}</td>\n      <td>e-BOOK</td>\n      <td>Truly hate it when I make a bad call on a book...</td>\n      <td>Juvenile</td>\n      <td>1419638400</td>\n      <td>...</td>\n      <td>4.0</td>\n      <td>5.0</td>\n      <td>2.0</td>\n      <td>2.0</td>\n      <td>2.0</td>\n      <td>1.0</td>\n      <td>NaN</td>\n      <td>NaN</td>\n      <td>NaN</td>\n      <td>NaN</td>\n    </tr>\n    <tr>\n      <th>1</th>\n      <td>1</td>\n      <td>False</td>\n      <td>06 25, 2016</td>\n      <td>A3IZWB0YUZXZZ6</td>\n      <td>B01H124NQQ</td>\n      <td>{'Format:': ' Kindle Edition'}</td>\n      <td>Kathryn childs</td>\n      <td>Only 4% of this book is the discretion it isn'...</td>\n      <td>Not worth your time</td>\n      <td>1466812800</td>\n      <td>...</td>\n      <td>1.0</td>\n      <td>2.0</td>\n      <td>3.0</td>\n      <td>2.0</td>\n      <td>NaN</td>\n      <td>2.0</td>\n      <td>NaN</td>\n      <td>NaN</td>\n      <td>NaN</td>\n      <td>NaN</td>\n    </tr>\n    <tr>\n      <th>2</th>\n      <td>1</td>\n      <td>True</td>\n      <td>05 13, 2013</td>\n      <td>A82LP6E48UFM5</td>\n      <td>B00C2E9EK4</td>\n      <td>{'Format:': ' Kindle Edition'}</td>\n      <td>Amazon Customer</td>\n      <td>The quality of writing for this book is very p...</td>\n      <td>poor quality</td>\n      <td>1368403200</td>\n      <td>...</td>\n      <td>5.0</td>\n      <td>7.0</td>\n      <td>9.0</td>\n      <td>3.0</td>\n      <td>NaN</td>\n      <td>NaN</td>\n      <td>3.0</td>\n      <td>NaN</td>\n      <td>NaN</td>\n      <td>NaN</td>\n    </tr>\n    <tr>\n      <th>3</th>\n      <td>1</td>\n      <td>True</td>\n      <td>05 10, 2012</td>\n      <td>AMV9B31WKSLM7</td>\n      <td>B005RH2GNU</td>\n      <td>{'Format:': ' Kindle Edition'}</td>\n      <td>Eclectic Reader</td>\n      <td>The Outback is the vast, remote, arid area of ...</td>\n      <td>Outback is in AUSTRALIA!!!</td>\n      <td>1336608000</td>\n      <td>...</td>\n      <td>NaN</td>\n      <td>5.0</td>\n      <td>3.0</td>\n      <td>NaN</td>\n      <td>3.0</td>\n      <td>NaN</td>\n      <td>2.0</td>\n      <td>NaN</td>\n      <td>NaN</td>\n      <td>NaN</td>\n    </tr>\n    <tr>\n      <th>4</th>\n      <td>1</td>\n      <td>True</td>\n      <td>09 4, 2013</td>\n      <td>AZ27B4OUL64TR</td>\n      <td>B00DC7PXLY</td>\n      <td>{'Format:': ' Kindle Edition'}</td>\n      <td>Word Junkie</td>\n      <td>Grace Burrowes lives within a few miles of me,...</td>\n      <td>Not as good as its progenitor</td>\n      <td>1378252800</td>\n      <td>...</td>\n      <td>12.0</td>\n      <td>25.0</td>\n      <td>12.0</td>\n      <td>13.0</td>\n      <td>27.0</td>\n      <td>3.0</td>\n      <td>9.0</td>\n      <td>NaN</td>\n      <td>NaN</td>\n      <td>NaN</td>\n    </tr>\n  </tbody>\n</table>\n<p>5 rows × 32 columns</p>\n</div>"
     },
     "execution_count": 5,
     "metadata": {},
     "output_type": "execute_result"
    }
   ],
   "source": [
    "df.head()"
   ]
  },
  {
   "cell_type": "code",
   "execution_count": 6,
   "outputs": [],
   "source": [
    "speech_count_columns = ['ADV', 'VERB', 'PRON', 'SCONJ', 'DET', 'ADJ', 'NOUN', 'ADP', 'CCONJ', 'PUNCT', 'AUX', 'PART', 'PROPN', 'NUM', 'SPACE', 'INTJ', 'SYM', 'X']\n",
    "df[speech_count_columns] = df[speech_count_columns].fillna(0)"
   ],
   "metadata": {
    "collapsed": false,
    "ExecuteTime": {
     "end_time": "2023-12-11T21:04:04.830925Z",
     "start_time": "2023-12-11T21:04:04.767825Z"
    }
   }
  },
  {
   "cell_type": "code",
   "execution_count": 7,
   "outputs": [
    {
     "data": {
      "text/plain": "   overall  verified   reviewTime      reviewerID        asin  \\\n0        1      True  12 27, 2014  A3JRP9RI3ZE6VK  B00JQDHIES   \n1        1     False  06 25, 2016  A3IZWB0YUZXZZ6  B01H124NQQ   \n2        1      True  05 13, 2013   A82LP6E48UFM5  B00C2E9EK4   \n3        1      True  05 10, 2012   AMV9B31WKSLM7  B005RH2GNU   \n4        1      True   09 4, 2013   AZ27B4OUL64TR  B00DC7PXLY   \n\n                            style     reviewerName  \\\n0  {'Format:': ' Kindle Edition'}           e-BOOK   \n1  {'Format:': ' Kindle Edition'}   Kathryn childs   \n2  {'Format:': ' Kindle Edition'}  Amazon Customer   \n3  {'Format:': ' Kindle Edition'}  Eclectic Reader   \n4  {'Format:': ' Kindle Edition'}      Word Junkie   \n\n                                          reviewText  \\\n0  Truly hate it when I make a bad call on a book...   \n1  Only 4% of this book is the discretion it isn'...   \n2  The quality of writing for this book is very p...   \n3  The Outback is the vast, remote, arid area of ...   \n4  Grace Burrowes lives within a few miles of me,...   \n\n                         summary  unixReviewTime  ...  CCONJ PUNCT   AUX  \\\n0                       Juvenile      1419638400  ...    4.0   5.0   2.0   \n1            Not worth your time      1466812800  ...    1.0   2.0   3.0   \n2                   poor quality      1368403200  ...    5.0   7.0   9.0   \n3     Outback is in AUSTRALIA!!!      1336608000  ...    0.0   5.0   3.0   \n4  Not as good as its progenitor      1378252800  ...   12.0  25.0  12.0   \n\n   PART  PROPN  NUM  SPACE  INTJ  SYM    X  \n0   2.0    2.0  1.0    0.0   0.0  0.0  0.0  \n1   2.0    0.0  2.0    0.0   0.0  0.0  0.0  \n2   3.0    0.0  0.0    3.0   0.0  0.0  0.0  \n3   0.0    3.0  0.0    2.0   0.0  0.0  0.0  \n4  13.0   27.0  3.0    9.0   0.0  0.0  0.0  \n\n[5 rows x 32 columns]",
      "text/html": "<div>\n<style scoped>\n    .dataframe tbody tr th:only-of-type {\n        vertical-align: middle;\n    }\n\n    .dataframe tbody tr th {\n        vertical-align: top;\n    }\n\n    .dataframe thead th {\n        text-align: right;\n    }\n</style>\n<table border=\"1\" class=\"dataframe\">\n  <thead>\n    <tr style=\"text-align: right;\">\n      <th></th>\n      <th>overall</th>\n      <th>verified</th>\n      <th>reviewTime</th>\n      <th>reviewerID</th>\n      <th>asin</th>\n      <th>style</th>\n      <th>reviewerName</th>\n      <th>reviewText</th>\n      <th>summary</th>\n      <th>unixReviewTime</th>\n      <th>...</th>\n      <th>CCONJ</th>\n      <th>PUNCT</th>\n      <th>AUX</th>\n      <th>PART</th>\n      <th>PROPN</th>\n      <th>NUM</th>\n      <th>SPACE</th>\n      <th>INTJ</th>\n      <th>SYM</th>\n      <th>X</th>\n    </tr>\n  </thead>\n  <tbody>\n    <tr>\n      <th>0</th>\n      <td>1</td>\n      <td>True</td>\n      <td>12 27, 2014</td>\n      <td>A3JRP9RI3ZE6VK</td>\n      <td>B00JQDHIES</td>\n      <td>{'Format:': ' Kindle Edition'}</td>\n      <td>e-BOOK</td>\n      <td>Truly hate it when I make a bad call on a book...</td>\n      <td>Juvenile</td>\n      <td>1419638400</td>\n      <td>...</td>\n      <td>4.0</td>\n      <td>5.0</td>\n      <td>2.0</td>\n      <td>2.0</td>\n      <td>2.0</td>\n      <td>1.0</td>\n      <td>0.0</td>\n      <td>0.0</td>\n      <td>0.0</td>\n      <td>0.0</td>\n    </tr>\n    <tr>\n      <th>1</th>\n      <td>1</td>\n      <td>False</td>\n      <td>06 25, 2016</td>\n      <td>A3IZWB0YUZXZZ6</td>\n      <td>B01H124NQQ</td>\n      <td>{'Format:': ' Kindle Edition'}</td>\n      <td>Kathryn childs</td>\n      <td>Only 4% of this book is the discretion it isn'...</td>\n      <td>Not worth your time</td>\n      <td>1466812800</td>\n      <td>...</td>\n      <td>1.0</td>\n      <td>2.0</td>\n      <td>3.0</td>\n      <td>2.0</td>\n      <td>0.0</td>\n      <td>2.0</td>\n      <td>0.0</td>\n      <td>0.0</td>\n      <td>0.0</td>\n      <td>0.0</td>\n    </tr>\n    <tr>\n      <th>2</th>\n      <td>1</td>\n      <td>True</td>\n      <td>05 13, 2013</td>\n      <td>A82LP6E48UFM5</td>\n      <td>B00C2E9EK4</td>\n      <td>{'Format:': ' Kindle Edition'}</td>\n      <td>Amazon Customer</td>\n      <td>The quality of writing for this book is very p...</td>\n      <td>poor quality</td>\n      <td>1368403200</td>\n      <td>...</td>\n      <td>5.0</td>\n      <td>7.0</td>\n      <td>9.0</td>\n      <td>3.0</td>\n      <td>0.0</td>\n      <td>0.0</td>\n      <td>3.0</td>\n      <td>0.0</td>\n      <td>0.0</td>\n      <td>0.0</td>\n    </tr>\n    <tr>\n      <th>3</th>\n      <td>1</td>\n      <td>True</td>\n      <td>05 10, 2012</td>\n      <td>AMV9B31WKSLM7</td>\n      <td>B005RH2GNU</td>\n      <td>{'Format:': ' Kindle Edition'}</td>\n      <td>Eclectic Reader</td>\n      <td>The Outback is the vast, remote, arid area of ...</td>\n      <td>Outback is in AUSTRALIA!!!</td>\n      <td>1336608000</td>\n      <td>...</td>\n      <td>0.0</td>\n      <td>5.0</td>\n      <td>3.0</td>\n      <td>0.0</td>\n      <td>3.0</td>\n      <td>0.0</td>\n      <td>2.0</td>\n      <td>0.0</td>\n      <td>0.0</td>\n      <td>0.0</td>\n    </tr>\n    <tr>\n      <th>4</th>\n      <td>1</td>\n      <td>True</td>\n      <td>09 4, 2013</td>\n      <td>AZ27B4OUL64TR</td>\n      <td>B00DC7PXLY</td>\n      <td>{'Format:': ' Kindle Edition'}</td>\n      <td>Word Junkie</td>\n      <td>Grace Burrowes lives within a few miles of me,...</td>\n      <td>Not as good as its progenitor</td>\n      <td>1378252800</td>\n      <td>...</td>\n      <td>12.0</td>\n      <td>25.0</td>\n      <td>12.0</td>\n      <td>13.0</td>\n      <td>27.0</td>\n      <td>3.0</td>\n      <td>9.0</td>\n      <td>0.0</td>\n      <td>0.0</td>\n      <td>0.0</td>\n    </tr>\n  </tbody>\n</table>\n<p>5 rows × 32 columns</p>\n</div>"
     },
     "execution_count": 7,
     "metadata": {},
     "output_type": "execute_result"
    }
   ],
   "source": [
    "df.head()"
   ],
   "metadata": {
    "collapsed": false,
    "ExecuteTime": {
     "end_time": "2023-12-11T21:04:04.860260Z",
     "start_time": "2023-12-11T21:04:04.821745Z"
    }
   }
  },
  {
   "cell_type": "code",
   "execution_count": 8,
   "metadata": {
    "ExecuteTime": {
     "end_time": "2023-12-11T21:04:04.860473Z",
     "start_time": "2023-12-11T21:04:04.842536Z"
    }
   },
   "outputs": [],
   "source": [
    "# if image is non null return 1 else 0\n",
    "df['image'] = df['image'].notnull().astype('int')"
   ]
  },
  {
   "cell_type": "markdown",
   "metadata": {},
   "source": [
    "replace null with empty string"
   ]
  },
  {
   "cell_type": "code",
   "execution_count": 9,
   "metadata": {
    "ExecuteTime": {
     "end_time": "2023-12-11T21:04:04.950585Z",
     "start_time": "2023-12-11T21:04:04.852974Z"
    }
   },
   "outputs": [],
   "source": [
    "# in review text replace null values with empty string\n",
    "df['reviewText'] = df['reviewText'].fillna('')\n",
    "df['summary'] = df['summary'].fillna('')"
   ]
  },
  {
   "cell_type": "markdown",
   "metadata": {},
   "source": [
    "convert verfied to dummy"
   ]
  },
  {
   "cell_type": "code",
   "execution_count": 10,
   "metadata": {
    "ExecuteTime": {
     "end_time": "2023-12-11T21:04:04.956455Z",
     "start_time": "2023-12-11T21:04:04.872963Z"
    }
   },
   "outputs": [],
   "source": [
    "# convert verified to int 1 if true 0 if false\n",
    "df['verified'] = df['verified'].astype('int')"
   ]
  },
  {
   "cell_type": "code",
   "execution_count": 11,
   "metadata": {
    "ExecuteTime": {
     "end_time": "2023-12-11T21:04:05.036543Z",
     "start_time": "2023-12-11T21:04:04.882532Z"
    }
   },
   "outputs": [],
   "source": [
    "df = df.drop(columns=['style'])"
   ]
  },
  {
   "cell_type": "markdown",
   "metadata": {},
   "source": [
    "dropped reviewtime, already have unix representation"
   ]
  },
  {
   "cell_type": "code",
   "execution_count": 12,
   "metadata": {
    "ExecuteTime": {
     "end_time": "2023-12-11T21:04:05.075460Z",
     "start_time": "2023-12-11T21:04:04.920433Z"
    }
   },
   "outputs": [],
   "source": [
    "# drop the reviewTime column\n",
    "df = df.drop(columns='reviewTime')"
   ]
  },
  {
   "cell_type": "markdown",
   "metadata": {},
   "source": [
    "creating review length column"
   ]
  },
  {
   "cell_type": "code",
   "execution_count": 13,
   "metadata": {
    "ExecuteTime": {
     "end_time": "2023-12-11T21:04:05.397403Z",
     "start_time": "2023-12-11T21:04:05.014562Z"
    }
   },
   "outputs": [],
   "source": [
    "# create a new column called reviewLength\n",
    "df['reviewLength'] = df['reviewText'].apply(lambda x: 0 if isinstance(x, float) else len(x))"
   ]
  },
  {
   "cell_type": "markdown",
   "metadata": {},
   "source": [
    "creating summary length column"
   ]
  },
  {
   "cell_type": "code",
   "execution_count": 14,
   "metadata": {
    "ExecuteTime": {
     "end_time": "2023-12-11T21:04:05.398900Z",
     "start_time": "2023-12-11T21:04:05.027779Z"
    }
   },
   "outputs": [],
   "source": [
    "# create a new column called summaryLength (There were some NaN values in summary, which was forcing the type to be float64.  This ensures everything is an int).\n",
    "df['summaryLength'] = df['summary'].apply(lambda x: 0 if isinstance(x, float) else len(x))"
   ]
  },
  {
   "cell_type": "markdown",
   "metadata": {},
   "source": [
    "asin is the amazon product id. removing this and the reviewer info"
   ]
  },
  {
   "cell_type": "code",
   "execution_count": 15,
   "metadata": {
    "ExecuteTime": {
     "end_time": "2023-12-11T21:04:05.400331Z",
     "start_time": "2023-12-11T21:04:05.059320Z"
    }
   },
   "outputs": [],
   "source": [
    "# removing asin, reviewerID, reviewerName\n",
    "df = df.drop(columns=['asin', 'reviewerID', 'reviewerName'])"
   ]
  },
  {
   "cell_type": "markdown",
   "metadata": {},
   "source": [
    "labeling categorical variables"
   ]
  },
  {
   "cell_type": "code",
   "execution_count": 16,
   "metadata": {
    "ExecuteTime": {
     "end_time": "2023-12-11T21:04:05.400682Z",
     "start_time": "2023-12-11T21:04:05.103294Z"
    }
   },
   "outputs": [],
   "source": [
    "# labeling ['verified', 'image'] as categorical\n",
    "df[['overall', 'verified', 'image']] = df[['overall', 'verified', 'image']].astype('category')"
   ]
  },
  {
   "cell_type": "markdown",
   "metadata": {},
   "source": [
    "reviewing data"
   ]
  },
  {
   "cell_type": "code",
   "execution_count": 17,
   "metadata": {
    "ExecuteTime": {
     "end_time": "2023-12-11T21:04:05.401933Z",
     "start_time": "2023-12-11T21:04:05.145709Z"
    }
   },
   "outputs": [
    {
     "data": {
      "text/plain": "  overall verified                                         reviewText  \\\n0       1        1  Truly hate it when I make a bad call on a book...   \n1       1        0  Only 4% of this book is the discretion it isn'...   \n2       1        1  The quality of writing for this book is very p...   \n3       1        1  The Outback is the vast, remote, arid area of ...   \n4       1        1  Grace Burrowes lives within a few miles of me,...   \n\n                         summary  unixReviewTime  vote image  \\\n0                       Juvenile      1419638400     0     0   \n1            Not worth your time      1466812800     0     0   \n2                   poor quality      1368403200     0     0   \n3     Outback is in AUSTRALIA!!!      1336608000     0     0   \n4  Not as good as its progenitor      1378252800     0     0   \n\n                                    processed_review  \\\n0  truly hate bad book waste money . honestly fin...   \n1  4 % book discretion worth time money . say 800...   \n2  quality writing book poor .   understand insta...   \n3  Outback vast , remote , arid area Australia ac...   \n4  Grace Burrowes live mile , want tell enjoy Gro...   \n\n                                     lemmatized_text   ADV  ...   AUX  PART  \\\n0  truly hate bad book waste money . honestly fin...   4.0  ...   2.0   2.0   \n1  4 % book discretion worth time money . say 800...   1.0  ...   3.0   2.0   \n2  quality writing book poor .   understand insta...   6.0  ...   9.0   3.0   \n3  Outback vast , remote , arid area Australia ac...   1.0  ...   3.0   0.0   \n4  Grace Burrowes live mile , want tell enjoy Gro...  13.0  ...  12.0  13.0   \n\n   PROPN  NUM  SPACE  INTJ  SYM    X  reviewLength  summaryLength  \n0    2.0  1.0    0.0   0.0  0.0  0.0           272              8  \n1    0.0  2.0    0.0   0.0  0.0  0.0           106             19  \n2    0.0  0.0    3.0   0.0  0.0  0.0           425             12  \n3    3.0  0.0    2.0   0.0  0.0  0.0           145             26  \n4   27.0  3.0    9.0   0.0  0.0  0.0          1235             29  \n\n[5 rows x 29 columns]",
      "text/html": "<div>\n<style scoped>\n    .dataframe tbody tr th:only-of-type {\n        vertical-align: middle;\n    }\n\n    .dataframe tbody tr th {\n        vertical-align: top;\n    }\n\n    .dataframe thead th {\n        text-align: right;\n    }\n</style>\n<table border=\"1\" class=\"dataframe\">\n  <thead>\n    <tr style=\"text-align: right;\">\n      <th></th>\n      <th>overall</th>\n      <th>verified</th>\n      <th>reviewText</th>\n      <th>summary</th>\n      <th>unixReviewTime</th>\n      <th>vote</th>\n      <th>image</th>\n      <th>processed_review</th>\n      <th>lemmatized_text</th>\n      <th>ADV</th>\n      <th>...</th>\n      <th>AUX</th>\n      <th>PART</th>\n      <th>PROPN</th>\n      <th>NUM</th>\n      <th>SPACE</th>\n      <th>INTJ</th>\n      <th>SYM</th>\n      <th>X</th>\n      <th>reviewLength</th>\n      <th>summaryLength</th>\n    </tr>\n  </thead>\n  <tbody>\n    <tr>\n      <th>0</th>\n      <td>1</td>\n      <td>1</td>\n      <td>Truly hate it when I make a bad call on a book...</td>\n      <td>Juvenile</td>\n      <td>1419638400</td>\n      <td>0</td>\n      <td>0</td>\n      <td>truly hate bad book waste money . honestly fin...</td>\n      <td>truly hate bad book waste money . honestly fin...</td>\n      <td>4.0</td>\n      <td>...</td>\n      <td>2.0</td>\n      <td>2.0</td>\n      <td>2.0</td>\n      <td>1.0</td>\n      <td>0.0</td>\n      <td>0.0</td>\n      <td>0.0</td>\n      <td>0.0</td>\n      <td>272</td>\n      <td>8</td>\n    </tr>\n    <tr>\n      <th>1</th>\n      <td>1</td>\n      <td>0</td>\n      <td>Only 4% of this book is the discretion it isn'...</td>\n      <td>Not worth your time</td>\n      <td>1466812800</td>\n      <td>0</td>\n      <td>0</td>\n      <td>4 % book discretion worth time money . say 800...</td>\n      <td>4 % book discretion worth time money . say 800...</td>\n      <td>1.0</td>\n      <td>...</td>\n      <td>3.0</td>\n      <td>2.0</td>\n      <td>0.0</td>\n      <td>2.0</td>\n      <td>0.0</td>\n      <td>0.0</td>\n      <td>0.0</td>\n      <td>0.0</td>\n      <td>106</td>\n      <td>19</td>\n    </tr>\n    <tr>\n      <th>2</th>\n      <td>1</td>\n      <td>1</td>\n      <td>The quality of writing for this book is very p...</td>\n      <td>poor quality</td>\n      <td>1368403200</td>\n      <td>0</td>\n      <td>0</td>\n      <td>quality writing book poor .   understand insta...</td>\n      <td>quality writing book poor .   understand insta...</td>\n      <td>6.0</td>\n      <td>...</td>\n      <td>9.0</td>\n      <td>3.0</td>\n      <td>0.0</td>\n      <td>0.0</td>\n      <td>3.0</td>\n      <td>0.0</td>\n      <td>0.0</td>\n      <td>0.0</td>\n      <td>425</td>\n      <td>12</td>\n    </tr>\n    <tr>\n      <th>3</th>\n      <td>1</td>\n      <td>1</td>\n      <td>The Outback is the vast, remote, arid area of ...</td>\n      <td>Outback is in AUSTRALIA!!!</td>\n      <td>1336608000</td>\n      <td>0</td>\n      <td>0</td>\n      <td>Outback vast , remote , arid area Australia ac...</td>\n      <td>Outback vast , remote , arid area Australia ac...</td>\n      <td>1.0</td>\n      <td>...</td>\n      <td>3.0</td>\n      <td>0.0</td>\n      <td>3.0</td>\n      <td>0.0</td>\n      <td>2.0</td>\n      <td>0.0</td>\n      <td>0.0</td>\n      <td>0.0</td>\n      <td>145</td>\n      <td>26</td>\n    </tr>\n    <tr>\n      <th>4</th>\n      <td>1</td>\n      <td>1</td>\n      <td>Grace Burrowes lives within a few miles of me,...</td>\n      <td>Not as good as its progenitor</td>\n      <td>1378252800</td>\n      <td>0</td>\n      <td>0</td>\n      <td>Grace Burrowes live mile , want tell enjoy Gro...</td>\n      <td>Grace Burrowes live mile , want tell enjoy Gro...</td>\n      <td>13.0</td>\n      <td>...</td>\n      <td>12.0</td>\n      <td>13.0</td>\n      <td>27.0</td>\n      <td>3.0</td>\n      <td>9.0</td>\n      <td>0.0</td>\n      <td>0.0</td>\n      <td>0.0</td>\n      <td>1235</td>\n      <td>29</td>\n    </tr>\n  </tbody>\n</table>\n<p>5 rows × 29 columns</p>\n</div>"
     },
     "execution_count": 17,
     "metadata": {},
     "output_type": "execute_result"
    }
   ],
   "source": [
    "df.head()"
   ]
  },
  {
   "cell_type": "markdown",
   "metadata": {},
   "source": [
    "## GridSearch for Ideal Model"
   ]
  },
  {
   "cell_type": "code",
   "execution_count": 21,
   "outputs": [
    {
     "ename": "KeyboardInterrupt",
     "evalue": "",
     "output_type": "error",
     "traceback": [
      "\u001B[0;31m---------------------------------------------------------------------------\u001B[0m",
      "\u001B[0;31mKeyboardInterrupt\u001B[0m                         Traceback (most recent call last)",
      "\u001B[0;31mKeyboardInterrupt\u001B[0m: "
     ]
    }
   ],
   "source": [
    "from sklearn.model_selection import train_test_split, GridSearchCV\n",
    "from sklearn.pipeline import Pipeline\n",
    "from sklearn.feature_extraction.text import TfidfTransformer\n",
    "from sklearn.feature_extraction.text import CountVectorizer\n",
    "from sklearn.linear_model import SGDClassifier\n",
    "\n",
    "pipeline = Pipeline(steps=[\n",
    "    (\"vect\", CountVectorizer()),\n",
    "    (\"tfidf\", TfidfTransformer()),\n",
    "    (\"clf\", SGDClassifier())\n",
    "])\n",
    "\n",
    "param_grid ={\n",
    "    \"vect__ngram_range\": [(1, 3)], # Other ngram options were tried.\n",
    "    \"vect__strip_accents\": [None], # Other vars were tried\n",
    "    \"vect__stop_words\": [None], # Other vars were tried\n",
    "    \"tfidf__norm\": [\"l2\"], # Other vars were tried\n",
    "    \"tfidf__sublinear_tf\": [True], # Other vars were tried\n",
    "    \"tfidf__use_idf\": [True], # Other vars were tried\n",
    "    \"clf__alpha\": [0.00001], # Other vars were tried\n",
    "    \"clf__penalty\": [\"elasticnet\"], # Other vars were tried\n",
    "    \"clf__loss\": [\"log_loss\"] # Other vars were tried\n",
    "}\n",
    "\n",
    "X, y = df['reviewText'] +  df['summary'], df['overall']\n",
    "X_train, X_test, y_train, y_test = train_test_split(X, y, random_state=42)\n",
    "\n",
    "search = GridSearchCV(pipeline, param_grid, n_jobs=4, verbose=3, cv=3, error_score=0.0)\n",
    "search.fit(X_train, y_train)\n",
    "\n",
    "print(\"Best parameter (CV score=%0.3f):\" % search.best_score_)\n",
    "print(search.best_params_)\n"
   ],
   "metadata": {
    "collapsed": false,
    "ExecuteTime": {
     "end_time": "2023-12-11T21:15:42.502568Z",
     "start_time": "2023-12-11T21:15:37.105371Z"
    }
   }
  },
  {
   "cell_type": "code",
   "execution_count": 23,
   "outputs": [
    {
     "name": "stdout",
     "output_type": "stream",
     "text": [
      "Number of training samples: 75000\n",
      "Micro-averaged F1 score on test set: 0.624\n",
      "Accuracy of model: 0.6237\n"
     ]
    },
    {
     "data": {
      "text/plain": "<sklearn.metrics._plot.confusion_matrix.ConfusionMatrixDisplay at 0x16306cb10>"
     },
     "execution_count": 23,
     "metadata": {},
     "output_type": "execute_result"
    },
    {
     "data": {
      "text/plain": "<Figure size 640x480 with 2 Axes>",
      "image/png": "[encoded data removed]"
     },
     "metadata": {},
     "output_type": "display_data"
    }
   ],
   "source": [
    "from sklearn.model_selection import train_test_split, GridSearchCV\n",
    "from sklearn.pipeline import Pipeline\n",
    "from sklearn.feature_extraction.text import TfidfTransformer\n",
    "from sklearn.feature_extraction.text import CountVectorizer\n",
    "from sklearn.linear_model import SGDClassifier\n",
    "from sklearn.metrics import f1_score\n",
    "from sklearn.metrics import confusion_matrix, ConfusionMatrixDisplay\n",
    "\n",
    "pipeline = Pipeline(steps=[\n",
    "    (\"vect\", CountVectorizer()),\n",
    "    (\"tfidf\", TfidfTransformer()),\n",
    "    (\"clf\", SGDClassifier())\n",
    "])\n",
    "\n",
    "best_params = {\n",
    "    'vect__ngram_range': (1, 3),\n",
    "    'vect__stop_words': None,\n",
    "    'vect__strip_accents': None,\n",
    "    'tfidf__norm': 'l2',\n",
    "    'tfidf__sublinear_tf': True,\n",
    "    'tfidf__use_idf': True,\n",
    "    'clf__alpha': 1e-05, \n",
    "    'clf__loss': 'log_loss', \n",
    "    'clf__penalty': 'elasticnet', \n",
    "}\n",
    "\n",
    "classifier = pipeline.set_params(**best_params)\n",
    "\n",
    "# The space is important, otherwise this accidentally creates joined words.\n",
    "X, y = df['reviewText'] + \" \" + df['summary'],  df['overall']\n",
    "X_train, X_test, y_train, y_test = train_test_split(X, y, random_state=55)\n",
    "\n",
    "print(\"Number of training samples:\", len(X_train))\n",
    "\n",
    "classifier.fit(X_train, y_train)\n",
    "y_pred = classifier.predict(X_test)\n",
    "\n",
    "print(\"Micro-averaged F1 score on test set: %0.3f\"% f1_score(y_test, y_pred, average=\"micro\"))\n",
    "\n",
    "accuracy = classifier.score(X_test, y_test)\n",
    "print(f\"Accuracy of model: {accuracy:.4f}\")\n",
    "\n",
    "cm = confusion_matrix(y_test, y_pred, normalize='true')\n",
    "disp = ConfusionMatrixDisplay(confusion_matrix=cm)\n",
    "disp.plot(cmap='inferno')"
   ],
   "metadata": {
    "collapsed": false,
    "ExecuteTime": {
     "end_time": "2023-12-11T21:18:58.968757Z",
     "start_time": "2023-12-11T21:17:34.529962Z"
    }
   }
  }
 ],
 "metadata": {
  "kernelspec": {
   "display_name": "Python 3 (ipykernel)",
   "language": "python",
   "name": "python3"
  },
  "language_info": {
   "codemirror_mode": {
    "name": "ipython",
    "version": 3
   },
   "file_extension": ".py",
   "mimetype": "text/x-python",
   "name": "python",
   "nbconvert_exporter": "python",
   "pygments_lexer": "ipython3",
   "version": "3.10.7"
  },
  "vscode": {
   "interpreter": {
    "hash": "78f26278aaebced278c5097c56985d85bde54a4cf6cf6ca5c930d7239c5fca84"
   }
  }
 },
 "nbformat": 4,
 "nbformat_minor": 4
}
