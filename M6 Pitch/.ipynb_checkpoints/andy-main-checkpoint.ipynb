{
 "cells": [
  {
   "cell_type": "code",
<<<<<<< Updated upstream
   "execution_count": 9,
   "metadata": {
    "ExecuteTime": {
     "end_time": "2023-12-08T00:39:51.122758Z",
     "start_time": "2023-12-08T00:39:50.925218Z"
    }
   },
   "outputs": [],
   "source": [
    "import pandas as pd\n",
    "from sklearn.feature_extraction.text import CountVectorizer"
   ]
  },
  {
   "cell_type": "markdown",
   "metadata": {},
   "source": [
    "was trying an amazon sagemaker just to get more compute power for training the model. this is left over code from that."
   ]
  },
  {
   "cell_type": "code",
   "execution_count": 10,
   "metadata": {
    "ExecuteTime": {
     "end_time": "2023-12-08T00:39:51.176577Z",
     "start_time": "2023-12-08T00:39:50.960298Z"
    }
   },
   "outputs": [],
   "source": [
    "# import zipfile\n",
    "# import os\n",
    "\n",
    "# def unzip_file(zip_file_path):\n",
    "#     # Get the directory where the zip file is located\n",
    "#     extract_to_directory = os.path.splitext(zip_file_path)[0]\n",
    "\n",
    "#     with zipfile.ZipFile(zip_file_path, 'r') as zip_ref:\n",
    "#         zip_ref.extractall(extract_to_directory)\n",
    "\n",
    "# notebook_directory = os.path.dirname(os.path.abspath(\"main.ipynb\"))\n",
    "\n",
    "# # Replace 'Kindle_Store.zip' with the actual name of your zip file\n",
    "# zip_file_name = 'Kindle_Store.zip'\n",
    "\n",
    "# # Full path to the zip file\n",
    "# zip_file_path = os.path.join(notebook_directory, zip_file_name)\n",
    "# print(zip_file_path)\n",
    "# # Check if the zip file exists\n",
    "# if os.path.exists(zip_file_path):\n",
    "#     # Call the function to unzip the file\n",
    "#     unzip_file(zip_file_path)\n",
    "# else:\n",
    "#     print(\"The specified zip file does not exist.\")\n"
   ]
  },
  {
   "cell_type": "markdown",
   "metadata": {},
   "source": [
    "## Loading the data using chunking"
   ]
  },
  {
   "cell_type": "code",
   "execution_count": 11,
   "metadata": {
    "ExecuteTime": {
     "end_time": "2023-12-08T00:42:31.191851Z",
     "start_time": "2023-12-08T00:40:18.521157Z"
    }
   },
   "outputs": [],
   "source": [
    "# Read JSON file in chunks\n",
    "chunk_size = 100000  # Adjust the chunk size as needed\n",
    "chunks = []\n",
    "with open('Kindle_Store.json', 'r') as file:\n",
    "    for chunk in pd.read_json(file, chunksize=chunk_size, lines=True):\n",
    "        chunks.append(chunk)\n",
    "\n",
    "# Concatenate all chunks to form a single DataFrame\n",
    "df = pd.concat(chunks, ignore_index=True)"
   ]
  },
  {
   "cell_type": "code",
   "execution_count": 12,
   "metadata": {
    "ExecuteTime": {
     "end_time": "2023-12-08T00:42:31.793972Z",
     "start_time": "2023-12-08T00:42:31.057866Z"
=======
   "execution_count": 2,
   "metadata": {
    "ExecuteTime": {
     "end_time": "2023-12-09T21:33:06.326979Z",
     "start_time": "2023-12-09T21:33:06.299481Z"
    }
   },
   "outputs": [],
   "source": [
    "import pandas as pd"
   ]
  },
  {
   "cell_type": "code",
   "execution_count": 7,
   "metadata": {
    "ExecuteTime": {
     "end_time": "2023-12-09T21:33:53.368175Z",
     "start_time": "2023-12-09T21:33:52.928066Z"
    }
   },
   "outputs": [],
   "source": [
    "df = pd.read_feather(\"100k_kindle_reviews.feather\")"
   ]
  },
  {
   "cell_type": "code",
   "execution_count": 8,
   "metadata": {
    "ExecuteTime": {
     "end_time": "2023-12-09T21:33:54.542756Z",
     "start_time": "2023-12-09T21:33:54.482152Z"
    }
   },
   "outputs": [
    {
     "name": "stdout",
     "output_type": "stream",
     "text": [
      "<class 'pandas.core.frame.DataFrame'>\n",
      "Index: 100000 entries, 4539579 to 2292238\n",
      "Data columns (total 12 columns):\n",
      " #   Column          Non-Null Count   Dtype \n",
      "---  ------          --------------   ----- \n",
      " 0   overall         100000 non-null  int64 \n",
      " 1   verified        100000 non-null  bool  \n",
      " 2   reviewTime      100000 non-null  object\n",
      " 3   reviewerID      100000 non-null  object\n",
      " 4   asin            100000 non-null  object\n",
      " 5   style           100000 non-null  object\n",
      " 6   reviewerName    99993 non-null   object\n",
      " 7   reviewText      99977 non-null   object\n",
      " 8   summary         99961 non-null   object\n",
      " 9   unixReviewTime  100000 non-null  int64 \n",
      " 10  vote            100000 non-null  int64 \n",
      " 11  image           63 non-null      object\n",
      "dtypes: bool(1), int64(3), object(8)\n",
      "memory usage: 9.3+ MB\n"
     ]
    }
   ],
   "source": [
    "df.info()"
   ]
  },
  {
   "cell_type": "code",
   "execution_count": 9,
   "metadata": {
    "ExecuteTime": {
     "end_time": "2023-12-09T21:33:56.800136Z",
     "start_time": "2023-12-09T21:33:56.790540Z"
>>>>>>> Stashed changes
    }
   },
   "outputs": [
    {
     "data": {
<<<<<<< Updated upstream
      "text/plain": "   overall  verified   reviewTime      reviewerID        asin  \\\n0        4      True  12 29, 2012  A27UD5HYAKBL97  1423600150   \n1        5      True   03 6, 2012   A8P5DK8LLOYGH  1423600150   \n2        5      True  08 12, 2009  A3OM9W7DXSUIIY  1423600150   \n3        3     False   11 3, 2006  A3DPAR2PWB9BT8  1423600150   \n4        5     False  04 11, 2006  A2ONTBSAX7GIOV  1423600150   \n\n                       style           reviewerName  \\\n0  {'Format:': ' Hardcover'}                 Cheryl   \n1  {'Format:': ' Hardcover'}                Shay365   \n2  {'Format:': ' Hardcover'}             R. Peckham   \n3  {'Format:': ' Hardcover'}                   JJSS   \n4  {'Format:': ' Hardcover'}  Three Guys from Miami   \n\n                                          reviewText  \\\n0  If you like making salsas this is a great book...   \n1  great little book. simple and right to the poi...   \n2  This book has good pics of the recipes and eas...   \n3  I admire the SF School of Cooking, but was dis...   \n4  Many people are surprised to find out that we ...   \n\n                                summary  unixReviewTime vote image  \n0                            Great Book      1356739200  NaN   NaN  \n1                     great little book      1330992000    3   NaN  \n2        very good bok with good ideas.      1250035200  NaN   NaN  \n3                           Ok cookbook      1162512000    3   NaN  \n4  Fresh and Tasty Ideas from Santa Fe!      1144713600   15   NaN  ",
      "text/html": "<div>\n<style scoped>\n    .dataframe tbody tr th:only-of-type {\n        vertical-align: middle;\n    }\n\n    .dataframe tbody tr th {\n        vertical-align: top;\n    }\n\n    .dataframe thead th {\n        text-align: right;\n    }\n</style>\n<table border=\"1\" class=\"dataframe\">\n  <thead>\n    <tr style=\"text-align: right;\">\n      <th></th>\n      <th>overall</th>\n      <th>verified</th>\n      <th>reviewTime</th>\n      <th>reviewerID</th>\n      <th>asin</th>\n      <th>style</th>\n      <th>reviewerName</th>\n      <th>reviewText</th>\n      <th>summary</th>\n      <th>unixReviewTime</th>\n      <th>vote</th>\n      <th>image</th>\n    </tr>\n  </thead>\n  <tbody>\n    <tr>\n      <th>0</th>\n      <td>4</td>\n      <td>True</td>\n      <td>12 29, 2012</td>\n      <td>A27UD5HYAKBL97</td>\n      <td>1423600150</td>\n      <td>{'Format:': ' Hardcover'}</td>\n      <td>Cheryl</td>\n      <td>If you like making salsas this is a great book...</td>\n      <td>Great Book</td>\n      <td>1356739200</td>\n      <td>NaN</td>\n      <td>NaN</td>\n    </tr>\n    <tr>\n      <th>1</th>\n      <td>5</td>\n      <td>True</td>\n      <td>03 6, 2012</td>\n      <td>A8P5DK8LLOYGH</td>\n      <td>1423600150</td>\n      <td>{'Format:': ' Hardcover'}</td>\n      <td>Shay365</td>\n      <td>great little book. simple and right to the poi...</td>\n      <td>great little book</td>\n      <td>1330992000</td>\n      <td>3</td>\n      <td>NaN</td>\n    </tr>\n    <tr>\n      <th>2</th>\n      <td>5</td>\n      <td>True</td>\n      <td>08 12, 2009</td>\n      <td>A3OM9W7DXSUIIY</td>\n      <td>1423600150</td>\n      <td>{'Format:': ' Hardcover'}</td>\n      <td>R. Peckham</td>\n      <td>This book has good pics of the recipes and eas...</td>\n      <td>very good bok with good ideas.</td>\n      <td>1250035200</td>\n      <td>NaN</td>\n      <td>NaN</td>\n    </tr>\n    <tr>\n      <th>3</th>\n      <td>3</td>\n      <td>False</td>\n      <td>11 3, 2006</td>\n      <td>A3DPAR2PWB9BT8</td>\n      <td>1423600150</td>\n      <td>{'Format:': ' Hardcover'}</td>\n      <td>JJSS</td>\n      <td>I admire the SF School of Cooking, but was dis...</td>\n      <td>Ok cookbook</td>\n      <td>1162512000</td>\n      <td>3</td>\n      <td>NaN</td>\n    </tr>\n    <tr>\n      <th>4</th>\n      <td>5</td>\n      <td>False</td>\n      <td>04 11, 2006</td>\n      <td>A2ONTBSAX7GIOV</td>\n      <td>1423600150</td>\n      <td>{'Format:': ' Hardcover'}</td>\n      <td>Three Guys from Miami</td>\n      <td>Many people are surprised to find out that we ...</td>\n      <td>Fresh and Tasty Ideas from Santa Fe!</td>\n      <td>1144713600</td>\n      <td>15</td>\n      <td>NaN</td>\n    </tr>\n  </tbody>\n</table>\n</div>"
     },
     "execution_count": 12,
=======
      "text/plain": "         overall  verified   reviewTime      reviewerID        asin  \\\n4539579        1      True   10 1, 2016  A326085M0DK10B  B00IA34QKO   \n2317524        1      True  05 23, 2015  A3744VUPABS7W0  B00REZMCF0   \n3569567        1      True  03 30, 2012  A3IGQHD8E7A6HU  B001E0PW8A   \n1561699        1      True   12 6, 2014  A28B5ZUPE5K7UU  B00I52PPT6   \n5193680        1      True  06 25, 2015  A1I3GCIBVIYAZ8  B00Y26BZJS   \n\n                                  style     reviewerName  \\\n4539579  {'Format:': ' Kindle Edition'}    Crazyartdolls   \n2317524  {'Format:': ' Kindle Edition'}  Kindle Customer   \n3569567  {'Format:': ' Kindle Edition'}         Petey440   \n1561699  {'Format:': ' Kindle Edition'}           pegret   \n5193680  {'Format:': ' Kindle Edition'}        Tiffany S   \n\n                                                reviewText  \\\n4539579  This story was so short and went nowhere other...   \n2317524  A stuttering and lukewarm romance. A main char...   \n3569567  This was an account of someone who is not only...   \n1561699                               Haven't read it yet.   \n5193680  Out of only sheer morbid curiosity I picked up...   \n\n                    summary  unixReviewTime  vote image  \n4539579                Blah      1475280000     0  None  \n2317524             Skip it      1432339200     0  None  \n3569567    It was just bad.      1333065600     0  None  \n1561699            The same      1417824000     0  None  \n5193680  Predictably Boring      1435190400     0  None  ",
      "text/html": "<div>\n<style scoped>\n    .dataframe tbody tr th:only-of-type {\n        vertical-align: middle;\n    }\n\n    .dataframe tbody tr th {\n        vertical-align: top;\n    }\n\n    .dataframe thead th {\n        text-align: right;\n    }\n</style>\n<table border=\"1\" class=\"dataframe\">\n  <thead>\n    <tr style=\"text-align: right;\">\n      <th></th>\n      <th>overall</th>\n      <th>verified</th>\n      <th>reviewTime</th>\n      <th>reviewerID</th>\n      <th>asin</th>\n      <th>style</th>\n      <th>reviewerName</th>\n      <th>reviewText</th>\n      <th>summary</th>\n      <th>unixReviewTime</th>\n      <th>vote</th>\n      <th>image</th>\n    </tr>\n  </thead>\n  <tbody>\n    <tr>\n      <th>4539579</th>\n      <td>1</td>\n      <td>True</td>\n      <td>10 1, 2016</td>\n      <td>A326085M0DK10B</td>\n      <td>B00IA34QKO</td>\n      <td>{'Format:': ' Kindle Edition'}</td>\n      <td>Crazyartdolls</td>\n      <td>This story was so short and went nowhere other...</td>\n      <td>Blah</td>\n      <td>1475280000</td>\n      <td>0</td>\n      <td>None</td>\n    </tr>\n    <tr>\n      <th>2317524</th>\n      <td>1</td>\n      <td>True</td>\n      <td>05 23, 2015</td>\n      <td>A3744VUPABS7W0</td>\n      <td>B00REZMCF0</td>\n      <td>{'Format:': ' Kindle Edition'}</td>\n      <td>Kindle Customer</td>\n      <td>A stuttering and lukewarm romance. A main char...</td>\n      <td>Skip it</td>\n      <td>1432339200</td>\n      <td>0</td>\n      <td>None</td>\n    </tr>\n    <tr>\n      <th>3569567</th>\n      <td>1</td>\n      <td>True</td>\n      <td>03 30, 2012</td>\n      <td>A3IGQHD8E7A6HU</td>\n      <td>B001E0PW8A</td>\n      <td>{'Format:': ' Kindle Edition'}</td>\n      <td>Petey440</td>\n      <td>This was an account of someone who is not only...</td>\n      <td>It was just bad.</td>\n      <td>1333065600</td>\n      <td>0</td>\n      <td>None</td>\n    </tr>\n    <tr>\n      <th>1561699</th>\n      <td>1</td>\n      <td>True</td>\n      <td>12 6, 2014</td>\n      <td>A28B5ZUPE5K7UU</td>\n      <td>B00I52PPT6</td>\n      <td>{'Format:': ' Kindle Edition'}</td>\n      <td>pegret</td>\n      <td>Haven't read it yet.</td>\n      <td>The same</td>\n      <td>1417824000</td>\n      <td>0</td>\n      <td>None</td>\n    </tr>\n    <tr>\n      <th>5193680</th>\n      <td>1</td>\n      <td>True</td>\n      <td>06 25, 2015</td>\n      <td>A1I3GCIBVIYAZ8</td>\n      <td>B00Y26BZJS</td>\n      <td>{'Format:': ' Kindle Edition'}</td>\n      <td>Tiffany S</td>\n      <td>Out of only sheer morbid curiosity I picked up...</td>\n      <td>Predictably Boring</td>\n      <td>1435190400</td>\n      <td>0</td>\n      <td>None</td>\n    </tr>\n  </tbody>\n</table>\n</div>"
     },
     "execution_count": 9,
>>>>>>> Stashed changes
     "metadata": {},
     "output_type": "execute_result"
    }
   ],
   "source": [
    "df.head()"
   ]
  },
  {
   "cell_type": "code",
<<<<<<< Updated upstream
   "execution_count": 13,
   "metadata": {
    "ExecuteTime": {
     "end_time": "2023-12-08T00:42:31.809180Z",
     "start_time": "2023-12-08T00:42:31.139449Z"
    }
   },
   "outputs": [
    {
     "name": "stdout",
     "output_type": "stream",
     "text": [
      "<class 'pandas.core.frame.DataFrame'>\n",
      "RangeIndex: 5722988 entries, 0 to 5722987\n",
      "Data columns (total 12 columns):\n",
      " #   Column          Dtype \n",
      "---  ------          ----- \n",
      " 0   overall         int64 \n",
      " 1   verified        bool  \n",
      " 2   reviewTime      object\n",
      " 3   reviewerID      object\n",
      " 4   asin            object\n",
      " 5   style           object\n",
      " 6   reviewerName    object\n",
      " 7   reviewText      object\n",
      " 8   summary         object\n",
      " 9   unixReviewTime  int64 \n",
      " 10  vote            object\n",
      " 11  image           object\n",
      "dtypes: bool(1), int64(2), object(9)\n",
      "memory usage: 485.8+ MB\n"
     ]
    }
   ],
   "source": [
    "df.info()"
   ]
  },
  {
   "cell_type": "markdown",
   "metadata": {},
   "source": [
    "turn image into dummy"
   ]
  },
  {
   "cell_type": "code",
   "execution_count": 14,
   "metadata": {
    "ExecuteTime": {
     "end_time": "2023-12-08T00:42:31.810013Z",
     "start_time": "2023-12-08T00:42:31.664964Z"
=======
   "execution_count": 10,
   "metadata": {
    "ExecuteTime": {
     "end_time": "2023-12-09T21:34:05.724242Z",
     "start_time": "2023-12-09T21:34:05.692978Z"
>>>>>>> Stashed changes
    }
   },
   "outputs": [],
   "source": [
    "# if image is non null return 1 else 0\n",
    "df['image'] = df['image'].notnull().astype('int')"
   ]
  },
  {
   "cell_type": "markdown",
   "metadata": {},
   "source": [
<<<<<<< Updated upstream
    "convert votes into int"
   ]
  },
  {
   "cell_type": "code",
   "execution_count": 15,
   "metadata": {
    "ExecuteTime": {
     "end_time": "2023-12-08T00:42:34.820510Z",
     "start_time": "2023-12-08T00:42:31.930493Z"
    }
   },
   "outputs": [],
   "source": [
    "# remove commas from vote column\n",
    "df['vote'] = df['vote'].str.replace(',', '')\n",
    "# cast vote column to int, converting Nan to 0\n",
    "df['vote'] = df['vote'].fillna(0)\n",
    "df['vote'] = df['vote'].astype('int')"
   ]
  },
  {
   "cell_type": "markdown",
   "metadata": {},
   "source": [
=======
>>>>>>> Stashed changes
    "replace null with empty string"
   ]
  },
  {
   "cell_type": "code",
<<<<<<< Updated upstream
   "execution_count": 16,
   "metadata": {
    "ExecuteTime": {
     "end_time": "2023-12-08T00:42:54.208623Z",
     "start_time": "2023-12-08T00:42:49.492456Z"
=======
   "execution_count": 21,
   "metadata": {
    "ExecuteTime": {
     "end_time": "2023-12-09T21:36:52.296877Z",
     "start_time": "2023-12-09T21:36:52.268162Z"
>>>>>>> Stashed changes
    }
   },
   "outputs": [],
   "source": [
    "# in review text replace null values with empty string\n",
<<<<<<< Updated upstream
    "df['reviewText'] = df['reviewText'].fillna('')"
=======
    "df['reviewText'] = df['reviewText'].fillna('')\n",
    "df['summary'] = df['summary'].fillna('')"
>>>>>>> Stashed changes
   ]
  },
  {
   "cell_type": "markdown",
   "metadata": {},
   "source": [
    "convert verfied to dummy"
   ]
  },
  {
   "cell_type": "code",
<<<<<<< Updated upstream
   "execution_count": 17,
   "metadata": {
    "ExecuteTime": {
     "end_time": "2023-12-08T00:42:54.497318Z",
     "start_time": "2023-12-08T00:42:54.441936Z"
=======
   "execution_count": 12,
   "metadata": {
    "ExecuteTime": {
     "end_time": "2023-12-09T21:34:33.185908Z",
     "start_time": "2023-12-09T21:34:33.173958Z"
>>>>>>> Stashed changes
    }
   },
   "outputs": [],
   "source": [
    "# convert verified to int 1 if true 0 if false\n",
    "df['verified'] = df['verified'].astype('int')"
   ]
  },
  {
<<<<<<< Updated upstream
   "cell_type": "markdown",
   "metadata": {},
   "source": [
    "checking the types of styles"
   ]
  },
  {
   "cell_type": "code",
   "execution_count": 18,
   "metadata": {
    "ExecuteTime": {
     "end_time": "2023-12-08T00:43:09.813395Z",
     "start_time": "2023-12-08T00:43:09.734883Z"
    }
   },
   "outputs": [
    {
     "data": {
      "text/plain": "style\n{'Format:': ' Kindle Edition'}                     5045160\n{'Format:': ' Paperback'}                           165154\n{'Format:': ' Hardcover'}                            72067\n{'Format:': ' Mass Market Paperback'}                10295\n{'Format:': ' Audible Audiobook'}                     6455\n{'Format:': ' Audio CD'}                              2602\n{'Format:': ' Board book'}                            1827\n{'Format:': ' Kindle Edition with Audio/Video'}       1429\n{'Format:': ' Print Magazine'}                        1116\n{'Format:': ' Perfect Paperback'}                      533\n{'Format:': ' Leather Bound'}                          463\n{'Format:': ' MP3 CD'}                                 419\n{'Format:': ' Flexibound'}                             341\n{'Format:': ' Comic'}                                  291\n{'Format:': ' DVD'}                                    276\n{'Format:': ' Spiral-bound'}                           154\n{'Format:': ' Library Binding'}                        148\n{'Format:': ' Audio Cassette'}                         141\n{'Format:': ' Loose Leaf'}                             136\n{'Format:': ' Unknown Binding'}                         74\n{'Format:': ' Prime Video'}                             60\n{'Format:': ' Imitation Leather'}                       58\n{'Format:': ' Sheet music'}                             48\n{'Format:': ' School & Library Binding'}                48\n{'Format:': ' Vinyl'}                                   41\n{'Format:': ' Plastic Comb'}                            24\n{'Format:': ' Pamphlet'}                                23\n{'Format:': ' Cards'}                                   20\n{'Format:': ' MP3 Music'}                               17\n{'Format:': ' CD-ROM'}                                  16\n{'Format:': ' Calendar'}                                15\n{'Format:': ' 3.5\" disk'}                               12\n{'Format:': ' Bonded Leather'}                          12\n{'Format:': ' VHS Tape'}                                 8\n{'Format:': ' Diary'}                                    8\n{'Format:': ' Textbook Binding'}                         6\n{'Format:': ' Staple Bound'}                             6\n{'Format:': ' Foam Book'}                                5\n{'Format:': ' 3.5\" and 5.25\" disks'}                     5\n{'Format:': ' Digital'}                                  5\n{'Format:': ' Misc. Supplies'}                           5\n{'Format:': ' Journal'}                                  3\n{'Format:': ' Blu-ray'}                                  3\n{'Format:': ' Preloaded Digital Audio Player'}           3\n{'Format:': ' Printed Access Code'}                      3\n{'Format:': ' Print on Demand (Paperback)'}              2\n{'Format:': ' Hardcover Comic'}                          2\n{'Format:': ' Unbound'}                                  2\n{'Format:': ' Single Issue Magazine'}                    2\n{'Format:': ' Album'}                                    1\n{'Format:': ' MiniDisc'}                                 1\n{'Format:': ' Tankobon Softcover'}                       1\n{'Format:': ' Health and Beauty'}                        1\n{'Format:': ' Pocket Book'}                              1\n{'Format:': ' DVD-ROM'}                                  1\n{'Format:': ' Accessory'}                                1\n{'Format:': ' Toy'}                                      1\n{'Format:': ' Hardcover-spiral'}                         1\n{'Format:': ' Workbook'}                                 1\n{'Format:': ' Kitchen'}                                  1\nName: count, dtype: int64"
     },
     "execution_count": 18,
     "metadata": {},
     "output_type": "execute_result"
    }
   ],
   "source": [
    "df['style'].value_counts()"
   ]
  },
  {
   "cell_type": "markdown",
   "metadata": {},
   "source": [
    "making sure we are only looking at kindle reviews"
   ]
  },
  {
   "cell_type": "code",
   "execution_count": 19,
   "metadata": {
    "ExecuteTime": {
     "end_time": "2023-12-08T00:44:23.433735Z",
     "start_time": "2023-12-08T00:43:14.397791Z"
=======
   "cell_type": "code",
   "execution_count": 14,
   "metadata": {
    "ExecuteTime": {
     "end_time": "2023-12-09T21:35:07.801034Z",
     "start_time": "2023-12-09T21:35:07.773699Z"
>>>>>>> Stashed changes
    }
   },
   "outputs": [],
   "source": [
<<<<<<< Updated upstream
    "# drop row if style is not {'Format:': ' Kindle Edition'} \n",
    "df = df[df['style'] == {'Format:': ' Kindle Edition'}]\n",
    "# drop style column\n",
=======
>>>>>>> Stashed changes
    "df = df.drop(columns=['style'])"
   ]
  },
  {
   "cell_type": "markdown",
   "metadata": {},
   "source": [
    "dropped reviewtime, already have unix representation"
   ]
  },
  {
   "cell_type": "code",
<<<<<<< Updated upstream
   "execution_count": 20,
   "metadata": {
    "ExecuteTime": {
     "end_time": "2023-12-08T00:45:07.490315Z",
     "start_time": "2023-12-08T00:44:23.390324Z"
=======
   "execution_count": 15,
   "metadata": {
    "ExecuteTime": {
     "end_time": "2023-12-09T21:35:15.657174Z",
     "start_time": "2023-12-09T21:35:15.634777Z"
>>>>>>> Stashed changes
    }
   },
   "outputs": [],
   "source": [
    "# drop the reviewTime column\n",
    "df = df.drop(columns='reviewTime')"
   ]
  },
  {
   "cell_type": "markdown",
   "metadata": {},
   "source": [
    "creating review length column"
   ]
  },
  {
   "cell_type": "code",
<<<<<<< Updated upstream
   "execution_count": 43,
   "metadata": {
    "ExecuteTime": {
     "end_time": "2023-12-08T03:42:05.398153Z",
     "start_time": "2023-12-08T03:41:39.051842Z"
=======
   "execution_count": 16,
   "metadata": {
    "ExecuteTime": {
     "end_time": "2023-12-09T21:35:18.430523Z",
     "start_time": "2023-12-09T21:35:18.401892Z"
>>>>>>> Stashed changes
    }
   },
   "outputs": [],
   "source": [
    "# create a new column called reviewLength\n",
    "df['reviewLength'] = df['reviewText'].apply(lambda x: 0 if isinstance(x, float) else len(x))"
   ]
  },
  {
   "cell_type": "markdown",
   "metadata": {},
   "source": [
    "creating summary length column"
   ]
  },
  {
   "cell_type": "code",
<<<<<<< Updated upstream
   "execution_count": 41,
   "metadata": {
    "ExecuteTime": {
     "end_time": "2023-12-08T03:40:11.981907Z",
     "start_time": "2023-12-08T03:40:01.571441Z"
=======
   "execution_count": 22,
   "metadata": {
    "ExecuteTime": {
     "end_time": "2023-12-09T21:36:55.723952Z",
     "start_time": "2023-12-09T21:36:55.718978Z"
>>>>>>> Stashed changes
    }
   },
   "outputs": [],
   "source": [
    "# create a new column called summaryLength (There were some NaN values in summary, which was forcing the type to be float64.  This ensures everything is an int).\n",
    "df['summaryLength'] = df['summary'].apply(lambda x: 0 if isinstance(x, float) else len(x))"
   ]
  },
  {
   "cell_type": "markdown",
   "metadata": {},
   "source": [
    "asin is the amazon product id. removing this and the reviewer info"
   ]
  },
  {
   "cell_type": "code",
   "execution_count": 23,
   "metadata": {
    "ExecuteTime": {
<<<<<<< Updated upstream
     "end_time": "2023-12-08T00:45:35.460681Z",
     "start_time": "2023-12-08T00:45:23.109117Z"
=======
     "end_time": "2023-12-09T21:37:02.594024Z",
     "start_time": "2023-12-09T21:37:02.557008Z"
>>>>>>> Stashed changes
    }
   },
   "outputs": [],
   "source": [
    "# removing asin, reviewerID, reviewerName\n",
    "df = df.drop(columns=['asin', 'reviewerID', 'reviewerName'])"
   ]
  },
  {
   "cell_type": "markdown",
   "metadata": {},
   "source": [
    "labeling categorical variables"
   ]
  },
  {
   "cell_type": "code",
<<<<<<< Updated upstream
   "execution_count": 24,
   "metadata": {
    "ExecuteTime": {
     "end_time": "2023-12-08T00:45:36.219109Z",
     "start_time": "2023-12-08T00:45:35.823037Z"
=======
   "execution_count": 99,
   "metadata": {
    "ExecuteTime": {
     "end_time": "2023-12-09T22:29:25.640254Z",
     "start_time": "2023-12-09T22:29:25.591465Z"
>>>>>>> Stashed changes
    }
   },
   "outputs": [],
   "source": [
    "# labeling ['verified', 'image'] as categorical\n",
<<<<<<< Updated upstream
    "df[['verified', 'image']] = df[['verified', 'image']].astype('category')"
=======
    "df[['overall', 'verified', 'image']] = df[['overall', 'verified', 'image']].astype('category')"
>>>>>>> Stashed changes
   ]
  },
  {
   "cell_type": "markdown",
   "metadata": {},
   "source": [
    "reviewing data"
   ]
  },
  {
   "cell_type": "code",
<<<<<<< Updated upstream
   "execution_count": 45,
   "metadata": {
    "ExecuteTime": {
     "end_time": "2023-12-08T03:49:08.683816Z",
     "start_time": "2023-12-08T03:49:08.638230Z"
=======
   "execution_count": 100,
   "metadata": {
    "ExecuteTime": {
     "end_time": "2023-12-09T22:29:27.725258Z",
     "start_time": "2023-12-09T22:29:27.715969Z"
>>>>>>> Stashed changes
    }
   },
   "outputs": [
    {
     "data": {
<<<<<<< Updated upstream
      "text/plain": "    overall verified                                         reviewText  \\\n9         5        1        For the salsa lover who likes new recipes!!   \n10        1        1  Recipes are good but the kindle book is just t...   \n14        1        1  No color photos. Would not recommend to others...   \n15        3        1  Enjoyed the read. A bit of a twist to it, fun ...   \n16        5        1             I have enjoyed all work by this author   \n\n                                              summary  unixReviewTime  vote  \\\n9                                          Five Stars      1418688000     0   \n10  Very bad look in old black and white photocopi...      1414368000     0   \n14           Not in color as portrayed on Amazon site      1367884800     0   \n15                              western with a twist.      1412985600     0   \n16                                         Five Stars      1412467200     0   \n\n   image  reviewLength  summaryLength  \n9      0            43             10  \n10     0           326             54  \n14     0           130             40  \n15     0           143             21  \n16     0            38             10  ",
      "text/html": "<div>\n<style scoped>\n    .dataframe tbody tr th:only-of-type {\n        vertical-align: middle;\n    }\n\n    .dataframe tbody tr th {\n        vertical-align: top;\n    }\n\n    .dataframe thead th {\n        text-align: right;\n    }\n</style>\n<table border=\"1\" class=\"dataframe\">\n  <thead>\n    <tr style=\"text-align: right;\">\n      <th></th>\n      <th>overall</th>\n      <th>verified</th>\n      <th>reviewText</th>\n      <th>summary</th>\n      <th>unixReviewTime</th>\n      <th>vote</th>\n      <th>image</th>\n      <th>reviewLength</th>\n      <th>summaryLength</th>\n    </tr>\n  </thead>\n  <tbody>\n    <tr>\n      <th>9</th>\n      <td>5</td>\n      <td>1</td>\n      <td>For the salsa lover who likes new recipes!!</td>\n      <td>Five Stars</td>\n      <td>1418688000</td>\n      <td>0</td>\n      <td>0</td>\n      <td>43</td>\n      <td>10</td>\n    </tr>\n    <tr>\n      <th>10</th>\n      <td>1</td>\n      <td>1</td>\n      <td>Recipes are good but the kindle book is just t...</td>\n      <td>Very bad look in old black and white photocopi...</td>\n      <td>1414368000</td>\n      <td>0</td>\n      <td>0</td>\n      <td>326</td>\n      <td>54</td>\n    </tr>\n    <tr>\n      <th>14</th>\n      <td>1</td>\n      <td>1</td>\n      <td>No color photos. Would not recommend to others...</td>\n      <td>Not in color as portrayed on Amazon site</td>\n      <td>1367884800</td>\n      <td>0</td>\n      <td>0</td>\n      <td>130</td>\n      <td>40</td>\n    </tr>\n    <tr>\n      <th>15</th>\n      <td>3</td>\n      <td>1</td>\n      <td>Enjoyed the read. A bit of a twist to it, fun ...</td>\n      <td>western with a twist.</td>\n      <td>1412985600</td>\n      <td>0</td>\n      <td>0</td>\n      <td>143</td>\n      <td>21</td>\n    </tr>\n    <tr>\n      <th>16</th>\n      <td>5</td>\n      <td>1</td>\n      <td>I have enjoyed all work by this author</td>\n      <td>Five Stars</td>\n      <td>1412467200</td>\n      <td>0</td>\n      <td>0</td>\n      <td>38</td>\n      <td>10</td>\n    </tr>\n  </tbody>\n</table>\n</div>"
     },
     "execution_count": 45,
=======
      "text/plain": "        overall verified                                         reviewText  \\\n4539579       1        1  This story was so short and went nowhere other...   \n2317524       1        1  A stuttering and lukewarm romance. A main char...   \n3569567       1        1  This was an account of someone who is not only...   \n1561699       1        1                               Haven't read it yet.   \n5193680       1        1  Out of only sheer morbid curiosity I picked up...   \n\n                    summary  unixReviewTime  vote image  reviewLength  \\\n4539579                Blah      1475280000     0     0           248   \n2317524             Skip it      1432339200     0     0           158   \n3569567    It was just bad.      1333065600     0     0           635   \n1561699            The same      1417824000     0     0            20   \n5193680  Predictably Boring      1435190400     0     0           527   \n\n         summaryLength  \n4539579              4  \n2317524              7  \n3569567             16  \n1561699              8  \n5193680             18  ",
      "text/html": "<div>\n<style scoped>\n    .dataframe tbody tr th:only-of-type {\n        vertical-align: middle;\n    }\n\n    .dataframe tbody tr th {\n        vertical-align: top;\n    }\n\n    .dataframe thead th {\n        text-align: right;\n    }\n</style>\n<table border=\"1\" class=\"dataframe\">\n  <thead>\n    <tr style=\"text-align: right;\">\n      <th></th>\n      <th>overall</th>\n      <th>verified</th>\n      <th>reviewText</th>\n      <th>summary</th>\n      <th>unixReviewTime</th>\n      <th>vote</th>\n      <th>image</th>\n      <th>reviewLength</th>\n      <th>summaryLength</th>\n    </tr>\n  </thead>\n  <tbody>\n    <tr>\n      <th>4539579</th>\n      <td>1</td>\n      <td>1</td>\n      <td>This story was so short and went nowhere other...</td>\n      <td>Blah</td>\n      <td>1475280000</td>\n      <td>0</td>\n      <td>0</td>\n      <td>248</td>\n      <td>4</td>\n    </tr>\n    <tr>\n      <th>2317524</th>\n      <td>1</td>\n      <td>1</td>\n      <td>A stuttering and lukewarm romance. A main char...</td>\n      <td>Skip it</td>\n      <td>1432339200</td>\n      <td>0</td>\n      <td>0</td>\n      <td>158</td>\n      <td>7</td>\n    </tr>\n    <tr>\n      <th>3569567</th>\n      <td>1</td>\n      <td>1</td>\n      <td>This was an account of someone who is not only...</td>\n      <td>It was just bad.</td>\n      <td>1333065600</td>\n      <td>0</td>\n      <td>0</td>\n      <td>635</td>\n      <td>16</td>\n    </tr>\n    <tr>\n      <th>1561699</th>\n      <td>1</td>\n      <td>1</td>\n      <td>Haven't read it yet.</td>\n      <td>The same</td>\n      <td>1417824000</td>\n      <td>0</td>\n      <td>0</td>\n      <td>20</td>\n      <td>8</td>\n    </tr>\n    <tr>\n      <th>5193680</th>\n      <td>1</td>\n      <td>1</td>\n      <td>Out of only sheer morbid curiosity I picked up...</td>\n      <td>Predictably Boring</td>\n      <td>1435190400</td>\n      <td>0</td>\n      <td>0</td>\n      <td>527</td>\n      <td>18</td>\n    </tr>\n  </tbody>\n</table>\n</div>"
     },
     "execution_count": 100,
>>>>>>> Stashed changes
     "metadata": {},
     "output_type": "execute_result"
    }
   ],
   "source": [
    "df.head()"
   ]
  },
  {
<<<<<<< Updated upstream
   "cell_type": "code",
   "execution_count": 47,
   "outputs": [
    {
     "name": "stderr",
     "output_type": "stream",
     "text": [
      "/Users/andy/csc5610/lib/python3.11/site-packages/seaborn/_oldcore.py:1498: FutureWarning: is_categorical_dtype is deprecated and will be removed in a future version. Use isinstance(dtype, CategoricalDtype) instead\n",
      "  if pd.api.types.is_categorical_dtype(vector):\n",
      "/Users/andy/csc5610/lib/python3.11/site-packages/seaborn/_oldcore.py:1119: FutureWarning: use_inf_as_na option is deprecated and will be removed in a future version. Convert inf values to NaN before operating instead.\n",
      "  with pd.option_context('mode.use_inf_as_na', True):\n"
     ]
    },
    {
     "ename": "AttributeError",
     "evalue": "'Axes' object has no attribute 'show'",
     "output_type": "error",
     "traceback": [
      "\u001B[0;31m---------------------------------------------------------------------------\u001B[0m",
      "\u001B[0;31mAttributeError\u001B[0m                            Traceback (most recent call last)",
      "Cell \u001B[0;32mIn[47], line 3\u001B[0m\n\u001B[1;32m      1\u001B[0m \u001B[38;5;28;01mimport\u001B[39;00m \u001B[38;5;21;01mseaborn\u001B[39;00m \u001B[38;5;28;01mas\u001B[39;00m \u001B[38;5;21;01msns\u001B[39;00m\n\u001B[0;32m----> 3\u001B[0m \u001B[43msns\u001B[49m\u001B[38;5;241;43m.\u001B[39;49m\u001B[43mhistplot\u001B[49m\u001B[43m(\u001B[49m\u001B[43mdata\u001B[49m\u001B[38;5;241;43m=\u001B[39;49m\u001B[43mdf\u001B[49m\u001B[43m,\u001B[49m\u001B[43m \u001B[49m\u001B[43mx\u001B[49m\u001B[38;5;241;43m=\u001B[39;49m\u001B[38;5;124;43m'\u001B[39;49m\u001B[38;5;124;43moverall\u001B[39;49m\u001B[38;5;124;43m'\u001B[39;49m\u001B[43m,\u001B[49m\u001B[43m \u001B[49m\u001B[43mdiscrete\u001B[49m\u001B[38;5;241;43m=\u001B[39;49m\u001B[38;5;28;43;01mTrue\u001B[39;49;00m\u001B[43m)\u001B[49m\u001B[38;5;241;43m.\u001B[39;49m\u001B[43mshow\u001B[49m()\n",
      "\u001B[0;31mAttributeError\u001B[0m: 'Axes' object has no attribute 'show'"
     ]
    },
    {
     "data": {
      "text/plain": "<Figure size 640x480 with 1 Axes>",
      "image/png": "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"
     },
     "metadata": {},
     "output_type": "display_data"
    }
   ],
   "source": [
    "import seaborn as sns\n",
    "\n",
    "sns.histplot(data=df, x='overall', discrete=True)"
   ],
   "metadata": {
    "collapsed": false,
    "ExecuteTime": {
     "end_time": "2023-12-08T03:50:05.811594Z",
     "start_time": "2023-12-08T03:50:03.514014Z"
    }
   }
  },
  {
   "cell_type": "code",
   "execution_count": 50,
   "outputs": [
    {
     "name": "stderr",
     "output_type": "stream",
     "text": [
      "/Users/andy/csc5610/lib/python3.11/site-packages/seaborn/_oldcore.py:1498: FutureWarning: is_categorical_dtype is deprecated and will be removed in a future version. Use isinstance(dtype, CategoricalDtype) instead\n",
      "  if pd.api.types.is_categorical_dtype(vector):\n"
     ]
    },
    {
     "data": {
      "text/plain": "<Axes: xlabel='vote'>"
     },
     "execution_count": 50,
     "metadata": {},
     "output_type": "execute_result"
    },
    {
     "data": {
      "text/plain": "<Figure size 640x480 with 1 Axes>",
      "image/png": "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"
     },
     "metadata": {},
     "output_type": "display_data"
    }
   ],
   "source": [
    "sns.boxplot(data=df, x='vote')"
   ],
   "metadata": {
    "collapsed": false,
    "ExecuteTime": {
     "end_time": "2023-12-08T03:51:46.259001Z",
     "start_time": "2023-12-08T03:51:45.401670Z"
    }
   }
  },
  {
   "cell_type": "code",
   "execution_count": 54,
   "outputs": [],
   "source": [
    "gt_zero = df.query('vote > 0')\n",
    "lteq_zero = df.query('vote <= 0')"
   ],
   "metadata": {
    "collapsed": false,
    "ExecuteTime": {
     "end_time": "2023-12-08T03:54:32.353954Z",
     "start_time": "2023-12-08T03:54:02.484065Z"
    }
   }
  },
  {
   "cell_type": "code",
   "execution_count": 58,
=======
   "cell_type": "markdown",
   "metadata": {},
   "source": [
    "## Initial Model"
   ]
  },
  {
   "cell_type": "code",
   "execution_count": 102,
>>>>>>> Stashed changes
   "outputs": [
    {
     "name": "stdout",
     "output_type": "stream",
     "text": [
<<<<<<< Updated upstream
      "Votes > 0: overall           147014\n",
      "verified          147014\n",
      "reviewText        147014\n",
      "summary           147002\n",
      "unixReviewTime    147014\n",
      "vote              147014\n",
      "image             147014\n",
      "reviewLength      147014\n",
      "summaryLength     147014\n",
      "dtype: int64\n",
      "Votes <= 0: overall           4898146\n",
      "verified          4898146\n",
      "reviewText        4898146\n",
      "summary           4895246\n",
      "unixReviewTime    4898146\n",
      "vote              4898146\n",
      "image             4898146\n",
      "reviewLength      4898146\n",
      "summaryLength     4898146\n",
      "dtype: int64\n"
=======
      "<class 'pandas.core.frame.DataFrame'>\n",
      "Index: 100000 entries, 4539579 to 2292238\n",
      "Data columns (total 9 columns):\n",
      " #   Column          Non-Null Count   Dtype   \n",
      "---  ------          --------------   -----   \n",
      " 0   overall         100000 non-null  category\n",
      " 1   verified        100000 non-null  category\n",
      " 2   reviewText      100000 non-null  object  \n",
      " 3   summary         100000 non-null  object  \n",
      " 4   unixReviewTime  100000 non-null  int64   \n",
      " 5   vote            100000 non-null  int64   \n",
      " 6   image           100000 non-null  category\n",
      " 7   reviewLength    100000 non-null  int64   \n",
      " 8   summaryLength   100000 non-null  int64   \n",
      "dtypes: category(3), int64(4), object(2)\n",
      "memory usage: 5.6+ MB\n"
>>>>>>> Stashed changes
     ]
    }
   ],
   "source": [
<<<<<<< Updated upstream
    "print(f'Votes > 0: {gt_zero.count()}')\n",
    "print(f'Votes == 0: {lteq_zero.count()}')"
=======
    "df.info()"
>>>>>>> Stashed changes
   ],
   "metadata": {
    "collapsed": false,
    "ExecuteTime": {
<<<<<<< Updated upstream
     "end_time": "2023-12-08T03:56:25.510119Z",
     "start_time": "2023-12-08T03:55:55.941322Z"
=======
     "end_time": "2023-12-09T22:29:57.120563Z",
     "start_time": "2023-12-09T22:29:57.102830Z"
>>>>>>> Stashed changes
    }
   }
  },
  {
   "cell_type": "code",
<<<<<<< Updated upstream
   "execution_count": 63,
   "outputs": [
    {
     "name": "stdout",
     "output_type": "stream",
     "text": [
      " Only 2.91% of records have a vote > 1\n"
     ]
    }
   ],
   "source": [
    "print(f' Only {(147014 / (147014 + 4898146)) * 100:.02f}% of records have a vote > 1')"
   ],
   "metadata": {
    "collapsed": false,
    "ExecuteTime": {
     "end_time": "2023-12-08T03:58:43.809081Z",
     "start_time": "2023-12-08T03:58:43.793231Z"
    }
   }
  },
  {
   "cell_type": "code",
   "execution_count": 69,
   "outputs": [
    {
     "data": {
      "text/plain": "6571"
     },
     "execution_count": 69,
     "metadata": {},
     "output_type": "execute_result"
    }
   ],
   "source": [
    "df['vote'].max()"
   ],
   "metadata": {
    "collapsed": false,
    "ExecuteTime": {
     "end_time": "2023-12-08T04:03:05.454045Z",
     "start_time": "2023-12-08T04:03:05.425012Z"
    }
   }
  },
  {
   "cell_type": "code",
   "execution_count": 73,
=======
   "execution_count": 103,
>>>>>>> Stashed changes
   "outputs": [
    {
     "name": "stderr",
     "output_type": "stream",
     "text": [
<<<<<<< Updated upstream
      "/Users/andy/csc5610/lib/python3.11/site-packages/seaborn/_oldcore.py:1498: FutureWarning: is_categorical_dtype is deprecated and will be removed in a future version. Use isinstance(dtype, CategoricalDtype) instead\n",
      "  if pd.api.types.is_categorical_dtype(vector):\n",
      "/Users/andy/csc5610/lib/python3.11/site-packages/seaborn/_oldcore.py:1119: FutureWarning: use_inf_as_na option is deprecated and will be removed in a future version. Convert inf values to NaN before operating instead.\n",
      "  with pd.option_context('mode.use_inf_as_na', True):\n"
     ]
    },
    {
     "data": {
      "text/plain": "<Axes: xlabel='vote', ylabel='Count'>"
     },
     "execution_count": 73,
     "metadata": {},
     "output_type": "execute_result"
    },
    {
     "data": {
      "text/plain": "<Figure size 640x480 with 1 Axes>",
      "image/png": "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"
     },
     "metadata": {},
     "output_type": "display_data"
    }
   ],
   "source": [
    "sns.histplot(data=df.query('vote > 0 and vote <= 100'), x='vote', bins=10)"
   ],
   "metadata": {
    "collapsed": false,
    "ExecuteTime": {
     "end_time": "2023-12-08T04:17:15.006481Z",
     "start_time": "2023-12-08T04:17:10.013697Z"
    }
   }
  },
  {
   "cell_type": "code",
   "execution_count": 76,
   "outputs": [
    {
     "name": "stderr",
     "output_type": "stream",
     "text": [
      "/Users/andy/csc5610/lib/python3.11/site-packages/seaborn/_oldcore.py:1498: FutureWarning: is_categorical_dtype is deprecated and will be removed in a future version. Use isinstance(dtype, CategoricalDtype) instead\n",
      "  if pd.api.types.is_categorical_dtype(vector):\n",
      "/Users/andy/csc5610/lib/python3.11/site-packages/seaborn/_oldcore.py:1119: FutureWarning: use_inf_as_na option is deprecated and will be removed in a future version. Convert inf values to NaN before operating instead.\n",
      "  with pd.option_context('mode.use_inf_as_na', True):\n"
     ]
    },
    {
     "data": {
      "text/plain": "<Axes: xlabel='overall', ylabel='Count'>"
     },
     "execution_count": 76,
     "metadata": {},
     "output_type": "execute_result"
    },
    {
     "data": {
      "text/plain": "<Figure size 640x480 with 1 Axes>",
      "image/png": "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"
     },
     "metadata": {},
     "output_type": "display_data"
    }
   ],
   "source": [
    "sns.histplot(data=df.query('vote > 0'), x='overall', bins=10)"
   ],
   "metadata": {
    "collapsed": false,
    "ExecuteTime": {
     "end_time": "2023-12-08T04:40:43.016292Z",
     "start_time": "2023-12-08T04:40:40.859773Z"
    }
   }
  },
  {
   "cell_type": "code",
   "execution_count": 77,
   "outputs": [
    {
     "name": "stderr",
     "output_type": "stream",
     "text": [
      "/Users/andy/csc5610/lib/python3.11/site-packages/seaborn/_oldcore.py:1498: FutureWarning: is_categorical_dtype is deprecated and will be removed in a future version. Use isinstance(dtype, CategoricalDtype) instead\n",
      "  if pd.api.types.is_categorical_dtype(vector):\n",
      "/Users/andy/csc5610/lib/python3.11/site-packages/seaborn/_oldcore.py:1119: FutureWarning: use_inf_as_na option is deprecated and will be removed in a future version. Convert inf values to NaN before operating instead.\n",
      "  with pd.option_context('mode.use_inf_as_na', True):\n"
     ]
    },
    {
     "data": {
      "text/plain": "<Axes: xlabel='overall', ylabel='Count'>"
     },
     "execution_count": 77,
     "metadata": {},
     "output_type": "execute_result"
    },
    {
     "data": {
      "text/plain": "<Figure size 640x480 with 1 Axes>",
      "image/png": "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"
     },
     "metadata": {},
     "output_type": "display_data"
    }
   ],
   "source": [
    "sns.histplot(data=df.query('vote <= 0'), x='overall', bins=10)"
   ],
   "metadata": {
    "collapsed": false,
    "ExecuteTime": {
     "end_time": "2023-12-08T04:41:42.777138Z",
     "start_time": "2023-12-08T04:40:55.748870Z"
    }
   }
  },
  {
   "cell_type": "markdown",
   "metadata": {},
   "source": [
    "reviewing data types"
   ]
  },
  {
   "cell_type": "code",
   "execution_count": 86,
   "metadata": {
    "ExecuteTime": {
     "end_time": "2023-12-08T04:52:35.815439Z",
     "start_time": "2023-12-08T04:51:16.756858Z"
    }
   },
   "outputs": [],
   "source": [
    "df = df[df['overall'] != 0].dropna()"
   ]
  },
  {
   "cell_type": "code",
   "execution_count": 88,
   "outputs": [
    {
     "data": {
      "text/plain": "overall\n5    3050493\n4    1138959\n3     447256\n1     214869\n2     190670\nName: count, dtype: int64"
     },
     "execution_count": 88,
     "metadata": {},
     "output_type": "execute_result"
    }
   ],
   "source": [
    "df['overall'].value_counts()"
   ],
   "metadata": {
    "collapsed": false,
    "ExecuteTime": {
     "end_time": "2023-12-08T04:55:44.282523Z",
     "start_time": "2023-12-08T04:55:44.275577Z"
    }
   }
  },
  {
   "cell_type": "markdown",
   "metadata": {},
   "source": [
    "## Creating BOW"
   ]
  },
  {
   "cell_type": "code",
   "execution_count": 89,
   "metadata": {
    "ExecuteTime": {
     "end_time": "2023-12-08T05:04:22.676307Z",
     "start_time": "2023-12-08T04:56:09.506026Z"
    }
   },
   "outputs": [],
   "source": [
    "vectorizer = CountVectorizer(stop_words='english')\n",
    "reviews = df['reviewText'].tolist()\n",
    "fitted = vectorizer.fit(reviews)\n",
    "bow = fitted.transform(reviews)"
   ]
  },
  {
   "cell_type": "code",
   "execution_count": 111,
   "outputs": [],
   "source": [
    "test_vectorizer = CountVectorizer(stop_words='english')\n",
    "test_review_text = [\"great job person\", \"amazing simple free\", \"simple free\"]\n",
    "test_bow = test_vectorizer.fit_transform(test_review_text)"
   ],
   "metadata": {
    "collapsed": false,
    "ExecuteTime": {
     "end_time": "2023-12-08T15:26:29.279594Z",
     "start_time": "2023-12-08T15:26:29.271239Z"
    }
   }
  },
  {
   "cell_type": "code",
   "execution_count": 112,
   "outputs": [
    {
     "data": {
      "text/plain": "array([[0, 0, 1, 1, 1, 0],\n       [1, 1, 0, 0, 0, 1],\n       [0, 1, 0, 0, 0, 1]])"
     },
     "execution_count": 112,
     "metadata": {},
     "output_type": "execute_result"
    }
   ],
   "source": [
    "test_bow.toarray()"
   ],
   "metadata": {
    "collapsed": false,
    "ExecuteTime": {
     "end_time": "2023-12-08T15:26:45.362653Z",
     "start_time": "2023-12-08T15:26:45.335467Z"
    }
   }
  },
  {
   "cell_type": "markdown",
   "metadata": {},
   "source": [
    "in the future could make test_size bigger. figure dataset is so big that it doesn't matter."
   ]
  },
  {
   "cell_type": "code",
   "execution_count": 90,
   "metadata": {
    "ExecuteTime": {
     "end_time": "2023-12-08T05:07:22.484789Z",
     "start_time": "2023-12-08T05:07:10.944152Z"
    }
   },
   "outputs": [],
   "source": [
    "from sklearn.model_selection import train_test_split\n",
    "from sklearn.linear_model import LogisticRegression\n",
    "\n",
    "# Step 1: Prepare the data\n",
    "X = bow  # Your Bag-of-Words representation\n",
    "y = df['overall']  # Target variable\n",
    "\n",
    "# Step 2: Split the data into training and testing sets\n",
    "X_train, X_test, y_train, y_test = train_test_split(X, y, test_size=0.20, random_state=42, stratify=y)"
   ]
  },
  {
   "cell_type": "code",
   "execution_count": null,
   "metadata": {
    "ExecuteTime": {
     "start_time": "2023-12-08T00:53:35.049790Z"
    }
   },
   "outputs": [],
   "source": [
    "# code from a friends notebook that allows for training in batches\n",
    "# import numpy as np\n",
    "# import tqdm\n",
    "# def pred_pairs(alg, test_data):\n",
    "#     results = []\n",
    "#     for i in tqdm(range(0, test_data.shape[0], chunk_size)):\n",
    "#         batch = test_data[i:i+chunk_size]\n",
    "#         batch_preds = alg.predict(batch)\n",
    "#         rows, cols = batch.nonzero()\n",
    "#         batch_labels_nonzero = np.ravel(batch[rows, cols]).tolist()\n",
    "#         batch_preds_nonzero = np.ravel(batch_preds[rows, cols]).tolist()\n",
    "#         y_label = batch_labels_nonzero\n",
    "#         y_pred = batch_preds_nonzero\n",
    "#         for y_l, y_p in zip(y_label, y_pred):\n",
    "#             results.append([y_l, y_p])\n",
    "#     return np.array(results)"
   ]
  },
  {
   "cell_type": "markdown",
   "metadata": {},
   "source": [
    "to do log regression makes sparse array dense. this is a problem for large datasets."
   ]
  },
  {
   "cell_type": "code",
   "execution_count": null,
   "metadata": {
    "ExecuteTime": {
     "start_time": "2023-12-08T00:53:35.056804Z"
    }
   },
   "outputs": [],
   "source": [
    "from sklearn import preprocessing\n",
    "\n",
    "scaler = preprocessing.StandardScaler(with_mean=False).fit(X_train)\n",
    "X_train = scaler.transform(X_train)\n",
    "X_test = scaler.transform(X_test)"
   ]
  },
  {
   "cell_type": "code",
   "execution_count": 101,
   "metadata": {
    "ExecuteTime": {
     "end_time": "2023-12-08T06:20:34.267100Z",
     "start_time": "2023-12-08T05:14:18.560813Z"
=======
      "/Users/andy/csc5610/lib/python3.11/site-packages/sklearn/preprocessing/_discretization.py:248: FutureWarning: In version 1.5 onwards, subsample=200_000 will be used by default. Set subsample explicitly to silence this warning in the mean time. Set subsample=None to disable subsampling explicitly.\n",
      "  warnings.warn(\n"
     ]
    }
   ],
   "source": [
    "from sklearn.model_selection import train_test_split\n",
    "from sklearn.linear_model import LogisticRegression\n",
    "from sklearn.preprocessing import StandardScaler, KBinsDiscretizer\n",
    "from sklearn.compose import ColumnTransformer\n",
    "\n",
    "# Step 1: Prepare the data\n",
    "X = df[['verified', 'vote', 'image', 'reviewLength', 'summaryLength']]  # Your Bag-of-Words representation\n",
    "y = df['overall']  # Target variable\n",
    "\n",
    "preprocessor = ColumnTransformer(\n",
    "    [\n",
    "        (\"scaler\", StandardScaler(), ['reviewLength', 'summaryLength']),\n",
    "        (\"kbin\", KBinsDiscretizer(encode='ordinal', n_bins=5, strategy='kmeans'), ['vote']),\n",
    "    ],\n",
    "    verbose_feature_names_out=False,\n",
    ").set_output(transform=\"pandas\")\n",
    "\n",
    "X_out = preprocessor.fit_transform(X)\n",
    "\n",
    "# Step 2: Split the data into training and testing sets\n",
    "X_train, X_test, y_train, y_test = train_test_split(X_out, y, test_size=0.25, random_state=42)"
   ],
   "metadata": {
    "collapsed": false,
    "ExecuteTime": {
     "end_time": "2023-12-09T22:30:00.960572Z",
     "start_time": "2023-12-09T22:30:00.781115Z"
    }
   }
  },
  {
   "cell_type": "code",
   "execution_count": 104,
   "outputs": [],
   "source": [
    "from sklearn.metrics import mean_squared_error\n",
    "from sklearn.metrics import mean_absolute_percentage_error\n",
    "import matplotlib.pyplot as plt\n",
    "import numpy as np\n",
    "import seaborn as sns\n",
    "from sklearn.metrics import confusion_matrix\n",
    "\n",
    "\n",
    "def model_calc_stats(model, X_test, y_test):\n",
    "    y_predictions = model.predict(X_test)\n",
    "    model_mse = mean_squared_error(y_test, y_predictions)\n",
    "    model_rmse = np.sqrt(model_mse)\n",
    "    model_mape = mean_absolute_percentage_error(y_test, y_predictions)\n",
    "    model_residuals = (y_test - y_predictions)\n",
    "    return {'name': model.__class__.__name__,'mse': model_mape, 'rmse': model_rmse, 'mape': model_mape, 'y_pred': y_predictions, 'residuals': model_residuals}\n",
    "\n",
    "def model_print_stats(stats):\n",
    "    print(\"{name} RMSE (MPa): {rmse:.1f}\".format(name=stats['name'], rmse=stats['rmse']))\n",
    "    print(\"{name} MAPE: {mape:.1%}\".format(name=stats['name'], mape=stats['mape']))\n",
    "\n"
   ],
   "metadata": {
    "collapsed": false,
    "ExecuteTime": {
     "end_time": "2023-12-09T22:30:10.087975Z",
     "start_time": "2023-12-09T22:30:10.077212Z"
    }
   }
  },
  {
   "cell_type": "code",
   "execution_count": 108,
   "metadata": {
    "ExecuteTime": {
     "end_time": "2023-12-09T22:31:47.742497Z",
     "start_time": "2023-12-09T22:31:47.650300Z"
>>>>>>> Stashed changes
    }
   },
   "outputs": [
    {
<<<<<<< Updated upstream
     "data": {
      "text/plain": "LinearRegression()",
      "text/html": "<style>#sk-container-id-1 {color: black;}#sk-container-id-1 pre{padding: 0;}#sk-container-id-1 div.sk-toggleable {background-color: white;}#sk-container-id-1 label.sk-toggleable__label {cursor: pointer;display: block;width: 100%;margin-bottom: 0;padding: 0.3em;box-sizing: border-box;text-align: center;}#sk-container-id-1 label.sk-toggleable__label-arrow:before {content: \"▸\";float: left;margin-right: 0.25em;color: #696969;}#sk-container-id-1 label.sk-toggleable__label-arrow:hover:before {color: black;}#sk-container-id-1 div.sk-estimator:hover label.sk-toggleable__label-arrow:before {color: black;}#sk-container-id-1 div.sk-toggleable__content {max-height: 0;max-width: 0;overflow: hidden;text-align: left;background-color: #f0f8ff;}#sk-container-id-1 div.sk-toggleable__content pre {margin: 0.2em;color: black;border-radius: 0.25em;background-color: #f0f8ff;}#sk-container-id-1 input.sk-toggleable__control:checked~div.sk-toggleable__content {max-height: 200px;max-width: 100%;overflow: auto;}#sk-container-id-1 input.sk-toggleable__control:checked~label.sk-toggleable__label-arrow:before {content: \"▾\";}#sk-container-id-1 div.sk-estimator input.sk-toggleable__control:checked~label.sk-toggleable__label {background-color: #d4ebff;}#sk-container-id-1 div.sk-label input.sk-toggleable__control:checked~label.sk-toggleable__label {background-color: #d4ebff;}#sk-container-id-1 input.sk-hidden--visually {border: 0;clip: rect(1px 1px 1px 1px);clip: rect(1px, 1px, 1px, 1px);height: 1px;margin: -1px;overflow: hidden;padding: 0;position: absolute;width: 1px;}#sk-container-id-1 div.sk-estimator {font-family: monospace;background-color: #f0f8ff;border: 1px dotted black;border-radius: 0.25em;box-sizing: border-box;margin-bottom: 0.5em;}#sk-container-id-1 div.sk-estimator:hover {background-color: #d4ebff;}#sk-container-id-1 div.sk-parallel-item::after {content: \"\";width: 100%;border-bottom: 1px solid gray;flex-grow: 1;}#sk-container-id-1 div.sk-label:hover label.sk-toggleable__label {background-color: #d4ebff;}#sk-container-id-1 div.sk-serial::before {content: \"\";position: absolute;border-left: 1px solid gray;box-sizing: border-box;top: 0;bottom: 0;left: 50%;z-index: 0;}#sk-container-id-1 div.sk-serial {display: flex;flex-direction: column;align-items: center;background-color: white;padding-right: 0.2em;padding-left: 0.2em;position: relative;}#sk-container-id-1 div.sk-item {position: relative;z-index: 1;}#sk-container-id-1 div.sk-parallel {display: flex;align-items: stretch;justify-content: center;background-color: white;position: relative;}#sk-container-id-1 div.sk-item::before, #sk-container-id-1 div.sk-parallel-item::before {content: \"\";position: absolute;border-left: 1px solid gray;box-sizing: border-box;top: 0;bottom: 0;left: 50%;z-index: -1;}#sk-container-id-1 div.sk-parallel-item {display: flex;flex-direction: column;z-index: 1;position: relative;background-color: white;}#sk-container-id-1 div.sk-parallel-item:first-child::after {align-self: flex-end;width: 50%;}#sk-container-id-1 div.sk-parallel-item:last-child::after {align-self: flex-start;width: 50%;}#sk-container-id-1 div.sk-parallel-item:only-child::after {width: 0;}#sk-container-id-1 div.sk-dashed-wrapped {border: 1px dashed gray;margin: 0 0.4em 0.5em 0.4em;box-sizing: border-box;padding-bottom: 0.4em;background-color: white;}#sk-container-id-1 div.sk-label label {font-family: monospace;font-weight: bold;display: inline-block;line-height: 1.2em;}#sk-container-id-1 div.sk-label-container {text-align: center;}#sk-container-id-1 div.sk-container {/* jupyter's `normalize.less` sets `[hidden] { display: none; }` but bootstrap.min.css set `[hidden] { display: none !important; }` so we also need the `!important` here to be able to override the default hidden behavior on the sphinx rendered scikit-learn.org. See: https://github.com/scikit-learn/scikit-learn/issues/21755 */display: inline-block !important;position: relative;}#sk-container-id-1 div.sk-text-repr-fallback {display: none;}</style><div id=\"sk-container-id-1\" class=\"sk-top-container\"><div class=\"sk-text-repr-fallback\"><pre>LinearRegression()</pre><b>In a Jupyter environment, please rerun this cell to show the HTML representation or trust the notebook. <br />On GitHub, the HTML representation is unable to render, please try loading this page with nbviewer.org.</b></div><div class=\"sk-container\" hidden><div class=\"sk-item\"><div class=\"sk-estimator sk-toggleable\"><input class=\"sk-toggleable__control sk-hidden--visually\" id=\"sk-estimator-id-1\" type=\"checkbox\" checked><label for=\"sk-estimator-id-1\" class=\"sk-toggleable__label sk-toggleable__label-arrow\">LinearRegression</label><div class=\"sk-toggleable__content\"><pre>LinearRegression()</pre></div></div></div></div></div>"
     },
     "execution_count": 101,
     "metadata": {},
     "output_type": "execute_result"
=======
     "ename": "TypeError",
     "evalue": "Object with dtype category cannot perform the numpy op subtract",
     "output_type": "error",
     "traceback": [
      "\u001B[0;31m---------------------------------------------------------------------------\u001B[0m",
      "\u001B[0;31mTypeError\u001B[0m                                 Traceback (most recent call last)",
      "Cell \u001B[0;32mIn[108], line 7\u001B[0m\n\u001B[1;32m      4\u001B[0m log_reg_model \u001B[38;5;241m=\u001B[39m LinearRegression()\n\u001B[1;32m      5\u001B[0m log_reg_model\u001B[38;5;241m.\u001B[39mfit(X_train, y_train)\n\u001B[0;32m----> 7\u001B[0m log_reg_stats \u001B[38;5;241m=\u001B[39m \u001B[43mmodel_calc_stats\u001B[49m\u001B[43m(\u001B[49m\u001B[43mlog_reg_model\u001B[49m\u001B[43m,\u001B[49m\u001B[43m \u001B[49m\u001B[43mX_test\u001B[49m\u001B[43m,\u001B[49m\u001B[43m \u001B[49m\u001B[43my_test\u001B[49m\u001B[43m)\u001B[49m\n",
      "Cell \u001B[0;32mIn[104], line 14\u001B[0m, in \u001B[0;36mmodel_calc_stats\u001B[0;34m(model, X_test, y_test)\u001B[0m\n\u001B[1;32m     12\u001B[0m model_rmse \u001B[38;5;241m=\u001B[39m np\u001B[38;5;241m.\u001B[39msqrt(model_mse)\n\u001B[1;32m     13\u001B[0m model_mape \u001B[38;5;241m=\u001B[39m mean_absolute_percentage_error(y_test, y_predictions)\n\u001B[0;32m---> 14\u001B[0m model_residuals \u001B[38;5;241m=\u001B[39m (\u001B[43my_test\u001B[49m\u001B[43m \u001B[49m\u001B[38;5;241;43m-\u001B[39;49m\u001B[43m \u001B[49m\u001B[43my_predictions\u001B[49m)\n\u001B[1;32m     15\u001B[0m \u001B[38;5;28;01mreturn\u001B[39;00m {\u001B[38;5;124m'\u001B[39m\u001B[38;5;124mname\u001B[39m\u001B[38;5;124m'\u001B[39m: model\u001B[38;5;241m.\u001B[39m\u001B[38;5;18m__class__\u001B[39m\u001B[38;5;241m.\u001B[39m\u001B[38;5;18m__name__\u001B[39m,\u001B[38;5;124m'\u001B[39m\u001B[38;5;124mmse\u001B[39m\u001B[38;5;124m'\u001B[39m: model_mape, \u001B[38;5;124m'\u001B[39m\u001B[38;5;124mrmse\u001B[39m\u001B[38;5;124m'\u001B[39m: model_rmse, \u001B[38;5;124m'\u001B[39m\u001B[38;5;124mmape\u001B[39m\u001B[38;5;124m'\u001B[39m: model_mape, \u001B[38;5;124m'\u001B[39m\u001B[38;5;124my_pred\u001B[39m\u001B[38;5;124m'\u001B[39m: y_predictions, \u001B[38;5;124m'\u001B[39m\u001B[38;5;124mresiduals\u001B[39m\u001B[38;5;124m'\u001B[39m: model_residuals}\n",
      "File \u001B[0;32m~/csc5610/lib/python3.11/site-packages/pandas/core/ops/common.py:76\u001B[0m, in \u001B[0;36m_unpack_zerodim_and_defer.<locals>.new_method\u001B[0;34m(self, other)\u001B[0m\n\u001B[1;32m     72\u001B[0m             \u001B[38;5;28;01mreturn\u001B[39;00m \u001B[38;5;28mNotImplemented\u001B[39m\n\u001B[1;32m     74\u001B[0m other \u001B[38;5;241m=\u001B[39m item_from_zerodim(other)\n\u001B[0;32m---> 76\u001B[0m \u001B[38;5;28;01mreturn\u001B[39;00m \u001B[43mmethod\u001B[49m\u001B[43m(\u001B[49m\u001B[38;5;28;43mself\u001B[39;49m\u001B[43m,\u001B[49m\u001B[43m \u001B[49m\u001B[43mother\u001B[49m\u001B[43m)\u001B[49m\n",
      "File \u001B[0;32m~/csc5610/lib/python3.11/site-packages/pandas/core/arraylike.py:194\u001B[0m, in \u001B[0;36mOpsMixin.__sub__\u001B[0;34m(self, other)\u001B[0m\n\u001B[1;32m    192\u001B[0m \u001B[38;5;129m@unpack_zerodim_and_defer\u001B[39m(\u001B[38;5;124m\"\u001B[39m\u001B[38;5;124m__sub__\u001B[39m\u001B[38;5;124m\"\u001B[39m)\n\u001B[1;32m    193\u001B[0m \u001B[38;5;28;01mdef\u001B[39;00m \u001B[38;5;21m__sub__\u001B[39m(\u001B[38;5;28mself\u001B[39m, other):\n\u001B[0;32m--> 194\u001B[0m     \u001B[38;5;28;01mreturn\u001B[39;00m \u001B[38;5;28;43mself\u001B[39;49m\u001B[38;5;241;43m.\u001B[39;49m\u001B[43m_arith_method\u001B[49m\u001B[43m(\u001B[49m\u001B[43mother\u001B[49m\u001B[43m,\u001B[49m\u001B[43m \u001B[49m\u001B[43moperator\u001B[49m\u001B[38;5;241;43m.\u001B[39;49m\u001B[43msub\u001B[49m\u001B[43m)\u001B[49m\n",
      "File \u001B[0;32m~/csc5610/lib/python3.11/site-packages/pandas/core/series.py:5820\u001B[0m, in \u001B[0;36mSeries._arith_method\u001B[0;34m(self, other, op)\u001B[0m\n\u001B[1;32m   5818\u001B[0m \u001B[38;5;28;01mdef\u001B[39;00m \u001B[38;5;21m_arith_method\u001B[39m(\u001B[38;5;28mself\u001B[39m, other, op):\n\u001B[1;32m   5819\u001B[0m     \u001B[38;5;28mself\u001B[39m, other \u001B[38;5;241m=\u001B[39m \u001B[38;5;28mself\u001B[39m\u001B[38;5;241m.\u001B[39m_align_for_op(other)\n\u001B[0;32m-> 5820\u001B[0m     \u001B[38;5;28;01mreturn\u001B[39;00m \u001B[43mbase\u001B[49m\u001B[38;5;241;43m.\u001B[39;49m\u001B[43mIndexOpsMixin\u001B[49m\u001B[38;5;241;43m.\u001B[39;49m\u001B[43m_arith_method\u001B[49m\u001B[43m(\u001B[49m\u001B[38;5;28;43mself\u001B[39;49m\u001B[43m,\u001B[49m\u001B[43m \u001B[49m\u001B[43mother\u001B[49m\u001B[43m,\u001B[49m\u001B[43m \u001B[49m\u001B[43mop\u001B[49m\u001B[43m)\u001B[49m\n",
      "File \u001B[0;32m~/csc5610/lib/python3.11/site-packages/pandas/core/base.py:1381\u001B[0m, in \u001B[0;36mIndexOpsMixin._arith_method\u001B[0;34m(self, other, op)\u001B[0m\n\u001B[1;32m   1378\u001B[0m     rvalues \u001B[38;5;241m=\u001B[39m np\u001B[38;5;241m.\u001B[39marange(rvalues\u001B[38;5;241m.\u001B[39mstart, rvalues\u001B[38;5;241m.\u001B[39mstop, rvalues\u001B[38;5;241m.\u001B[39mstep)\n\u001B[1;32m   1380\u001B[0m \u001B[38;5;28;01mwith\u001B[39;00m np\u001B[38;5;241m.\u001B[39merrstate(\u001B[38;5;28mall\u001B[39m\u001B[38;5;241m=\u001B[39m\u001B[38;5;124m\"\u001B[39m\u001B[38;5;124mignore\u001B[39m\u001B[38;5;124m\"\u001B[39m):\n\u001B[0;32m-> 1381\u001B[0m     result \u001B[38;5;241m=\u001B[39m \u001B[43mops\u001B[49m\u001B[38;5;241;43m.\u001B[39;49m\u001B[43marithmetic_op\u001B[49m\u001B[43m(\u001B[49m\u001B[43mlvalues\u001B[49m\u001B[43m,\u001B[49m\u001B[43m \u001B[49m\u001B[43mrvalues\u001B[49m\u001B[43m,\u001B[49m\u001B[43m \u001B[49m\u001B[43mop\u001B[49m\u001B[43m)\u001B[49m\n\u001B[1;32m   1383\u001B[0m \u001B[38;5;28;01mreturn\u001B[39;00m \u001B[38;5;28mself\u001B[39m\u001B[38;5;241m.\u001B[39m_construct_result(result, name\u001B[38;5;241m=\u001B[39mres_name)\n",
      "File \u001B[0;32m~/csc5610/lib/python3.11/site-packages/pandas/core/ops/array_ops.py:275\u001B[0m, in \u001B[0;36marithmetic_op\u001B[0;34m(left, right, op)\u001B[0m\n\u001B[1;32m    262\u001B[0m \u001B[38;5;66;03m# NB: We assume that extract_array and ensure_wrapped_if_datetimelike\u001B[39;00m\n\u001B[1;32m    263\u001B[0m \u001B[38;5;66;03m#  have already been called on `left` and `right`,\u001B[39;00m\n\u001B[1;32m    264\u001B[0m \u001B[38;5;66;03m#  and `maybe_prepare_scalar_for_op` has already been called on `right`\u001B[39;00m\n\u001B[1;32m    265\u001B[0m \u001B[38;5;66;03m# We need to special-case datetime64/timedelta64 dtypes (e.g. because numpy\u001B[39;00m\n\u001B[1;32m    266\u001B[0m \u001B[38;5;66;03m# casts integer dtypes to timedelta64 when operating with timedelta64 - GH#22390)\u001B[39;00m\n\u001B[1;32m    268\u001B[0m \u001B[38;5;28;01mif\u001B[39;00m (\n\u001B[1;32m    269\u001B[0m     should_extension_dispatch(left, right)\n\u001B[1;32m    270\u001B[0m     \u001B[38;5;129;01mor\u001B[39;00m \u001B[38;5;28misinstance\u001B[39m(right, (Timedelta, BaseOffset, Timestamp))\n\u001B[0;32m   (...)\u001B[0m\n\u001B[1;32m    273\u001B[0m     \u001B[38;5;66;03m# Timedelta/Timestamp and other custom scalars are included in the check\u001B[39;00m\n\u001B[1;32m    274\u001B[0m     \u001B[38;5;66;03m# because numexpr will fail on it, see GH#31457\u001B[39;00m\n\u001B[0;32m--> 275\u001B[0m     res_values \u001B[38;5;241m=\u001B[39m op(left, right)\n\u001B[1;32m    276\u001B[0m \u001B[38;5;28;01melse\u001B[39;00m:\n\u001B[1;32m    277\u001B[0m     \u001B[38;5;66;03m# TODO we should handle EAs consistently and move this check before the if/else\u001B[39;00m\n\u001B[1;32m    278\u001B[0m     \u001B[38;5;66;03m# (https://github.com/pandas-dev/pandas/issues/41165)\u001B[39;00m\n\u001B[1;32m    279\u001B[0m     \u001B[38;5;66;03m# error: Argument 2 to \"_bool_arith_check\" has incompatible type\u001B[39;00m\n\u001B[1;32m    280\u001B[0m     \u001B[38;5;66;03m# \"Union[ExtensionArray, ndarray[Any, Any]]\"; expected \"ndarray[Any, Any]\"\u001B[39;00m\n\u001B[1;32m    281\u001B[0m     _bool_arith_check(op, left, right)  \u001B[38;5;66;03m# type: ignore[arg-type]\u001B[39;00m\n",
      "File \u001B[0;32m~/csc5610/lib/python3.11/site-packages/pandas/core/arrays/categorical.py:1665\u001B[0m, in \u001B[0;36mCategorical.__array_ufunc__\u001B[0;34m(self, ufunc, method, *inputs, **kwargs)\u001B[0m\n\u001B[1;32m   1661\u001B[0m         \u001B[38;5;28;01mreturn\u001B[39;00m result\n\u001B[1;32m   1663\u001B[0m \u001B[38;5;66;03m# for all other cases, raise for now (similarly as what happens in\u001B[39;00m\n\u001B[1;32m   1664\u001B[0m \u001B[38;5;66;03m# Series.__array_prepare__)\u001B[39;00m\n\u001B[0;32m-> 1665\u001B[0m \u001B[38;5;28;01mraise\u001B[39;00m \u001B[38;5;167;01mTypeError\u001B[39;00m(\n\u001B[1;32m   1666\u001B[0m     \u001B[38;5;124mf\u001B[39m\u001B[38;5;124m\"\u001B[39m\u001B[38;5;124mObject with dtype \u001B[39m\u001B[38;5;132;01m{\u001B[39;00m\u001B[38;5;28mself\u001B[39m\u001B[38;5;241m.\u001B[39mdtype\u001B[38;5;132;01m}\u001B[39;00m\u001B[38;5;124m cannot perform \u001B[39m\u001B[38;5;124m\"\u001B[39m\n\u001B[1;32m   1667\u001B[0m     \u001B[38;5;124mf\u001B[39m\u001B[38;5;124m\"\u001B[39m\u001B[38;5;124mthe numpy op \u001B[39m\u001B[38;5;132;01m{\u001B[39;00mufunc\u001B[38;5;241m.\u001B[39m\u001B[38;5;18m__name__\u001B[39m\u001B[38;5;132;01m}\u001B[39;00m\u001B[38;5;124m\"\u001B[39m\n\u001B[1;32m   1668\u001B[0m )\n",
      "\u001B[0;31mTypeError\u001B[0m: Object with dtype category cannot perform the numpy op subtract"
     ]
>>>>>>> Stashed changes
    }
   ],
   "source": [
    "# import linear regression\n",
    "from sklearn.linear_model import LinearRegression\n",
    "# Step 3: Train a logistic regression model\n",
<<<<<<< Updated upstream
    "log_reg = LinearRegression()\n",
    "log_reg.fit(X_train, y_train)\n"
=======
    "log_reg_model = LinearRegression()\n",
    "log_reg_model.fit(X_train, y_train)\n",
    "\n",
    "log_reg_stats = model_calc_stats(log_reg_model, X_test, y_test)\n"
>>>>>>> Stashed changes
   ]
  },
  {
   "cell_type": "code",
<<<<<<< Updated upstream
   "execution_count": 102,
   "metadata": {
    "ExecuteTime": {
     "end_time": "2023-12-08T15:02:07.950102Z",
     "start_time": "2023-12-08T15:02:02.620007Z"
    }
   },
=======
   "execution_count": 116,
>>>>>>> Stashed changes
   "outputs": [
    {
     "name": "stdout",
     "output_type": "stream",
     "text": [
<<<<<<< Updated upstream
      "Accuracy of the linear regression model: 0.14\n"
     ]
    }
   ],
   "source": [
    "# Step 4: Evaluate the model\n",
    "accuracy = log_reg.score(X_test, y_test)\n",
    "print(f\"Accuracy of the linear regression model: {accuracy:.2f}\")"
   ]
  },
  {
   "cell_type": "markdown",
   "metadata": {},
   "source": [
    "### Lemmatization"
   ]
  },
  {
   "cell_type": "markdown",
   "metadata": {},
   "source": [
    "lemmatization is the process of grouping together the different inflected forms of a word so they can be analysed as a single item. Lemmatization is similar to stemming but it brings context to the words. So it links words with similar meaning to one word."
   ]
  },
  {
   "cell_type": "markdown",
   "metadata": {},
   "source": [
    "the count vectorizer uses stemming by default, which is a rudimentary heuristic process that chops off the ends of words. this is not ideal for our use case, so we might use lemmatization instead."
   ]
  },
  {
   "cell_type": "code",
   "execution_count": null,
   "metadata": {
    "ExecuteTime": {
     "start_time": "2023-12-08T00:53:35.059698Z"
    }
   },
   "outputs": [],
   "source": [
    "from nltk import word_tokenize          \n",
    "from nltk.stem import WordNetLemmatizer \n",
    "class LemmaTokenizer(object):\n",
    "    def __init__(self):\n",
    "        self.wnl = WordNetLemmatizer()\n",
    "    def __call__(self, articles):\n",
    "        return [self.wnl.lemmatize(t) for t in word_tokenize(articles)]\n",
    "\n",
    "tf_vectorizer = CountVectorizer(tokenizer=LemmaTokenizer(),\n",
    "                                strip_accents='unicode', \n",
    "                                stop_words='english',\n",
    "                                max_df=0.5,\n",
    "                                min_df=10)\n",
    "# ignores the paremter if it occurs in more than 50% of the documents\n",
    "# ignores the parameter if it occurs in less than 10 documents\n",
    "tf_vectorizer.fit(reviews)\n",
    "tf = tf_vectorizer.transform(reviews)"
   ]
=======
      "Accuracy of the linear regression model: 0.2852\n"
     ]
    },
    {
     "data": {
      "text/plain": "array([[1670,  909,  802,  799,  795],\n       [ 887, 1472,  872,  922,  883],\n       [ 786,  871, 1494,  943,  917],\n       [ 814,  840,  847, 1239, 1245],\n       [ 884,  839,  819, 1197, 1254]])"
     },
     "execution_count": 116,
     "metadata": {},
     "output_type": "execute_result"
    }
   ],
   "source": [
    "from sklearn.ensemble import RandomForestRegressor, RandomForestClassifier\n",
    "\n",
    "rf_model = RandomForestClassifier()\n",
    "rf_model.fit(X_train, y_train)\n",
    "rf_reg_y_test_pred = rf_model.predict(X_test)\n",
    "\n",
    "rf_model_accuracy = rf_model.score(X_test, y_test)\n",
    "print(f\"Accuracy of the linear regression model: {rf_model_accuracy:.4f}\")"
   ],
   "metadata": {
    "collapsed": false,
    "ExecuteTime": {
     "end_time": "2023-12-09T22:35:14.762022Z",
     "start_time": "2023-12-09T22:35:05.391421Z"
    }
   }
  },
  {
   "cell_type": "code",
   "execution_count": 118,
   "outputs": [
    {
     "data": {
      "text/plain": "<sklearn.metrics._plot.confusion_matrix.ConfusionMatrixDisplay at 0x151de2d90>"
     },
     "execution_count": 118,
     "metadata": {},
     "output_type": "execute_result"
    },
    {
     "data": {
      "text/plain": "<Figure size 640x480 with 2 Axes>",
      "image/png": "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"
     },
     "metadata": {},
     "output_type": "display_data"
    }
   ],
   "source": [
    "from sklearn.metrics import ConfusionMatrixDisplay\n",
    "cm = confusion_matrix(y_test, rf_reg_y_test_pred)\n",
    "disp = ConfusionMatrixDisplay(confusion_matrix=cm)\n",
    "disp.plot(cmap=)"
   ],
   "metadata": {
    "collapsed": false,
    "ExecuteTime": {
     "end_time": "2023-12-09T22:36:55.573377Z",
     "start_time": "2023-12-09T22:36:55.054778Z"
    }
   }
>>>>>>> Stashed changes
  },
  {
   "cell_type": "code",
   "execution_count": null,
<<<<<<< Updated upstream
   "metadata": {
    "ExecuteTime": {
     "start_time": "2023-12-08T00:53:35.059868Z"
    }
   },
   "outputs": [],
   "source": []
=======
   "outputs": [],
   "source": [],
   "metadata": {
    "collapsed": false
   }
>>>>>>> Stashed changes
  }
 ],
 "metadata": {
  "kernelspec": {
   "display_name": "Python 3.11.5 64-bit",
   "language": "python",
   "name": "python3"
  },
  "language_info": {
   "codemirror_mode": {
    "name": "ipython",
    "version": 3
   },
   "file_extension": ".py",
   "mimetype": "text/x-python",
   "name": "python",
   "nbconvert_exporter": "python",
   "pygments_lexer": "ipython3",
   "version": "3.11.5"
  },
  "orig_nbformat": 4,
  "vscode": {
   "interpreter": {
    "hash": "78f26278aaebced278c5097c56985d85bde54a4cf6cf6ca5c930d7239c5fca84"
   }
  }
 },
 "nbformat": 4,
 "nbformat_minor": 2
}
