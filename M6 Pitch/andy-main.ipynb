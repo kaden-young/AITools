{
 "cells": [
  {
   "cell_type": "code",
   "execution_count": 9,
   "metadata": {
    "ExecuteTime": {
     "end_time": "2023-12-08T00:39:51.122758Z",
     "start_time": "2023-12-08T00:39:50.925218Z"
    }
   },
   "outputs": [],
   "source": [
    "import pandas as pd\n",
    "from sklearn.feature_extraction.text import CountVectorizer"
   ]
  },
  {
   "cell_type": "markdown",
   "metadata": {},
   "source": [
    "was trying an amazon sagemaker just to get more compute power for training the model. this is left over code from that."
   ]
  },
  {
   "cell_type": "code",
   "execution_count": 10,
   "metadata": {
    "ExecuteTime": {
     "end_time": "2023-12-08T00:39:51.176577Z",
     "start_time": "2023-12-08T00:39:50.960298Z"
    }
   },
   "outputs": [],
   "source": [
    "# import zipfile\n",
    "# import os\n",
    "\n",
    "# def unzip_file(zip_file_path):\n",
    "#     # Get the directory where the zip file is located\n",
    "#     extract_to_directory = os.path.splitext(zip_file_path)[0]\n",
    "\n",
    "#     with zipfile.ZipFile(zip_file_path, 'r') as zip_ref:\n",
    "#         zip_ref.extractall(extract_to_directory)\n",
    "\n",
    "# notebook_directory = os.path.dirname(os.path.abspath(\"main.ipynb\"))\n",
    "\n",
    "# # Replace 'Kindle_Store.zip' with the actual name of your zip file\n",
    "# zip_file_name = 'Kindle_Store.zip'\n",
    "\n",
    "# # Full path to the zip file\n",
    "# zip_file_path = os.path.join(notebook_directory, zip_file_name)\n",
    "# print(zip_file_path)\n",
    "# # Check if the zip file exists\n",
    "# if os.path.exists(zip_file_path):\n",
    "#     # Call the function to unzip the file\n",
    "#     unzip_file(zip_file_path)\n",
    "# else:\n",
    "#     print(\"The specified zip file does not exist.\")\n"
   ]
  },
  {
   "cell_type": "markdown",
   "metadata": {},
   "source": [
    "## Loading the data using chunking"
   ]
  },
  {
   "cell_type": "code",
   "execution_count": 11,
   "metadata": {
    "ExecuteTime": {
     "end_time": "2023-12-08T00:42:31.191851Z",
     "start_time": "2023-12-08T00:40:18.521157Z"
    }
   },
   "outputs": [],
   "source": [
    "# Read JSON file in chunks\n",
    "chunk_size = 100000  # Adjust the chunk size as needed\n",
    "chunks = []\n",
    "with open('Kindle_Store.json', 'r') as file:\n",
    "    for chunk in pd.read_json(file, chunksize=chunk_size, lines=True):\n",
    "        chunks.append(chunk)\n",
    "\n",
    "# Concatenate all chunks to form a single DataFrame\n",
    "df = pd.concat(chunks, ignore_index=True)"
   ]
  },
  {
   "cell_type": "code",
   "execution_count": 12,
   "metadata": {
    "ExecuteTime": {
     "end_time": "2023-12-08T00:42:31.793972Z",
     "start_time": "2023-12-08T00:42:31.057866Z"
    }
   },
   "outputs": [
    {
     "data": {
      "text/plain": "   overall  verified   reviewTime      reviewerID        asin  \\\n0        4      True  12 29, 2012  A27UD5HYAKBL97  1423600150   \n1        5      True   03 6, 2012   A8P5DK8LLOYGH  1423600150   \n2        5      True  08 12, 2009  A3OM9W7DXSUIIY  1423600150   \n3        3     False   11 3, 2006  A3DPAR2PWB9BT8  1423600150   \n4        5     False  04 11, 2006  A2ONTBSAX7GIOV  1423600150   \n\n                       style           reviewerName  \\\n0  {'Format:': ' Hardcover'}                 Cheryl   \n1  {'Format:': ' Hardcover'}                Shay365   \n2  {'Format:': ' Hardcover'}             R. Peckham   \n3  {'Format:': ' Hardcover'}                   JJSS   \n4  {'Format:': ' Hardcover'}  Three Guys from Miami   \n\n                                          reviewText  \\\n0  If you like making salsas this is a great book...   \n1  great little book. simple and right to the poi...   \n2  This book has good pics of the recipes and eas...   \n3  I admire the SF School of Cooking, but was dis...   \n4  Many people are surprised to find out that we ...   \n\n                                summary  unixReviewTime vote image  \n0                            Great Book      1356739200  NaN   NaN  \n1                     great little book      1330992000    3   NaN  \n2        very good bok with good ideas.      1250035200  NaN   NaN  \n3                           Ok cookbook      1162512000    3   NaN  \n4  Fresh and Tasty Ideas from Santa Fe!      1144713600   15   NaN  ",
      "text/html": "<div>\n<style scoped>\n    .dataframe tbody tr th:only-of-type {\n        vertical-align: middle;\n    }\n\n    .dataframe tbody tr th {\n        vertical-align: top;\n    }\n\n    .dataframe thead th {\n        text-align: right;\n    }\n</style>\n<table border=\"1\" class=\"dataframe\">\n  <thead>\n    <tr style=\"text-align: right;\">\n      <th></th>\n      <th>overall</th>\n      <th>verified</th>\n      <th>reviewTime</th>\n      <th>reviewerID</th>\n      <th>asin</th>\n      <th>style</th>\n      <th>reviewerName</th>\n      <th>reviewText</th>\n      <th>summary</th>\n      <th>unixReviewTime</th>\n      <th>vote</th>\n      <th>image</th>\n    </tr>\n  </thead>\n  <tbody>\n    <tr>\n      <th>0</th>\n      <td>4</td>\n      <td>True</td>\n      <td>12 29, 2012</td>\n      <td>A27UD5HYAKBL97</td>\n      <td>1423600150</td>\n      <td>{'Format:': ' Hardcover'}</td>\n      <td>Cheryl</td>\n      <td>If you like making salsas this is a great book...</td>\n      <td>Great Book</td>\n      <td>1356739200</td>\n      <td>NaN</td>\n      <td>NaN</td>\n    </tr>\n    <tr>\n      <th>1</th>\n      <td>5</td>\n      <td>True</td>\n      <td>03 6, 2012</td>\n      <td>A8P5DK8LLOYGH</td>\n      <td>1423600150</td>\n      <td>{'Format:': ' Hardcover'}</td>\n      <td>Shay365</td>\n      <td>great little book. simple and right to the poi...</td>\n      <td>great little book</td>\n      <td>1330992000</td>\n      <td>3</td>\n      <td>NaN</td>\n    </tr>\n    <tr>\n      <th>2</th>\n      <td>5</td>\n      <td>True</td>\n      <td>08 12, 2009</td>\n      <td>A3OM9W7DXSUIIY</td>\n      <td>1423600150</td>\n      <td>{'Format:': ' Hardcover'}</td>\n      <td>R. Peckham</td>\n      <td>This book has good pics of the recipes and eas...</td>\n      <td>very good bok with good ideas.</td>\n      <td>1250035200</td>\n      <td>NaN</td>\n      <td>NaN</td>\n    </tr>\n    <tr>\n      <th>3</th>\n      <td>3</td>\n      <td>False</td>\n      <td>11 3, 2006</td>\n      <td>A3DPAR2PWB9BT8</td>\n      <td>1423600150</td>\n      <td>{'Format:': ' Hardcover'}</td>\n      <td>JJSS</td>\n      <td>I admire the SF School of Cooking, but was dis...</td>\n      <td>Ok cookbook</td>\n      <td>1162512000</td>\n      <td>3</td>\n      <td>NaN</td>\n    </tr>\n    <tr>\n      <th>4</th>\n      <td>5</td>\n      <td>False</td>\n      <td>04 11, 2006</td>\n      <td>A2ONTBSAX7GIOV</td>\n      <td>1423600150</td>\n      <td>{'Format:': ' Hardcover'}</td>\n      <td>Three Guys from Miami</td>\n      <td>Many people are surprised to find out that we ...</td>\n      <td>Fresh and Tasty Ideas from Santa Fe!</td>\n      <td>1144713600</td>\n      <td>15</td>\n      <td>NaN</td>\n    </tr>\n  </tbody>\n</table>\n</div>"
     },
     "execution_count": 12,
     "metadata": {},
     "output_type": "execute_result"
    }
   ],
   "source": [
    "df.head()"
   ]
  },
  {
   "cell_type": "code",
   "execution_count": 13,
   "metadata": {
    "ExecuteTime": {
     "end_time": "2023-12-08T00:42:31.809180Z",
     "start_time": "2023-12-08T00:42:31.139449Z"
    }
   },
   "outputs": [
    {
     "name": "stdout",
     "output_type": "stream",
     "text": [
      "<class 'pandas.core.frame.DataFrame'>\n",
      "RangeIndex: 5722988 entries, 0 to 5722987\n",
      "Data columns (total 12 columns):\n",
      " #   Column          Dtype \n",
      "---  ------          ----- \n",
      " 0   overall         int64 \n",
      " 1   verified        bool  \n",
      " 2   reviewTime      object\n",
      " 3   reviewerID      object\n",
      " 4   asin            object\n",
      " 5   style           object\n",
      " 6   reviewerName    object\n",
      " 7   reviewText      object\n",
      " 8   summary         object\n",
      " 9   unixReviewTime  int64 \n",
      " 10  vote            object\n",
      " 11  image           object\n",
      "dtypes: bool(1), int64(2), object(9)\n",
      "memory usage: 485.8+ MB\n"
     ]
    }
   ],
   "source": [
    "df.info()"
   ]
  },
  {
   "cell_type": "markdown",
   "metadata": {},
   "source": [
    "turn image into dummy"
   ]
  },
  {
   "cell_type": "code",
   "execution_count": 14,
   "metadata": {
    "ExecuteTime": {
     "end_time": "2023-12-08T00:42:31.810013Z",
     "start_time": "2023-12-08T00:42:31.664964Z"
    }
   },
   "outputs": [],
   "source": [
    "# if image is non null return 1 else 0\n",
    "df['image'] = df['image'].notnull().astype('int')"
   ]
  },
  {
   "cell_type": "markdown",
   "metadata": {},
   "source": [
    "convert votes into int"
   ]
  },
  {
   "cell_type": "code",
   "execution_count": 15,
   "metadata": {
    "ExecuteTime": {
     "end_time": "2023-12-08T00:42:34.820510Z",
     "start_time": "2023-12-08T00:42:31.930493Z"
    }
   },
   "outputs": [],
   "source": [
    "# remove commas from vote column\n",
    "df['vote'] = df['vote'].str.replace(',', '')\n",
    "# cast vote column to int, converting Nan to 0\n",
    "df['vote'] = df['vote'].fillna(0)\n",
    "df['vote'] = df['vote'].astype('int')"
   ]
  },
  {
   "cell_type": "markdown",
   "metadata": {},
   "source": [
    "replace null with empty string"
   ]
  },
  {
   "cell_type": "code",
   "execution_count": 16,
   "metadata": {
    "ExecuteTime": {
     "end_time": "2023-12-08T00:42:54.208623Z",
     "start_time": "2023-12-08T00:42:49.492456Z"
    }
   },
   "outputs": [],
   "source": [
    "# in review text replace null values with empty string\n",
    "df['reviewText'] = df['reviewText'].fillna('')"
   ]
  },
  {
   "cell_type": "markdown",
   "metadata": {},
   "source": [
    "convert verfied to dummy"
   ]
  },
  {
   "cell_type": "code",
   "execution_count": 17,
   "metadata": {
    "ExecuteTime": {
     "end_time": "2023-12-08T00:42:54.497318Z",
     "start_time": "2023-12-08T00:42:54.441936Z"
    }
   },
   "outputs": [],
   "source": [
    "# convert verified to int 1 if true 0 if false\n",
    "df['verified'] = df['verified'].astype('int')"
   ]
  },
  {
   "cell_type": "markdown",
   "metadata": {},
   "source": [
    "checking the types of styles"
   ]
  },
  {
   "cell_type": "code",
   "execution_count": 18,
   "metadata": {
    "ExecuteTime": {
     "end_time": "2023-12-08T00:43:09.813395Z",
     "start_time": "2023-12-08T00:43:09.734883Z"
    }
   },
   "outputs": [
    {
     "data": {
      "text/plain": "style\n{'Format:': ' Kindle Edition'}                     5045160\n{'Format:': ' Paperback'}                           165154\n{'Format:': ' Hardcover'}                            72067\n{'Format:': ' Mass Market Paperback'}                10295\n{'Format:': ' Audible Audiobook'}                     6455\n{'Format:': ' Audio CD'}                              2602\n{'Format:': ' Board book'}                            1827\n{'Format:': ' Kindle Edition with Audio/Video'}       1429\n{'Format:': ' Print Magazine'}                        1116\n{'Format:': ' Perfect Paperback'}                      533\n{'Format:': ' Leather Bound'}                          463\n{'Format:': ' MP3 CD'}                                 419\n{'Format:': ' Flexibound'}                             341\n{'Format:': ' Comic'}                                  291\n{'Format:': ' DVD'}                                    276\n{'Format:': ' Spiral-bound'}                           154\n{'Format:': ' Library Binding'}                        148\n{'Format:': ' Audio Cassette'}                         141\n{'Format:': ' Loose Leaf'}                             136\n{'Format:': ' Unknown Binding'}                         74\n{'Format:': ' Prime Video'}                             60\n{'Format:': ' Imitation Leather'}                       58\n{'Format:': ' Sheet music'}                             48\n{'Format:': ' School & Library Binding'}                48\n{'Format:': ' Vinyl'}                                   41\n{'Format:': ' Plastic Comb'}                            24\n{'Format:': ' Pamphlet'}                                23\n{'Format:': ' Cards'}                                   20\n{'Format:': ' MP3 Music'}                               17\n{'Format:': ' CD-ROM'}                                  16\n{'Format:': ' Calendar'}                                15\n{'Format:': ' 3.5\" disk'}                               12\n{'Format:': ' Bonded Leather'}                          12\n{'Format:': ' VHS Tape'}                                 8\n{'Format:': ' Diary'}                                    8\n{'Format:': ' Textbook Binding'}                         6\n{'Format:': ' Staple Bound'}                             6\n{'Format:': ' Foam Book'}                                5\n{'Format:': ' 3.5\" and 5.25\" disks'}                     5\n{'Format:': ' Digital'}                                  5\n{'Format:': ' Misc. Supplies'}                           5\n{'Format:': ' Journal'}                                  3\n{'Format:': ' Blu-ray'}                                  3\n{'Format:': ' Preloaded Digital Audio Player'}           3\n{'Format:': ' Printed Access Code'}                      3\n{'Format:': ' Print on Demand (Paperback)'}              2\n{'Format:': ' Hardcover Comic'}                          2\n{'Format:': ' Unbound'}                                  2\n{'Format:': ' Single Issue Magazine'}                    2\n{'Format:': ' Album'}                                    1\n{'Format:': ' MiniDisc'}                                 1\n{'Format:': ' Tankobon Softcover'}                       1\n{'Format:': ' Health and Beauty'}                        1\n{'Format:': ' Pocket Book'}                              1\n{'Format:': ' DVD-ROM'}                                  1\n{'Format:': ' Accessory'}                                1\n{'Format:': ' Toy'}                                      1\n{'Format:': ' Hardcover-spiral'}                         1\n{'Format:': ' Workbook'}                                 1\n{'Format:': ' Kitchen'}                                  1\nName: count, dtype: int64"
     },
     "execution_count": 18,
     "metadata": {},
     "output_type": "execute_result"
    }
   ],
   "source": [
    "df['style'].value_counts()"
   ]
  },
  {
   "cell_type": "markdown",
   "metadata": {},
   "source": [
    "making sure we are only looking at kindle reviews"
   ]
  },
  {
   "cell_type": "code",
   "execution_count": 19,
   "metadata": {
    "ExecuteTime": {
     "end_time": "2023-12-08T00:44:23.433735Z",
     "start_time": "2023-12-08T00:43:14.397791Z"
    }
   },
   "outputs": [],
   "source": [
    "# drop row if style is not {'Format:': ' Kindle Edition'} \n",
    "df = df[df['style'] == {'Format:': ' Kindle Edition'}]\n",
    "# drop style column\n",
    "df = df.drop(columns=['style'])"
   ]
  },
  {
   "cell_type": "markdown",
   "metadata": {},
   "source": [
    "dropped reviewtime, already have unix representation"
   ]
  },
  {
   "cell_type": "code",
   "execution_count": 20,
   "metadata": {
    "ExecuteTime": {
     "end_time": "2023-12-08T00:45:07.490315Z",
     "start_time": "2023-12-08T00:44:23.390324Z"
    }
   },
   "outputs": [],
   "source": [
    "# drop the reviewTime column\n",
    "df = df.drop(columns='reviewTime')"
   ]
  },
  {
   "cell_type": "markdown",
   "metadata": {},
   "source": [
    "creating review length column"
   ]
  },
  {
   "cell_type": "code",
   "execution_count": 43,
   "metadata": {
    "ExecuteTime": {
     "end_time": "2023-12-08T03:42:05.398153Z",
     "start_time": "2023-12-08T03:41:39.051842Z"
    }
   },
   "outputs": [],
   "source": [
    "# create a new column called reviewLength\n",
    "df['reviewLength'] = df['reviewText'].apply(lambda x: 0 if isinstance(x, float) else len(x))"
   ]
  },
  {
   "cell_type": "markdown",
   "metadata": {},
   "source": [
    "creating summary length column"
   ]
  },
  {
   "cell_type": "code",
   "execution_count": 41,
   "metadata": {
    "ExecuteTime": {
     "end_time": "2023-12-08T03:40:11.981907Z",
     "start_time": "2023-12-08T03:40:01.571441Z"
    }
   },
   "outputs": [],
   "source": [
    "# create a new column called summaryLength (There were some NaN values in summary, which was forcing the type to be float64.  This ensures everything is an int).\n",
    "df['summaryLength'] = df['summary'].apply(lambda x: 0 if isinstance(x, float) else len(x))"
   ]
  },
  {
   "cell_type": "markdown",
   "metadata": {},
   "source": [
    "asin is the amazon product id. removing this and the reviewer info"
   ]
  },
  {
   "cell_type": "code",
   "execution_count": 23,
   "metadata": {
    "ExecuteTime": {
     "end_time": "2023-12-08T00:45:35.460681Z",
     "start_time": "2023-12-08T00:45:23.109117Z"
    }
   },
   "outputs": [],
   "source": [
    "# removing asin, reviewerID, reviewerName\n",
    "df = df.drop(columns=['asin', 'reviewerID', 'reviewerName'])"
   ]
  },
  {
   "cell_type": "markdown",
   "metadata": {},
   "source": [
    "labeling categorical variables"
   ]
  },
  {
   "cell_type": "code",
   "execution_count": 24,
   "metadata": {
    "ExecuteTime": {
     "end_time": "2023-12-08T00:45:36.219109Z",
     "start_time": "2023-12-08T00:45:35.823037Z"
    }
   },
   "outputs": [],
   "source": [
    "# labeling ['verified', 'image'] as categorical\n",
    "df[['verified', 'image']] = df[['verified', 'image']].astype('category')"
   ]
  },
  {
   "cell_type": "markdown",
   "metadata": {},
   "source": [
    "reviewing data"
   ]
  },
  {
   "cell_type": "code",
   "execution_count": 45,
   "metadata": {
    "ExecuteTime": {
     "end_time": "2023-12-08T03:49:08.683816Z",
     "start_time": "2023-12-08T03:49:08.638230Z"
    }
   },
   "outputs": [
    {
     "data": {
      "text/plain": "    overall verified                                         reviewText  \\\n9         5        1        For the salsa lover who likes new recipes!!   \n10        1        1  Recipes are good but the kindle book is just t...   \n14        1        1  No color photos. Would not recommend to others...   \n15        3        1  Enjoyed the read. A bit of a twist to it, fun ...   \n16        5        1             I have enjoyed all work by this author   \n\n                                              summary  unixReviewTime  vote  \\\n9                                          Five Stars      1418688000     0   \n10  Very bad look in old black and white photocopi...      1414368000     0   \n14           Not in color as portrayed on Amazon site      1367884800     0   \n15                              western with a twist.      1412985600     0   \n16                                         Five Stars      1412467200     0   \n\n   image  reviewLength  summaryLength  \n9      0            43             10  \n10     0           326             54  \n14     0           130             40  \n15     0           143             21  \n16     0            38             10  ",
      "text/html": "<div>\n<style scoped>\n    .dataframe tbody tr th:only-of-type {\n        vertical-align: middle;\n    }\n\n    .dataframe tbody tr th {\n        vertical-align: top;\n    }\n\n    .dataframe thead th {\n        text-align: right;\n    }\n</style>\n<table border=\"1\" class=\"dataframe\">\n  <thead>\n    <tr style=\"text-align: right;\">\n      <th></th>\n      <th>overall</th>\n      <th>verified</th>\n      <th>reviewText</th>\n      <th>summary</th>\n      <th>unixReviewTime</th>\n      <th>vote</th>\n      <th>image</th>\n      <th>reviewLength</th>\n      <th>summaryLength</th>\n    </tr>\n  </thead>\n  <tbody>\n    <tr>\n      <th>9</th>\n      <td>5</td>\n      <td>1</td>\n      <td>For the salsa lover who likes new recipes!!</td>\n      <td>Five Stars</td>\n      <td>1418688000</td>\n      <td>0</td>\n      <td>0</td>\n      <td>43</td>\n      <td>10</td>\n    </tr>\n    <tr>\n      <th>10</th>\n      <td>1</td>\n      <td>1</td>\n      <td>Recipes are good but the kindle book is just t...</td>\n      <td>Very bad look in old black and white photocopi...</td>\n      <td>1414368000</td>\n      <td>0</td>\n      <td>0</td>\n      <td>326</td>\n      <td>54</td>\n    </tr>\n    <tr>\n      <th>14</th>\n      <td>1</td>\n      <td>1</td>\n      <td>No color photos. Would not recommend to others...</td>\n      <td>Not in color as portrayed on Amazon site</td>\n      <td>1367884800</td>\n      <td>0</td>\n      <td>0</td>\n      <td>130</td>\n      <td>40</td>\n    </tr>\n    <tr>\n      <th>15</th>\n      <td>3</td>\n      <td>1</td>\n      <td>Enjoyed the read. A bit of a twist to it, fun ...</td>\n      <td>western with a twist.</td>\n      <td>1412985600</td>\n      <td>0</td>\n      <td>0</td>\n      <td>143</td>\n      <td>21</td>\n    </tr>\n    <tr>\n      <th>16</th>\n      <td>5</td>\n      <td>1</td>\n      <td>I have enjoyed all work by this author</td>\n      <td>Five Stars</td>\n      <td>1412467200</td>\n      <td>0</td>\n      <td>0</td>\n      <td>38</td>\n      <td>10</td>\n    </tr>\n  </tbody>\n</table>\n</div>"
     },
     "execution_count": 45,
     "metadata": {},
     "output_type": "execute_result"
    }
   ],
   "source": [
    "df.head()"
   ]
  },
  {
   "cell_type": "code",
   "execution_count": 47,
   "outputs": [
    {
     "name": "stderr",
     "output_type": "stream",
     "text": [
      "/Users/andy/csc5610/lib/python3.11/site-packages/seaborn/_oldcore.py:1498: FutureWarning: is_categorical_dtype is deprecated and will be removed in a future version. Use isinstance(dtype, CategoricalDtype) instead\n",
      "  if pd.api.types.is_categorical_dtype(vector):\n",
      "/Users/andy/csc5610/lib/python3.11/site-packages/seaborn/_oldcore.py:1119: FutureWarning: use_inf_as_na option is deprecated and will be removed in a future version. Convert inf values to NaN before operating instead.\n",
      "  with pd.option_context('mode.use_inf_as_na', True):\n"
     ]
    },
    {
     "ename": "AttributeError",
     "evalue": "'Axes' object has no attribute 'show'",
     "output_type": "error",
     "traceback": [
      "\u001B[0;31m---------------------------------------------------------------------------\u001B[0m",
      "\u001B[0;31mAttributeError\u001B[0m                            Traceback (most recent call last)",
      "Cell \u001B[0;32mIn[47], line 3\u001B[0m\n\u001B[1;32m      1\u001B[0m \u001B[38;5;28;01mimport\u001B[39;00m \u001B[38;5;21;01mseaborn\u001B[39;00m \u001B[38;5;28;01mas\u001B[39;00m \u001B[38;5;21;01msns\u001B[39;00m\n\u001B[0;32m----> 3\u001B[0m \u001B[43msns\u001B[49m\u001B[38;5;241;43m.\u001B[39;49m\u001B[43mhistplot\u001B[49m\u001B[43m(\u001B[49m\u001B[43mdata\u001B[49m\u001B[38;5;241;43m=\u001B[39;49m\u001B[43mdf\u001B[49m\u001B[43m,\u001B[49m\u001B[43m \u001B[49m\u001B[43mx\u001B[49m\u001B[38;5;241;43m=\u001B[39;49m\u001B[38;5;124;43m'\u001B[39;49m\u001B[38;5;124;43moverall\u001B[39;49m\u001B[38;5;124;43m'\u001B[39;49m\u001B[43m,\u001B[49m\u001B[43m \u001B[49m\u001B[43mdiscrete\u001B[49m\u001B[38;5;241;43m=\u001B[39;49m\u001B[38;5;28;43;01mTrue\u001B[39;49;00m\u001B[43m)\u001B[49m\u001B[38;5;241;43m.\u001B[39;49m\u001B[43mshow\u001B[49m()\n",
      "\u001B[0;31mAttributeError\u001B[0m: 'Axes' object has no attribute 'show'"
     ]
    },
    {
     "data": {
      "text/plain": "<Figure size 640x480 with 1 Axes>",
      "image/png": "[encoded data removed]"
     },
     "metadata": {},
     "output_type": "display_data"
    }
   ],
   "source": [
    "import seaborn as sns\n",
    "\n",
    "sns.histplot(data=df, x='overall', discrete=True)"
   ],
   "metadata": {
    "collapsed": false,
    "ExecuteTime": {
     "end_time": "2023-12-08T03:50:05.811594Z",
     "start_time": "2023-12-08T03:50:03.514014Z"
    }
   }
  },
  {
   "cell_type": "code",
   "execution_count": 50,
   "outputs": [
    {
     "name": "stderr",
     "output_type": "stream",
     "text": [
      "/Users/andy/csc5610/lib/python3.11/site-packages/seaborn/_oldcore.py:1498: FutureWarning: is_categorical_dtype is deprecated and will be removed in a future version. Use isinstance(dtype, CategoricalDtype) instead\n",
      "  if pd.api.types.is_categorical_dtype(vector):\n"
     ]
    },
    {
     "data": {
      "text/plain": "<Axes: xlabel='vote'>"
     },
     "execution_count": 50,
     "metadata": {},
     "output_type": "execute_result"
    },
    {
     "data": {
      "text/plain": "<Figure size 640x480 with 1 Axes>",
      "image/png": "[encoded data removed]"
     },
     "metadata": {},
     "output_type": "display_data"
    }
   ],
   "source": [
    "sns.boxplot(data=df, x='vote')"
   ],
   "metadata": {
    "collapsed": false,
    "ExecuteTime": {
     "end_time": "2023-12-08T03:51:46.259001Z",
     "start_time": "2023-12-08T03:51:45.401670Z"
    }
   }
  },
  {
   "cell_type": "code",
   "execution_count": 54,
   "outputs": [],
   "source": [
    "gt_zero = df.query('vote > 0')\n",
    "lteq_zero = df.query('vote <= 0')"
   ],
   "metadata": {
    "collapsed": false,
    "ExecuteTime": {
     "end_time": "2023-12-08T03:54:32.353954Z",
     "start_time": "2023-12-08T03:54:02.484065Z"
    }
   }
  },
  {
   "cell_type": "code",
   "execution_count": 58,
   "outputs": [
    {
     "name": "stdout",
     "output_type": "stream",
     "text": [
      "Votes > 0: overall           147014\n",
      "verified          147014\n",
      "reviewText        147014\n",
      "summary           147002\n",
      "unixReviewTime    147014\n",
      "vote              147014\n",
      "image             147014\n",
      "reviewLength      147014\n",
      "summaryLength     147014\n",
      "dtype: int64\n",
      "Votes <= 0: overall           4898146\n",
      "verified          4898146\n",
      "reviewText        4898146\n",
      "summary           4895246\n",
      "unixReviewTime    4898146\n",
      "vote              4898146\n",
      "image             4898146\n",
      "reviewLength      4898146\n",
      "summaryLength     4898146\n",
      "dtype: int64\n"
     ]
    }
   ],
   "source": [
    "print(f'Votes > 0: {gt_zero.count()}')\n",
    "print(f'Votes == 0: {lteq_zero.count()}')"
   ],
   "metadata": {
    "collapsed": false,
    "ExecuteTime": {
     "end_time": "2023-12-08T03:56:25.510119Z",
     "start_time": "2023-12-08T03:55:55.941322Z"
    }
   }
  },
  {
   "cell_type": "code",
   "execution_count": 63,
   "outputs": [
    {
     "name": "stdout",
     "output_type": "stream",
     "text": [
      " Only 2.91% of records have a vote > 1\n"
     ]
    }
   ],
   "source": [
    "print(f' Only {(147014 / (147014 + 4898146)) * 100:.02f}% of records have a vote > 1')"
   ],
   "metadata": {
    "collapsed": false,
    "ExecuteTime": {
     "end_time": "2023-12-08T03:58:43.809081Z",
     "start_time": "2023-12-08T03:58:43.793231Z"
    }
   }
  },
  {
   "cell_type": "code",
   "execution_count": 69,
   "outputs": [
    {
     "data": {
      "text/plain": "6571"
     },
     "execution_count": 69,
     "metadata": {},
     "output_type": "execute_result"
    }
   ],
   "source": [
    "df['vote'].max()"
   ],
   "metadata": {
    "collapsed": false,
    "ExecuteTime": {
     "end_time": "2023-12-08T04:03:05.454045Z",
     "start_time": "2023-12-08T04:03:05.425012Z"
    }
   }
  },
  {
   "cell_type": "code",
   "execution_count": 73,
   "outputs": [
    {
     "name": "stderr",
     "output_type": "stream",
     "text": [
      "/Users/andy/csc5610/lib/python3.11/site-packages/seaborn/_oldcore.py:1498: FutureWarning: is_categorical_dtype is deprecated and will be removed in a future version. Use isinstance(dtype, CategoricalDtype) instead\n",
      "  if pd.api.types.is_categorical_dtype(vector):\n",
      "/Users/andy/csc5610/lib/python3.11/site-packages/seaborn/_oldcore.py:1119: FutureWarning: use_inf_as_na option is deprecated and will be removed in a future version. Convert inf values to NaN before operating instead.\n",
      "  with pd.option_context('mode.use_inf_as_na', True):\n"
     ]
    },
    {
     "data": {
      "text/plain": "<Axes: xlabel='vote', ylabel='Count'>"
     },
     "execution_count": 73,
     "metadata": {},
     "output_type": "execute_result"
    },
    {
     "data": {
      "text/plain": "<Figure size 640x480 with 1 Axes>",
      "image/png": "[encoded data removed]"
     },
     "metadata": {},
     "output_type": "display_data"
    }
   ],
   "source": [
    "sns.histplot(data=df.query('vote > 0 and vote <= 100'), x='vote', bins=10)"
   ],
   "metadata": {
    "collapsed": false,
    "ExecuteTime": {
     "end_time": "2023-12-08T04:17:15.006481Z",
     "start_time": "2023-12-08T04:17:10.013697Z"
    }
   }
  },
  {
   "cell_type": "code",
   "execution_count": 76,
   "outputs": [
    {
     "name": "stderr",
     "output_type": "stream",
     "text": [
      "/Users/andy/csc5610/lib/python3.11/site-packages/seaborn/_oldcore.py:1498: FutureWarning: is_categorical_dtype is deprecated and will be removed in a future version. Use isinstance(dtype, CategoricalDtype) instead\n",
      "  if pd.api.types.is_categorical_dtype(vector):\n",
      "/Users/andy/csc5610/lib/python3.11/site-packages/seaborn/_oldcore.py:1119: FutureWarning: use_inf_as_na option is deprecated and will be removed in a future version. Convert inf values to NaN before operating instead.\n",
      "  with pd.option_context('mode.use_inf_as_na', True):\n"
     ]
    },
    {
     "data": {
      "text/plain": "<Axes: xlabel='overall', ylabel='Count'>"
     },
     "execution_count": 76,
     "metadata": {},
     "output_type": "execute_result"
    },
    {
     "data": {
      "text/plain": "<Figure size 640x480 with 1 Axes>",
      "image/png": "[encoded data removed]"
     },
     "metadata": {},
     "output_type": "display_data"
    }
   ],
   "source": [
    "sns.histplot(data=df.query('vote > 0'), x='overall', bins=10)"
   ],
   "metadata": {
    "collapsed": false,
    "ExecuteTime": {
     "end_time": "2023-12-08T04:40:43.016292Z",
     "start_time": "2023-12-08T04:40:40.859773Z"
    }
   }
  },
  {
   "cell_type": "code",
   "execution_count": 77,
   "outputs": [
    {
     "name": "stderr",
     "output_type": "stream",
     "text": [
      "/Users/andy/csc5610/lib/python3.11/site-packages/seaborn/_oldcore.py:1498: FutureWarning: is_categorical_dtype is deprecated and will be removed in a future version. Use isinstance(dtype, CategoricalDtype) instead\n",
      "  if pd.api.types.is_categorical_dtype(vector):\n",
      "/Users/andy/csc5610/lib/python3.11/site-packages/seaborn/_oldcore.py:1119: FutureWarning: use_inf_as_na option is deprecated and will be removed in a future version. Convert inf values to NaN before operating instead.\n",
      "  with pd.option_context('mode.use_inf_as_na', True):\n"
     ]
    },
    {
     "data": {
      "text/plain": "<Axes: xlabel='overall', ylabel='Count'>"
     },
     "execution_count": 77,
     "metadata": {},
     "output_type": "execute_result"
    },
    {
     "data": {
      "text/plain": "<Figure size 640x480 with 1 Axes>",
      "image/png": "[encoded data removed]"
     },
     "metadata": {},
     "output_type": "display_data"
    }
   ],
   "source": [
    "sns.histplot(data=df.query('vote <= 0'), x='overall', bins=10)"
   ],
   "metadata": {
    "collapsed": false,
    "ExecuteTime": {
     "end_time": "2023-12-08T04:41:42.777138Z",
     "start_time": "2023-12-08T04:40:55.748870Z"
    }
   }
  },
  {
   "cell_type": "markdown",
   "metadata": {},
   "source": [
    "reviewing data types"
   ]
  },
  {
   "cell_type": "code",
   "execution_count": 86,
   "metadata": {
    "ExecuteTime": {
     "end_time": "2023-12-08T04:52:35.815439Z",
     "start_time": "2023-12-08T04:51:16.756858Z"
    }
   },
   "outputs": [],
   "source": [
    "df = df[df['overall'] != 0].dropna()"
   ]
  },
  {
   "cell_type": "code",
   "execution_count": 88,
   "outputs": [
    {
     "data": {
      "text/plain": "overall\n5    3050493\n4    1138959\n3     447256\n1     214869\n2     190670\nName: count, dtype: int64"
     },
     "execution_count": 88,
     "metadata": {},
     "output_type": "execute_result"
    }
   ],
   "source": [
    "df['overall'].value_counts()"
   ],
   "metadata": {
    "collapsed": false,
    "ExecuteTime": {
     "end_time": "2023-12-08T04:55:44.282523Z",
     "start_time": "2023-12-08T04:55:44.275577Z"
    }
   }
  },
  {
   "cell_type": "markdown",
   "metadata": {},
   "source": [
    "## Creating BOW"
   ]
  },
  {
   "cell_type": "code",
   "execution_count": 89,
   "metadata": {
    "ExecuteTime": {
     "end_time": "2023-12-08T05:04:22.676307Z",
     "start_time": "2023-12-08T04:56:09.506026Z"
    }
   },
   "outputs": [],
   "source": [
    "vectorizer = CountVectorizer(stop_words='english')\n",
    "reviews = df['reviewText'].tolist()\n",
    "fitted = vectorizer.fit(reviews)\n",
    "bow = fitted.transform(reviews)"
   ]
  },
  {
   "cell_type": "code",
   "execution_count": 111,
   "outputs": [],
   "source": [
    "test_vectorizer = CountVectorizer(stop_words='english')\n",
    "test_review_text = [\"great job person\", \"amazing simple free\", \"simple free\"]\n",
    "test_bow = test_vectorizer.fit_transform(test_review_text)"
   ],
   "metadata": {
    "collapsed": false,
    "ExecuteTime": {
     "end_time": "2023-12-08T15:26:29.279594Z",
     "start_time": "2023-12-08T15:26:29.271239Z"
    }
   }
  },
  {
   "cell_type": "code",
   "execution_count": 112,
   "outputs": [
    {
     "data": {
      "text/plain": "array([[0, 0, 1, 1, 1, 0],\n       [1, 1, 0, 0, 0, 1],\n       [0, 1, 0, 0, 0, 1]])"
     },
     "execution_count": 112,
     "metadata": {},
     "output_type": "execute_result"
    }
   ],
   "source": [
    "test_bow.toarray()"
   ],
   "metadata": {
    "collapsed": false,
    "ExecuteTime": {
     "end_time": "2023-12-08T15:26:45.362653Z",
     "start_time": "2023-12-08T15:26:45.335467Z"
    }
   }
  },
  {
   "cell_type": "markdown",
   "metadata": {},
   "source": [
    "in the future could make test_size bigger. figure dataset is so big that it doesn't matter."
   ]
  },
  {
   "cell_type": "code",
   "execution_count": 90,
   "metadata": {
    "ExecuteTime": {
     "end_time": "2023-12-08T05:07:22.484789Z",
     "start_time": "2023-12-08T05:07:10.944152Z"
    }
   },
   "outputs": [],
   "source": [
    "from sklearn.model_selection import train_test_split\n",
    "from sklearn.linear_model import LogisticRegression\n",
    "\n",
    "# Step 1: Prepare the data\n",
    "X = bow  # Your Bag-of-Words representation\n",
    "y = df['overall']  # Target variable\n",
    "\n",
    "# Step 2: Split the data into training and testing sets\n",
    "X_train, X_test, y_train, y_test = train_test_split(X, y, test_size=0.20, random_state=42, stratify=y)"
   ]
  },
  {
   "cell_type": "code",
   "execution_count": null,
   "metadata": {
    "ExecuteTime": {
     "start_time": "2023-12-08T00:53:35.049790Z"
    }
   },
   "outputs": [],
   "source": [
    "# code from a friends notebook that allows for training in batches\n",
    "# import numpy as np\n",
    "# import tqdm\n",
    "# def pred_pairs(alg, test_data):\n",
    "#     results = []\n",
    "#     for i in tqdm(range(0, test_data.shape[0], chunk_size)):\n",
    "#         batch = test_data[i:i+chunk_size]\n",
    "#         batch_preds = alg.predict(batch)\n",
    "#         rows, cols = batch.nonzero()\n",
    "#         batch_labels_nonzero = np.ravel(batch[rows, cols]).tolist()\n",
    "#         batch_preds_nonzero = np.ravel(batch_preds[rows, cols]).tolist()\n",
    "#         y_label = batch_labels_nonzero\n",
    "#         y_pred = batch_preds_nonzero\n",
    "#         for y_l, y_p in zip(y_label, y_pred):\n",
    "#             results.append([y_l, y_p])\n",
    "#     return np.array(results)"
   ]
  },
  {
   "cell_type": "markdown",
   "metadata": {},
   "source": [
    "to do log regression makes sparse array dense. this is a problem for large datasets."
   ]
  },
  {
   "cell_type": "code",
   "execution_count": null,
   "metadata": {
    "ExecuteTime": {
     "start_time": "2023-12-08T00:53:35.056804Z"
    }
   },
   "outputs": [],
   "source": [
    "from sklearn import preprocessing\n",
    "\n",
    "scaler = preprocessing.StandardScaler(with_mean=False).fit(X_train)\n",
    "X_train = scaler.transform(X_train)\n",
    "X_test = scaler.transform(X_test)"
   ]
  },
  {
   "cell_type": "code",
   "execution_count": 101,
   "metadata": {
    "ExecuteTime": {
     "end_time": "2023-12-08T06:20:34.267100Z",
     "start_time": "2023-12-08T05:14:18.560813Z"
    }
   },
   "outputs": [
    {
     "data": {
      "text/plain": "LinearRegression()",
      "text/html": "<style>#sk-container-id-1 {color: black;}#sk-container-id-1 pre{padding: 0;}#sk-container-id-1 div.sk-toggleable {background-color: white;}#sk-container-id-1 label.sk-toggleable__label {cursor: pointer;display: block;width: 100%;margin-bottom: 0;padding: 0.3em;box-sizing: border-box;text-align: center;}#sk-container-id-1 label.sk-toggleable__label-arrow:before {content: \"▸\";float: left;margin-right: 0.25em;color: #696969;}#sk-container-id-1 label.sk-toggleable__label-arrow:hover:before {color: black;}#sk-container-id-1 div.sk-estimator:hover label.sk-toggleable__label-arrow:before {color: black;}#sk-container-id-1 div.sk-toggleable__content {max-height: 0;max-width: 0;overflow: hidden;text-align: left;background-color: #f0f8ff;}#sk-container-id-1 div.sk-toggleable__content pre {margin: 0.2em;color: black;border-radius: 0.25em;background-color: #f0f8ff;}#sk-container-id-1 input.sk-toggleable__control:checked~div.sk-toggleable__content {max-height: 200px;max-width: 100%;overflow: auto;}#sk-container-id-1 input.sk-toggleable__control:checked~label.sk-toggleable__label-arrow:before {content: \"▾\";}#sk-container-id-1 div.sk-estimator input.sk-toggleable__control:checked~label.sk-toggleable__label {background-color: #d4ebff;}#sk-container-id-1 div.sk-label input.sk-toggleable__control:checked~label.sk-toggleable__label {background-color: #d4ebff;}#sk-container-id-1 input.sk-hidden--visually {border: 0;clip: rect(1px 1px 1px 1px);clip: rect(1px, 1px, 1px, 1px);height: 1px;margin: -1px;overflow: hidden;padding: 0;position: absolute;width: 1px;}#sk-container-id-1 div.sk-estimator {font-family: monospace;background-color: #f0f8ff;border: 1px dotted black;border-radius: 0.25em;box-sizing: border-box;margin-bottom: 0.5em;}#sk-container-id-1 div.sk-estimator:hover {background-color: #d4ebff;}#sk-container-id-1 div.sk-parallel-item::after {content: \"\";width: 100%;border-bottom: 1px solid gray;flex-grow: 1;}#sk-container-id-1 div.sk-label:hover label.sk-toggleable__label {background-color: #d4ebff;}#sk-container-id-1 div.sk-serial::before {content: \"\";position: absolute;border-left: 1px solid gray;box-sizing: border-box;top: 0;bottom: 0;left: 50%;z-index: 0;}#sk-container-id-1 div.sk-serial {display: flex;flex-direction: column;align-items: center;background-color: white;padding-right: 0.2em;padding-left: 0.2em;position: relative;}#sk-container-id-1 div.sk-item {position: relative;z-index: 1;}#sk-container-id-1 div.sk-parallel {display: flex;align-items: stretch;justify-content: center;background-color: white;position: relative;}#sk-container-id-1 div.sk-item::before, #sk-container-id-1 div.sk-parallel-item::before {content: \"\";position: absolute;border-left: 1px solid gray;box-sizing: border-box;top: 0;bottom: 0;left: 50%;z-index: -1;}#sk-container-id-1 div.sk-parallel-item {display: flex;flex-direction: column;z-index: 1;position: relative;background-color: white;}#sk-container-id-1 div.sk-parallel-item:first-child::after {align-self: flex-end;width: 50%;}#sk-container-id-1 div.sk-parallel-item:last-child::after {align-self: flex-start;width: 50%;}#sk-container-id-1 div.sk-parallel-item:only-child::after {width: 0;}#sk-container-id-1 div.sk-dashed-wrapped {border: 1px dashed gray;margin: 0 0.4em 0.5em 0.4em;box-sizing: border-box;padding-bottom: 0.4em;background-color: white;}#sk-container-id-1 div.sk-label label {font-family: monospace;font-weight: bold;display: inline-block;line-height: 1.2em;}#sk-container-id-1 div.sk-label-container {text-align: center;}#sk-container-id-1 div.sk-container {/* jupyter's `normalize.less` sets `[hidden] { display: none; }` but bootstrap.min.css set `[hidden] { display: none !important; }` so we also need the `!important` here to be able to override the default hidden behavior on the sphinx rendered scikit-learn.org. See: https://github.com/scikit-learn/scikit-learn/issues/21755 */display: inline-block !important;position: relative;}#sk-container-id-1 div.sk-text-repr-fallback {display: none;}</style><div id=\"sk-container-id-1\" class=\"sk-top-container\"><div class=\"sk-text-repr-fallback\"><pre>LinearRegression()</pre><b>In a Jupyter environment, please rerun this cell to show the HTML representation or trust the notebook. <br />On GitHub, the HTML representation is unable to render, please try loading this page with nbviewer.org.</b></div><div class=\"sk-container\" hidden><div class=\"sk-item\"><div class=\"sk-estimator sk-toggleable\"><input class=\"sk-toggleable__control sk-hidden--visually\" id=\"sk-estimator-id-1\" type=\"checkbox\" checked><label for=\"sk-estimator-id-1\" class=\"sk-toggleable__label sk-toggleable__label-arrow\">LinearRegression</label><div class=\"sk-toggleable__content\"><pre>LinearRegression()</pre></div></div></div></div></div>"
     },
     "execution_count": 101,
     "metadata": {},
     "output_type": "execute_result"
    }
   ],
   "source": [
    "# import linear regression\n",
    "from sklearn.linear_model import LinearRegression\n",
    "# Step 3: Train a logistic regression model\n",
    "log_reg = LinearRegression()\n",
    "log_reg.fit(X_train, y_train)\n"
   ]
  },
  {
   "cell_type": "code",
   "execution_count": 102,
   "metadata": {
    "ExecuteTime": {
     "end_time": "2023-12-08T15:02:07.950102Z",
     "start_time": "2023-12-08T15:02:02.620007Z"
    }
   },
   "outputs": [
    {
     "name": "stdout",
     "output_type": "stream",
     "text": [
      "Accuracy of the linear regression model: 0.14\n"
     ]
    }
   ],
   "source": [
    "# Step 4: Evaluate the model\n",
    "accuracy = log_reg.score(X_test, y_test)\n",
    "print(f\"Accuracy of the linear regression model: {accuracy:.2f}\")"
   ]
  },
  {
   "cell_type": "markdown",
   "metadata": {},
   "source": [
    "### Lemmatization"
   ]
  },
  {
   "cell_type": "markdown",
   "metadata": {},
   "source": [
    "lemmatization is the process of grouping together the different inflected forms of a word so they can be analysed as a single item. Lemmatization is similar to stemming but it brings context to the words. So it links words with similar meaning to one word."
   ]
  },
  {
   "cell_type": "markdown",
   "metadata": {},
   "source": [
    "the count vectorizer uses stemming by default, which is a rudimentary heuristic process that chops off the ends of words. this is not ideal for our use case, so we might use lemmatization instead."
   ]
  },
  {
   "cell_type": "code",
   "execution_count": null,
   "metadata": {
    "ExecuteTime": {
     "start_time": "2023-12-08T00:53:35.059698Z"
    }
   },
   "outputs": [],
   "source": [
    "from nltk import word_tokenize          \n",
    "from nltk.stem import WordNetLemmatizer \n",
    "class LemmaTokenizer(object):\n",
    "    def __init__(self):\n",
    "        self.wnl = WordNetLemmatizer()\n",
    "    def __call__(self, articles):\n",
    "        return [self.wnl.lemmatize(t) for t in word_tokenize(articles)]\n",
    "\n",
    "tf_vectorizer = CountVectorizer(tokenizer=LemmaTokenizer(),\n",
    "                                strip_accents='unicode', \n",
    "                                stop_words='english',\n",
    "                                max_df=0.5,\n",
    "                                min_df=10)\n",
    "# ignores the paremter if it occurs in more than 50% of the documents\n",
    "# ignores the parameter if it occurs in less than 10 documents\n",
    "tf_vectorizer.fit(reviews)\n",
    "tf = tf_vectorizer.transform(reviews)"
   ]
  },
  {
   "cell_type": "code",
   "execution_count": null,
   "metadata": {
    "ExecuteTime": {
     "start_time": "2023-12-08T00:53:35.059868Z"
    }
   },
   "outputs": [],
   "source": []
  }
 ],
 "metadata": {
  "kernelspec": {
   "display_name": "Python 3.11.5 64-bit",
   "language": "python",
   "name": "python3"
  },
  "language_info": {
   "codemirror_mode": {
    "name": "ipython",
    "version": 3
   },
   "file_extension": ".py",
   "mimetype": "text/x-python",
   "name": "python",
   "nbconvert_exporter": "python",
   "pygments_lexer": "ipython3",
   "version": "3.11.5"
  },
  "orig_nbformat": 4,
  "vscode": {
   "interpreter": {
    "hash": "78f26278aaebced278c5097c56985d85bde54a4cf6cf6ca5c930d7239c5fca84"
   }
  }
 },
 "nbformat": 4,
 "nbformat_minor": 2
}
