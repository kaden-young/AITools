{
 "cells": [
  {
   "cell_type": "code",
   "execution_count": 3,
   "outputs": [],
   "source": [
    "import pandas as pd"
   ],
   "metadata": {
    "collapsed": false,
    "ExecuteTime": {
     "end_time": "2023-12-12T20:47:59.086445Z",
     "start_time": "2023-12-12T20:47:59.081227Z"
    }
   },
   "id": "53e203a6a44cbb91"
  },
  {
   "cell_type": "code",
   "execution_count": 37,
   "outputs": [],
   "source": [
    "book_df = pd.read_csv(\"amazon_com_extras.csv\", encoding='latin1')"
   ],
   "metadata": {
    "collapsed": false,
    "ExecuteTime": {
     "end_time": "2023-12-12T21:02:10.367393Z",
     "start_time": "2023-12-12T21:02:10.210584Z"
    }
   },
   "id": "initial_id"
  },
  {
   "cell_type": "code",
   "execution_count": 5,
   "outputs": [],
   "source": [
    "df = pd.read_feather(\"100k_kindle_reviews_lemmatized.feather\")"
   ],
   "metadata": {
    "collapsed": false,
    "ExecuteTime": {
     "end_time": "2023-12-12T20:48:05.695684Z",
     "start_time": "2023-12-12T20:48:05.147053Z"
    }
   },
   "id": "9fb453a4e795b234"
  },
  {
   "cell_type": "code",
   "execution_count": 6,
   "outputs": [
    {
     "name": "stdout",
     "output_type": "stream",
     "text": [
      "<class 'pandas.core.frame.DataFrame'>\n",
      "RangeIndex: 63748 entries, 0 to 63747\n",
      "Data columns (total 6 columns):\n",
      " #   Column     Non-Null Count  Dtype \n",
      "---  ------     --------------  ----- \n",
      " 0   asin       63748 non-null  object\n",
      " 1   group      63748 non-null  object\n",
      " 2   format     63747 non-null  object\n",
      " 3   title      63747 non-null  object\n",
      " 4   author     63661 non-null  object\n",
      " 5   publisher  57263 non-null  object\n",
      "dtypes: object(6)\n",
      "memory usage: 2.9+ MB\n"
     ]
    }
   ],
   "source": [
    "book_df.info()"
   ],
   "metadata": {
    "collapsed": false,
    "ExecuteTime": {
     "end_time": "2023-12-12T20:48:13.686217Z",
     "start_time": "2023-12-12T20:48:13.666651Z"
    }
   },
   "id": "d975d7c4c2aea7b0"
  },
  {
   "cell_type": "code",
   "execution_count": 7,
   "outputs": [
    {
     "data": {
      "text/plain": "         asin group     format  \\\n0  1250150183  book  hardcover   \n1   778319997  book  hardcover   \n2  1608322564  book  hardcover   \n3   310325331  book  hardcover   \n4   312616295  book  hardcover   \n\n                                               title  \\\n0  The Swamp: Washington's Murky Pool of Corrupti...   \n1            Rise and Shine, Benedict Stone: A Novel   \n2  Sell or Be Sold: How to Get Your Way in Busine...   \n3  Christian Apologetics: An Anthology of Primary...   \n4  Gravity: How the Weakest Force in the Universe...   \n\n                               author                   publisher  \n0                        Eric Bolling          St. Martin's Press  \n1                     Phaedra Patrick              Park Row Books  \n2                       Grant Cardone  Greenleaf Book Group Press  \n3  Khaldoun A. Sweis, Chad V. Meister                   Zondervan  \n4                         Brian Clegg          St. Martin's Press  ",
      "text/html": "<div>\n<style scoped>\n    .dataframe tbody tr th:only-of-type {\n        vertical-align: middle;\n    }\n\n    .dataframe tbody tr th {\n        vertical-align: top;\n    }\n\n    .dataframe thead th {\n        text-align: right;\n    }\n</style>\n<table border=\"1\" class=\"dataframe\">\n  <thead>\n    <tr style=\"text-align: right;\">\n      <th></th>\n      <th>asin</th>\n      <th>group</th>\n      <th>format</th>\n      <th>title</th>\n      <th>author</th>\n      <th>publisher</th>\n    </tr>\n  </thead>\n  <tbody>\n    <tr>\n      <th>0</th>\n      <td>1250150183</td>\n      <td>book</td>\n      <td>hardcover</td>\n      <td>The Swamp: Washington's Murky Pool of Corrupti...</td>\n      <td>Eric Bolling</td>\n      <td>St. Martin's Press</td>\n    </tr>\n    <tr>\n      <th>1</th>\n      <td>778319997</td>\n      <td>book</td>\n      <td>hardcover</td>\n      <td>Rise and Shine, Benedict Stone: A Novel</td>\n      <td>Phaedra Patrick</td>\n      <td>Park Row Books</td>\n    </tr>\n    <tr>\n      <th>2</th>\n      <td>1608322564</td>\n      <td>book</td>\n      <td>hardcover</td>\n      <td>Sell or Be Sold: How to Get Your Way in Busine...</td>\n      <td>Grant Cardone</td>\n      <td>Greenleaf Book Group Press</td>\n    </tr>\n    <tr>\n      <th>3</th>\n      <td>310325331</td>\n      <td>book</td>\n      <td>hardcover</td>\n      <td>Christian Apologetics: An Anthology of Primary...</td>\n      <td>Khaldoun A. Sweis, Chad V. Meister</td>\n      <td>Zondervan</td>\n    </tr>\n    <tr>\n      <th>4</th>\n      <td>312616295</td>\n      <td>book</td>\n      <td>hardcover</td>\n      <td>Gravity: How the Weakest Force in the Universe...</td>\n      <td>Brian Clegg</td>\n      <td>St. Martin's Press</td>\n    </tr>\n  </tbody>\n</table>\n</div>"
     },
     "execution_count": 7,
     "metadata": {},
     "output_type": "execute_result"
    }
   ],
   "source": [
    "book_df.head()"
   ],
   "metadata": {
    "collapsed": false,
    "ExecuteTime": {
     "end_time": "2023-12-12T20:49:20.699771Z",
     "start_time": "2023-12-12T20:49:20.680243Z"
    }
   },
   "id": "a74ae25bd83a275b"
  },
  {
   "cell_type": "code",
   "execution_count": 8,
   "outputs": [
    {
     "data": {
      "text/plain": "           group     format  \\\nasin                          \n1250150183  book  hardcover   \n778319997   book  hardcover   \n1608322564  book  hardcover   \n310325331   book  hardcover   \n312616295   book  hardcover   \n...          ...        ...   \n976986280   book  paperback   \n1626396078  book  paperback   \n3866863411  book  paperback   \n425250415   book  paperback   \n9734611526  book  paperback   \n\n                                                        title  \\\nasin                                                            \n1250150183  The Swamp: Washington's Murky Pool of Corrupti...   \n778319997             Rise and Shine, Benedict Stone: A Novel   \n1608322564  Sell or Be Sold: How to Get Your Way in Busine...   \n310325331   Christian Apologetics: An Anthology of Primary...   \n312616295   Gravity: How the Weakest Force in the Universe...   \n...                                                       ...   \n976986280   From the Coffee House of Jewish Dreamers: Poem...   \n1626396078                            Midnight at the Orpheus   \n3866863411                   Portugal Spanien: Via Algarviana   \n425250415     The Coyote Tracker (Josiah Wolfe, Texas Ranger)   \n9734611526  Puls. Manual de limba romana pentru straini. C...   \n\n                                        author                   publisher  \nasin                                                                        \n1250150183                        Eric Bolling          St. Martin's Press  \n778319997                      Phaedra Patrick              Park Row Books  \n1608322564                       Grant Cardone  Greenleaf Book Group Press  \n310325331   Khaldoun A. Sweis, Chad V. Meister                   Zondervan  \n312616295                          Brian Clegg          St. Martin's Press  \n...                                        ...                         ...  \n976986280                      Isidore Century            Ben Yehuda Press  \n1626396078                  Alyssa Linn Palmer          Bold Strokes Books  \n3866863411                Christiane Heitzmann        Stein, Conrad Verlag  \n425250415                      Larry D. Sweazy                     Berkley  \n9734611526                        Daniela Kohn             Editura Polirom  \n\n[63748 rows x 5 columns]",
      "text/html": "<div>\n<style scoped>\n    .dataframe tbody tr th:only-of-type {\n        vertical-align: middle;\n    }\n\n    .dataframe tbody tr th {\n        vertical-align: top;\n    }\n\n    .dataframe thead th {\n        text-align: right;\n    }\n</style>\n<table border=\"1\" class=\"dataframe\">\n  <thead>\n    <tr style=\"text-align: right;\">\n      <th></th>\n      <th>group</th>\n      <th>format</th>\n      <th>title</th>\n      <th>author</th>\n      <th>publisher</th>\n    </tr>\n    <tr>\n      <th>asin</th>\n      <th></th>\n      <th></th>\n      <th></th>\n      <th></th>\n      <th></th>\n    </tr>\n  </thead>\n  <tbody>\n    <tr>\n      <th>1250150183</th>\n      <td>book</td>\n      <td>hardcover</td>\n      <td>The Swamp: Washington's Murky Pool of Corrupti...</td>\n      <td>Eric Bolling</td>\n      <td>St. Martin's Press</td>\n    </tr>\n    <tr>\n      <th>778319997</th>\n      <td>book</td>\n      <td>hardcover</td>\n      <td>Rise and Shine, Benedict Stone: A Novel</td>\n      <td>Phaedra Patrick</td>\n      <td>Park Row Books</td>\n    </tr>\n    <tr>\n      <th>1608322564</th>\n      <td>book</td>\n      <td>hardcover</td>\n      <td>Sell or Be Sold: How to Get Your Way in Busine...</td>\n      <td>Grant Cardone</td>\n      <td>Greenleaf Book Group Press</td>\n    </tr>\n    <tr>\n      <th>310325331</th>\n      <td>book</td>\n      <td>hardcover</td>\n      <td>Christian Apologetics: An Anthology of Primary...</td>\n      <td>Khaldoun A. Sweis, Chad V. Meister</td>\n      <td>Zondervan</td>\n    </tr>\n    <tr>\n      <th>312616295</th>\n      <td>book</td>\n      <td>hardcover</td>\n      <td>Gravity: How the Weakest Force in the Universe...</td>\n      <td>Brian Clegg</td>\n      <td>St. Martin's Press</td>\n    </tr>\n    <tr>\n      <th>...</th>\n      <td>...</td>\n      <td>...</td>\n      <td>...</td>\n      <td>...</td>\n      <td>...</td>\n    </tr>\n    <tr>\n      <th>976986280</th>\n      <td>book</td>\n      <td>paperback</td>\n      <td>From the Coffee House of Jewish Dreamers: Poem...</td>\n      <td>Isidore Century</td>\n      <td>Ben Yehuda Press</td>\n    </tr>\n    <tr>\n      <th>1626396078</th>\n      <td>book</td>\n      <td>paperback</td>\n      <td>Midnight at the Orpheus</td>\n      <td>Alyssa Linn Palmer</td>\n      <td>Bold Strokes Books</td>\n    </tr>\n    <tr>\n      <th>3866863411</th>\n      <td>book</td>\n      <td>paperback</td>\n      <td>Portugal Spanien: Via Algarviana</td>\n      <td>Christiane Heitzmann</td>\n      <td>Stein, Conrad Verlag</td>\n    </tr>\n    <tr>\n      <th>425250415</th>\n      <td>book</td>\n      <td>paperback</td>\n      <td>The Coyote Tracker (Josiah Wolfe, Texas Ranger)</td>\n      <td>Larry D. Sweazy</td>\n      <td>Berkley</td>\n    </tr>\n    <tr>\n      <th>9734611526</th>\n      <td>book</td>\n      <td>paperback</td>\n      <td>Puls. Manual de limba romana pentru straini. C...</td>\n      <td>Daniela Kohn</td>\n      <td>Editura Polirom</td>\n    </tr>\n  </tbody>\n</table>\n<p>63748 rows × 5 columns</p>\n</div>"
     },
     "execution_count": 8,
     "metadata": {},
     "output_type": "execute_result"
    }
   ],
   "source": [
    "book_df.set_index('asin')"
   ],
   "metadata": {
    "collapsed": false,
    "ExecuteTime": {
     "end_time": "2023-12-12T20:50:10.808460Z",
     "start_time": "2023-12-12T20:50:10.740601Z"
    }
   },
   "id": "eedfb67b82f04190"
  },
  {
   "cell_type": "code",
   "execution_count": 34,
   "outputs": [
    {
     "data": {
      "text/plain": "       overall  verified   reviewTime      reviewerID        asin  \\\n79835        4     False  06 25, 2014  A2F9FGNWPJ2LC3  B00J0F089Y   \n\n                                style  reviewerName  \\\n79835  {'Format:': ' Kindle Edition'}  Robin Reader   \n\n                                              reviewText              summary  \\\n79835  I loved Milly and Sasha.... The history, setti...  Excellent beginning   \n\n       unixReviewTime  ...  CCONJ PUNCT  AUX PART  PROPN  NUM  SPACE  INTJ  \\\n79835      1403654400  ...    3.0   9.0  5.0  1.0    5.0  NaN    NaN   NaN   \n\n       SYM   X  \n79835  NaN NaN  \n\n[1 rows x 32 columns]",
      "text/html": "<div>\n<style scoped>\n    .dataframe tbody tr th:only-of-type {\n        vertical-align: middle;\n    }\n\n    .dataframe tbody tr th {\n        vertical-align: top;\n    }\n\n    .dataframe thead th {\n        text-align: right;\n    }\n</style>\n<table border=\"1\" class=\"dataframe\">\n  <thead>\n    <tr style=\"text-align: right;\">\n      <th></th>\n      <th>overall</th>\n      <th>verified</th>\n      <th>reviewTime</th>\n      <th>reviewerID</th>\n      <th>asin</th>\n      <th>style</th>\n      <th>reviewerName</th>\n      <th>reviewText</th>\n      <th>summary</th>\n      <th>unixReviewTime</th>\n      <th>...</th>\n      <th>CCONJ</th>\n      <th>PUNCT</th>\n      <th>AUX</th>\n      <th>PART</th>\n      <th>PROPN</th>\n      <th>NUM</th>\n      <th>SPACE</th>\n      <th>INTJ</th>\n      <th>SYM</th>\n      <th>X</th>\n    </tr>\n  </thead>\n  <tbody>\n    <tr>\n      <th>79835</th>\n      <td>4</td>\n      <td>False</td>\n      <td>06 25, 2014</td>\n      <td>A2F9FGNWPJ2LC3</td>\n      <td>B00J0F089Y</td>\n      <td>{'Format:': ' Kindle Edition'}</td>\n      <td>Robin Reader</td>\n      <td>I loved Milly and Sasha.... The history, setti...</td>\n      <td>Excellent beginning</td>\n      <td>1403654400</td>\n      <td>...</td>\n      <td>3.0</td>\n      <td>9.0</td>\n      <td>5.0</td>\n      <td>1.0</td>\n      <td>5.0</td>\n      <td>NaN</td>\n      <td>NaN</td>\n      <td>NaN</td>\n      <td>NaN</td>\n      <td>NaN</td>\n    </tr>\n  </tbody>\n</table>\n<p>1 rows × 32 columns</p>\n</div>"
     },
     "execution_count": 34,
     "metadata": {},
     "output_type": "execute_result"
    }
   ],
   "source": [
    "df.loc[df[\"asin\"].str.startswith('B00J0F089Y', na=False)]"
   ],
   "metadata": {
    "collapsed": false,
    "ExecuteTime": {
     "end_time": "2023-12-12T20:58:29.325330Z",
     "start_time": "2023-12-12T20:58:29.308908Z"
    }
   },
   "id": "cebc7a812db7e5b3"
  },
  {
   "cell_type": "code",
   "execution_count": 32,
   "outputs": [
    {
     "data": {
      "text/plain": "             asin   group          format  \\\n13127  B00J0F089Y  kindle  kindle edition   \n23741  B00J0HEAL4  kindle  kindle edition   \n25844  B00J0HEAN2  kindle  kindle edition   \n27237  B00J0I2RNG  kindle  kindle edition   \n34268  B00J0YW9PG  kindle  kindle edition   \n38642  B00J0CWFV6  kindle  kindle edition   \n\n                                                   title  \\\n13127          Sugarland (Sasha Thibodaux Series Book 1)   \n23741             Just for the Weekend (Crimson Romance)   \n25844  Wynter's Journey: A Scallop Shores Novel (Crim...   \n27237  Me and My Hero: No Ordinary Bicycle Journey Th...   \n34268  Werewolf Detectives Series Box Set - Books 1, ...   \n38642  The Fortune Cafe (A Tangerine Street Romance B...   \n\n                                                 author  \\\n13127                                       Ali Spooner   \n23741                                  Susanne Matthews   \n25844                                   Jennifer DeCuir   \n27237                                      Tim Mulliner   \n34268                       Eve Paludan, Suzanne Wilson   \n38642  Julie Wright, Melanie Jacobson, Heather B. Moore   \n\n                          publisher  \n13127  Affinity E-Book Press NZ LTD  \n23741               Crimson Romance  \n25844               Crimson Romance  \n27237                           NaN  \n34268                   Eve Paludan  \n38642                  Mirror Press  ",
      "text/html": "<div>\n<style scoped>\n    .dataframe tbody tr th:only-of-type {\n        vertical-align: middle;\n    }\n\n    .dataframe tbody tr th {\n        vertical-align: top;\n    }\n\n    .dataframe thead th {\n        text-align: right;\n    }\n</style>\n<table border=\"1\" class=\"dataframe\">\n  <thead>\n    <tr style=\"text-align: right;\">\n      <th></th>\n      <th>asin</th>\n      <th>group</th>\n      <th>format</th>\n      <th>title</th>\n      <th>author</th>\n      <th>publisher</th>\n    </tr>\n  </thead>\n  <tbody>\n    <tr>\n      <th>13127</th>\n      <td>B00J0F089Y</td>\n      <td>kindle</td>\n      <td>kindle edition</td>\n      <td>Sugarland (Sasha Thibodaux Series Book 1)</td>\n      <td>Ali Spooner</td>\n      <td>Affinity E-Book Press NZ LTD</td>\n    </tr>\n    <tr>\n      <th>23741</th>\n      <td>B00J0HEAL4</td>\n      <td>kindle</td>\n      <td>kindle edition</td>\n      <td>Just for the Weekend (Crimson Romance)</td>\n      <td>Susanne Matthews</td>\n      <td>Crimson Romance</td>\n    </tr>\n    <tr>\n      <th>25844</th>\n      <td>B00J0HEAN2</td>\n      <td>kindle</td>\n      <td>kindle edition</td>\n      <td>Wynter's Journey: A Scallop Shores Novel (Crim...</td>\n      <td>Jennifer DeCuir</td>\n      <td>Crimson Romance</td>\n    </tr>\n    <tr>\n      <th>27237</th>\n      <td>B00J0I2RNG</td>\n      <td>kindle</td>\n      <td>kindle edition</td>\n      <td>Me and My Hero: No Ordinary Bicycle Journey Th...</td>\n      <td>Tim Mulliner</td>\n      <td>NaN</td>\n    </tr>\n    <tr>\n      <th>34268</th>\n      <td>B00J0YW9PG</td>\n      <td>kindle</td>\n      <td>kindle edition</td>\n      <td>Werewolf Detectives Series Box Set - Books 1, ...</td>\n      <td>Eve Paludan, Suzanne Wilson</td>\n      <td>Eve Paludan</td>\n    </tr>\n    <tr>\n      <th>38642</th>\n      <td>B00J0CWFV6</td>\n      <td>kindle</td>\n      <td>kindle edition</td>\n      <td>The Fortune Cafe (A Tangerine Street Romance B...</td>\n      <td>Julie Wright, Melanie Jacobson, Heather B. Moore</td>\n      <td>Mirror Press</td>\n    </tr>\n  </tbody>\n</table>\n</div>"
     },
     "execution_count": 32,
     "metadata": {},
     "output_type": "execute_result"
    }
   ],
   "source": [
    "book_df.loc[book_df[\"asin\"].str.startswith('B00J0', na=False)]"
   ],
   "metadata": {
    "collapsed": false,
    "ExecuteTime": {
     "end_time": "2023-12-12T20:58:13.977471Z",
     "start_time": "2023-12-12T20:58:13.965172Z"
    }
   },
   "id": "187e3dd37e87098d"
  },
  {
   "cell_type": "code",
   "execution_count": 43,
   "outputs": [],
   "source": [
    "joined_df = df.join(book_df.set_index(\"asin\"), on=\"asin\", how=\"left\")"
   ],
   "metadata": {
    "collapsed": false,
    "ExecuteTime": {
     "end_time": "2023-12-12T21:04:12.147595Z",
     "start_time": "2023-12-12T21:04:12.096340Z"
    }
   },
   "id": "88aaa2bb2c8ab157"
  },
  {
   "cell_type": "code",
   "execution_count": 46,
   "outputs": [
    {
     "name": "stdout",
     "output_type": "stream",
     "text": [
      "<class 'pandas.core.frame.DataFrame'>\n",
      "RangeIndex: 100000 entries, 0 to 99999\n",
      "Data columns (total 37 columns):\n",
      " #   Column            Non-Null Count   Dtype  \n",
      "---  ------            --------------   -----  \n",
      " 0   overall           100000 non-null  int64  \n",
      " 1   verified          100000 non-null  bool   \n",
      " 2   reviewTime        100000 non-null  object \n",
      " 3   reviewerID        100000 non-null  object \n",
      " 4   asin              100000 non-null  object \n",
      " 5   style             100000 non-null  object \n",
      " 6   reviewerName      100000 non-null  object \n",
      " 7   reviewText        100000 non-null  object \n",
      " 8   summary           100000 non-null  object \n",
      " 9   unixReviewTime    100000 non-null  int64  \n",
      " 10  vote              100000 non-null  int32  \n",
      " 11  image             70 non-null      object \n",
      " 12  processed_review  100000 non-null  object \n",
      " 13  lemmatized_text   100000 non-null  object \n",
      " 14  ADV               80797 non-null   float64\n",
      " 15  VERB              91419 non-null   float64\n",
      " 16  PRON              86519 non-null   float64\n",
      " 17  SCONJ             47676 non-null   float64\n",
      " 18  DET               89456 non-null   float64\n",
      " 19  ADJ               92077 non-null   float64\n",
      " 20  NOUN              95062 non-null   float64\n",
      " 21  ADP               85714 non-null   float64\n",
      " 22  CCONJ             73120 non-null   float64\n",
      " 23  PUNCT             93056 non-null   float64\n",
      " 24  AUX               85053 non-null   float64\n",
      " 25  PART              72871 non-null   float64\n",
      " 26  PROPN             50662 non-null   float64\n",
      " 27  NUM               33704 non-null   float64\n",
      " 28  SPACE             45473 non-null   float64\n",
      " 29  INTJ              11475 non-null   float64\n",
      " 30  SYM               5834 non-null    float64\n",
      " 31  X                 3738 non-null    float64\n",
      " 32  group             3342 non-null    object \n",
      " 33  format            3342 non-null    object \n",
      " 34  title             3342 non-null    object \n",
      " 35  author            3342 non-null    object \n",
      " 36  publisher         2848 non-null    object \n",
      "dtypes: bool(1), float64(18), int32(1), int64(2), object(15)\n",
      "memory usage: 27.2+ MB\n"
     ]
    }
   ],
   "source": [
    "joined_df.info()"
   ],
   "metadata": {
    "collapsed": false,
    "ExecuteTime": {
     "end_time": "2023-12-12T21:04:38.703626Z",
     "start_time": "2023-12-12T21:04:38.635927Z"
    }
   },
   "id": "750e71e151dec75"
  },
  {
   "cell_type": "code",
   "execution_count": 47,
   "outputs": [],
   "source": [
    "joined_df.to_feather(\"100k_kindle_reviews_with_book_data.feather\")"
   ],
   "metadata": {
    "collapsed": false,
    "ExecuteTime": {
     "end_time": "2023-12-12T21:06:01.372177Z",
     "start_time": "2023-12-12T21:06:00.699235Z"
    }
   },
   "id": "6b3a69a2debb460d"
  },
  {
   "cell_type": "code",
   "execution_count": 53,
   "outputs": [
    {
     "data": {
      "text/plain": "57182"
     },
     "execution_count": 53,
     "metadata": {},
     "output_type": "execute_result"
    }
   ],
   "source": [
    "df[\"asin\"].nunique()"
   ],
   "metadata": {
    "collapsed": false,
    "ExecuteTime": {
     "end_time": "2023-12-12T21:15:01.961262Z",
     "start_time": "2023-12-12T21:15:01.942018Z"
    }
   },
   "id": "e8c6ba8654df9e58"
  },
  {
   "cell_type": "code",
   "execution_count": null,
   "outputs": [],
   "source": [],
   "metadata": {
    "collapsed": false
   },
   "id": "4904b8d649ae1274"
  }
 ],
 "metadata": {
  "kernelspec": {
   "display_name": "Python 3",
   "language": "python",
   "name": "python3"
  },
  "language_info": {
   "codemirror_mode": {
    "name": "ipython",
    "version": 2
   },
   "file_extension": ".py",
   "mimetype": "text/x-python",
   "name": "python",
   "nbconvert_exporter": "python",
   "pygments_lexer": "ipython2",
   "version": "2.7.6"
  }
 },
 "nbformat": 4,
 "nbformat_minor": 5
}
