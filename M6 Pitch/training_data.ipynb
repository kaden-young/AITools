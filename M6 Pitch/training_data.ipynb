{
 "cells": [
  {
   "cell_type": "markdown",
   "id": "ea27e1b27e84c957",
   "metadata": {
    "collapsed": false,
    "jupyter": {
     "outputs_hidden": false
    }
   },
   "source": [
    "# Training Data\n",
    "This notebook takes the large data set, and creates a subset that will be faster to train models with.\n",
    "The original data set is over 3 GB.  \n",
    "\n",
    "I'll create a train/test data set that has 100k reviews.  There will be 75k training rows, and 25k test rows."
   ]
  },
  {
   "cell_type": "code",
   "execution_count": 1,
   "id": "a2270a06690cc139",
   "metadata": {
    "ExecuteTime": {
     "end_time": "2023-12-09T20:39:18.302054Z",
     "start_time": "2023-12-09T20:38:33.314909Z"
    },
    "collapsed": false,
    "jupyter": {
     "outputs_hidden": false
    }
   },
   "outputs": [],
   "source": [
    "import nltk\n",
    "import pandas as pd\n",
    "import seaborn as sns\n",
    "from nltk.corpus import stopwords\n",
    "from sklearn.model_selection import train_test_split\n",
    "from sklearn.feature_extraction.text import TfidfVectorizer"
   ]
  },
  {
   "cell_type": "code",
   "execution_count": 2,
   "id": "bef70c2e42830c95",
   "metadata": {
    "ExecuteTime": {
     "start_time": "2023-12-08T15:52:33.262518Z"
    },
    "collapsed": false,
    "jupyter": {
     "outputs_hidden": false
    }
   },
   "outputs": [],
   "source": [
    "# Read JSON file in chunks\n",
    "chunk_size = 100000  # Adjust the chunk size as needed\n",
    "chunks = []\n",
    "with open('Kindle_Store.json', 'r') as file:\n",
    "    for chunk in pd.read_json(file, chunksize=chunk_size, lines=True):\n",
    "        chunks.append(chunk)\n",
    "\n",
    "# Concatenate all chunks to form a single DataFrame\n",
    "df = pd.concat(chunks, ignore_index=True)"
   ]
  },
  {
   "cell_type": "code",
   "execution_count": 3,
   "id": "ee418d9fc6055b0f",
   "metadata": {
    "ExecuteTime": {
     "end_time": "2023-12-09T20:04:22.507592Z",
     "start_time": "2023-12-09T20:02:01.195623Z"
    },
    "collapsed": false,
    "jupyter": {
     "outputs_hidden": false
    }
   },
   "outputs": [],
   "source": [
    "kindle_only_df = df[df['style'] == {'Format:': ' Kindle Edition'}]"
   ]
  },
  {
   "cell_type": "code",
   "execution_count": 4,
   "id": "ca8afaee-b5c4-4a43-97c9-6f4f1242d7c2",
   "metadata": {},
   "outputs": [],
   "source": [
    "book_df = pd.read_csv(\"amazon_com_extras.csv\", encoding='latin1')"
   ]
  },
  {
   "cell_type": "code",
   "execution_count": 5,
   "id": "3de56fb0-dc26-473c-aa02-8f466be7f3a4",
   "metadata": {},
   "outputs": [],
   "source": [
    "kindle_only_df = pd.merge(kindle_only_df, book_df[['asin', 'author']], on='asin', how='left')"
   ]
  },
  {
   "cell_type": "code",
   "execution_count": 7,
   "id": "5b96f5a1-b97c-46eb-b882-1d1b9e8a37b0",
   "metadata": {},
   "outputs": [],
   "source": [
    "def count_words(text):\n",
    "    return len(str(text).split())"
   ]
  },
  {
   "cell_type": "code",
   "execution_count": 8,
   "id": "f651e84d-8b57-4d00-bc73-50ffc4a37803",
   "metadata": {},
   "outputs": [],
   "source": [
    "df['wordCount'] = df['reviewText'].apply(count_words)"
   ]
  },
  {
   "cell_type": "code",
   "execution_count": 9,
   "id": "5b9227b2-97de-417b-9380-a7638d7ae25c",
   "metadata": {},
   "outputs": [
    {
     "name": "stderr",
     "output_type": "stream",
     "text": [
      "[nltk_data] Downloading package stopwords to\n",
      "[nltk_data]     C:\\Users\\dethloffe\\AppData\\Roaming\\nltk_data...\n",
      "[nltk_data]   Package stopwords is already up-to-date!\n",
      "[nltk_data] Downloading package punkt to\n",
      "[nltk_data]     C:\\Users\\dethloffe\\AppData\\Roaming\\nltk_data...\n",
      "[nltk_data]   Package punkt is already up-to-date!\n"
     ]
    }
   ],
   "source": [
    "# Download NLTK stopwords and Punkt tokenizer\n",
    "nltk.download('stopwords')\n",
    "nltk.download('punkt')\n",
    "\n",
    "stop_words = set(stopwords.words('english'))\n",
    "\n",
    "def preprocess_text(text):\n",
    "    if pd.isnull(text):\n",
    "        return ''\n",
    "    \n",
    "    text = text.lower()\n",
    "    \n",
    "    # Tokenization and removing stopwords\n",
    "    tokens = nltk.word_tokenize(text)\n",
    "    tokens = [word for word in tokens if word.isalnum() and word not in stop_words]\n",
    "    \n",
    "    return ' '.join(tokens)\n",
    "\n",
    "# Apply text preprocessing to 'reviewText' and 'summary' columns\n",
    "kindle_only_df['processed_reviewText'] = kindle_only_df['reviewText'].apply(preprocess_text)\n",
    "kindle_only_df['processed_summary'] = kindle_only_df['summary'].apply(preprocess_text)\n",
    "\n",
    "# TF-IDF Vectorization\n",
    "vectorizer = TfidfVectorizer()\n",
    "X_reviewText = vectorizer.fit_transform(kindle_only_df['processed_reviewText'])\n",
    "X_summary = vectorizer.fit_transform(kindle_only_df['processed_summary'])"
   ]
  },
  {
   "cell_type": "code",
   "execution_count": 19,
   "id": "f2984916-6e62-4156-a697-df9a14ea09ad",
   "metadata": {},
   "outputs": [],
   "source": [
    "\n",
    "kindle_only_df['processed_reviewText'] = kindle_only_df['reviewText'].apply(preprocess_text)\n",
    "kindle_only_df['processed_summary'] = kindle_only_df['summary'].apply(preprocess_text)\n",
    "\n",
    "vectorizer = TfidfVectorizer()\n",
    "X_reviewText = vectorizer.fit_transform(kindle_only_df['processed_reviewText'])\n",
    "X_summary = vectorizer.fit_transform(kindle_only_df['processed_summary'])"
   ]
  },
  {
   "cell_type": "code",
   "execution_count": 20,
   "id": "866946629a351f4a",
   "metadata": {
    "ExecuteTime": {
     "end_time": "2023-12-09T20:08:49.484593Z",
     "start_time": "2023-12-09T20:08:49.352043Z"
    },
    "collapsed": false,
    "jupyter": {
     "outputs_hidden": false
    }
   },
   "outputs": [
    {
     "name": "stdout",
     "output_type": "stream",
     "text": [
      "<class 'pandas.core.frame.DataFrame'>\n",
      "RangeIndex: 5045160 entries, 0 to 5045159\n",
      "Data columns (total 15 columns):\n",
      " #   Column                Dtype \n",
      "---  ------                ----- \n",
      " 0   overall               int64 \n",
      " 1   verified              bool  \n",
      " 2   reviewTime            object\n",
      " 3   reviewerID            object\n",
      " 4   asin                  object\n",
      " 5   style                 object\n",
      " 6   reviewerName          object\n",
      " 7   reviewText            object\n",
      " 8   summary               object\n",
      " 9   unixReviewTime        int64 \n",
      " 10  vote                  object\n",
      " 11  image                 object\n",
      " 12  author                object\n",
      " 13  processed_reviewText  object\n",
      " 14  processed_summary     object\n",
      "dtypes: bool(1), int64(2), object(12)\n",
      "memory usage: 543.7+ MB\n"
     ]
    }
   ],
   "source": [
    "kindle_only_df.info()"
   ]
  },
  {
   "cell_type": "code",
   "execution_count": 21,
   "id": "1823ccb1d4f8dd31",
   "metadata": {
    "ExecuteTime": {
     "end_time": "2023-12-09T20:47:00.753835Z",
     "start_time": "2023-12-09T20:40:32.954749Z"
    },
    "collapsed": false,
    "jupyter": {
     "outputs_hidden": false
    }
   },
   "outputs": [],
   "source": [
    "df_1 = kindle_only_df[kindle_only_df['overall'] == 1].sample(20_000)\n",
    "df_2 = kindle_only_df[kindle_only_df['overall'] == 2].sample(20_000)\n",
    "df_3 = kindle_only_df[kindle_only_df['overall'] == 3].sample(20_000)\n",
    "df_4 = kindle_only_df[kindle_only_df['overall'] == 4].sample(20_000)\n",
    "df_5 = kindle_only_df[kindle_only_df['overall'] == 5].sample(20_000)\n",
    "sample_df = pd.concat([df_1, df_2, df_3, df_4, df_5])"
   ]
  },
  {
   "cell_type": "code",
   "execution_count": 22,
   "id": "562bf34093a942f8",
   "metadata": {
    "ExecuteTime": {
     "end_time": "2023-12-09T21:18:05.478239Z",
     "start_time": "2023-12-09T21:18:04.484477Z"
    },
    "collapsed": false,
    "jupyter": {
     "outputs_hidden": false
    }
   },
   "outputs": [
    {
     "data": {
      "text/plain": [
       "<Axes: xlabel='overall', ylabel='Count'>"
      ]
     },
     "execution_count": 22,
     "metadata": {},
     "output_type": "execute_result"
    },
    {
     "data": {
      "image/png": "[encoded data removed]",
      "text/plain": [
       "<Figure size 640x480 with 1 Axes>"
      ]
     },
     "metadata": {},
     "output_type": "display_data"
    }
   ],
   "source": [
    "sns.histplot(data=sample_df, x='overall', discrete=True)"
   ]
  },
  {
   "cell_type": "code",
   "execution_count": 23,
   "id": "8c775a6e2060a084",
   "metadata": {
    "ExecuteTime": {
     "end_time": "2023-12-09T21:18:25.329691Z",
     "start_time": "2023-12-09T21:18:21.237208Z"
    },
    "collapsed": false,
    "jupyter": {
     "outputs_hidden": false
    }
   },
   "outputs": [
    {
     "name": "stdout",
     "output_type": "stream",
     "text": [
      "<class 'pandas.core.frame.DataFrame'>\n",
      "Index: 100000 entries, 2623300 to 1984611\n",
      "Data columns (total 15 columns):\n",
      " #   Column                Non-Null Count   Dtype \n",
      "---  ------                --------------   ----- \n",
      " 0   overall               100000 non-null  int64 \n",
      " 1   verified              100000 non-null  bool  \n",
      " 2   reviewTime            100000 non-null  object\n",
      " 3   reviewerID            100000 non-null  object\n",
      " 4   asin                  100000 non-null  object\n",
      " 5   style                 100000 non-null  object\n",
      " 6   reviewerName          99999 non-null   object\n",
      " 7   reviewText            99983 non-null   object\n",
      " 8   summary               99964 non-null   object\n",
      " 9   unixReviewTime        100000 non-null  int64 \n",
      " 10  vote                  100000 non-null  int32 \n",
      " 11  image                 72 non-null      object\n",
      " 12  author                3478 non-null    object\n",
      " 13  processed_reviewText  100000 non-null  object\n",
      " 14  processed_summary     100000 non-null  object\n",
      "dtypes: bool(1), int32(1), int64(2), object(11)\n",
      "memory usage: 11.2+ MB\n"
     ]
    }
   ],
   "source": [
    "# remove commas from vote column\n",
    "sample_df['vote'] = sample_df['vote'].str.replace(',', '')\n",
    "# cast vote column to int, converting Nan to 0\n",
    "sample_df['vote'] = sample_df['vote'].fillna(0)\n",
    "sample_df['vote'] = sample_df['vote'].astype('int')\n",
    "sample_df.info()"
   ]
  },
  {
   "cell_type": "code",
   "execution_count": 24,
   "id": "5ae72cdc",
   "metadata": {},
   "outputs": [],
   "source": [
    "#filling in empty columns with empty strings\n",
    "sample_df['reviewText'] = sample_df['reviewText'].fillna('')\n",
    "sample_df['summary'] = sample_df['summary'].fillna('')\n",
    "sample_df['reviewerName'] = sample_df['reviewerName'].fillna('')"
   ]
  },
  {
   "cell_type": "code",
   "execution_count": 25,
   "id": "c5ec589219246e00",
   "metadata": {
    "ExecuteTime": {
     "end_time": "2023-12-09T21:19:03.588990Z",
     "start_time": "2023-12-09T21:18:30.495710Z"
    },
    "collapsed": false,
    "jupyter": {
     "outputs_hidden": false
    }
   },
   "outputs": [
    {
     "name": "stdout",
     "output_type": "stream",
     "text": [
      "<class 'pandas.core.frame.DataFrame'>\n",
      "Index: 75000 entries, 2200719 to 3491450\n",
      "Data columns (total 15 columns):\n",
      " #   Column                Non-Null Count  Dtype \n",
      "---  ------                --------------  ----- \n",
      " 0   overall               75000 non-null  int64 \n",
      " 1   verified              75000 non-null  bool  \n",
      " 2   reviewTime            75000 non-null  object\n",
      " 3   reviewerID            75000 non-null  object\n",
      " 4   asin                  75000 non-null  object\n",
      " 5   style                 75000 non-null  object\n",
      " 6   reviewerName          75000 non-null  object\n",
      " 7   reviewText            75000 non-null  object\n",
      " 8   summary               75000 non-null  object\n",
      " 9   unixReviewTime        75000 non-null  int64 \n",
      " 10  vote                  75000 non-null  int32 \n",
      " 11  image                 57 non-null     object\n",
      " 12  author                2651 non-null   object\n",
      " 13  processed_reviewText  75000 non-null  object\n",
      " 14  processed_summary     75000 non-null  object\n",
      "dtypes: bool(1), int32(1), int64(2), object(11)\n",
      "memory usage: 8.4+ MB\n"
     ]
    }
   ],
   "source": [
    "train_sample_df, test_sample_df = train_test_split(sample_df, test_size=0.25, random_state=42)\n",
    "train_sample_df.info()"
   ]
  },
  {
   "cell_type": "code",
   "execution_count": 26,
   "id": "b5f892561b98abc1",
   "metadata": {
    "ExecuteTime": {
     "end_time": "2023-12-09T21:20:23.682689Z",
     "start_time": "2023-12-09T21:19:57.479847Z"
    },
    "collapsed": false,
    "jupyter": {
     "outputs_hidden": false
    }
   },
   "outputs": [],
   "source": [
    "sample_df.reset_index(drop=True, inplace=True)\n",
    "sample_df.to_feather(\"100k_kindle_reviews.feather\")\n",
    "train_sample_df.reset_index(drop=True, inplace=True)\n",
    "train_sample_df.to_feather(\"75k_train_kindle_reviews.feather\")\n",
    "test_sample_df.reset_index(drop=True, inplace=True)\n",
    "test_sample_df.to_feather(\"25k_test_kindle_reviews.feather\")"
   ]
  },
  {
   "cell_type": "code",
   "execution_count": 27,
   "id": "16b00de22569f882",
   "metadata": {
    "ExecuteTime": {
     "end_time": "2023-12-09T21:21:10.124909Z",
     "start_time": "2023-12-09T21:21:09.143292Z"
    },
    "collapsed": false,
    "jupyter": {
     "outputs_hidden": false
    }
   },
   "outputs": [
    {
     "name": "stdout",
     "output_type": "stream",
     "text": [
      "<class 'pandas.core.frame.DataFrame'>\n",
      "RangeIndex: 25000 entries, 0 to 24999\n",
      "Data columns (total 15 columns):\n",
      " #   Column                Non-Null Count  Dtype \n",
      "---  ------                --------------  ----- \n",
      " 0   overall               25000 non-null  int64 \n",
      " 1   verified              25000 non-null  bool  \n",
      " 2   reviewTime            25000 non-null  object\n",
      " 3   reviewerID            25000 non-null  object\n",
      " 4   asin                  25000 non-null  object\n",
      " 5   style                 25000 non-null  object\n",
      " 6   reviewerName          25000 non-null  object\n",
      " 7   reviewText            25000 non-null  object\n",
      " 8   summary               25000 non-null  object\n",
      " 9   unixReviewTime        25000 non-null  int64 \n",
      " 10  vote                  25000 non-null  int32 \n",
      " 11  image                 15 non-null     object\n",
      " 12  author                827 non-null    object\n",
      " 13  processed_reviewText  25000 non-null  object\n",
      " 14  processed_summary     25000 non-null  object\n",
      "dtypes: bool(1), int32(1), int64(2), object(11)\n",
      "memory usage: 2.6+ MB\n"
     ]
    }
   ],
   "source": [
    "loaded_test_sample_df = pd.read_feather(\"25k_test_kindle_reviews.feather\")\n",
    "loaded_test_sample_df.info()"
   ]
  },
  {
   "cell_type": "code",
   "execution_count": null,
   "id": "ab2eb24e-4833-4e47-ad36-414a3890b805",
   "metadata": {},
   "outputs": [],
   "source": []
  }
 ],
 "metadata": {
  "kernelspec": {
   "display_name": "Python 3 (ipykernel)",
   "language": "python",
   "name": "python3"
  },
  "language_info": {
   "codemirror_mode": {
    "name": "ipython",
    "version": 3
   },
   "file_extension": ".py",
   "mimetype": "text/x-python",
   "name": "python",
   "nbconvert_exporter": "python",
   "pygments_lexer": "ipython3",
   "version": "3.10.7"
  },
  "vscode": {
   "interpreter": {
    "hash": "78f26278aaebced278c5097c56985d85bde54a4cf6cf6ca5c930d7239c5fca84"
   }
  }
 },
 "nbformat": 4,
 "nbformat_minor": 5
}
