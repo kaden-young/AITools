{
 "cells": [
  {
   "cell_type": "markdown",
   "source": [
    "# Training Data\n",
    "This notebook takes the large data set, and creates a subset that will be faster to train models with.\n",
    "The original data set is over 3 GB.  \n",
    "\n",
    "I'll create a train/test data set that has 100k reviews.  There will be 75k training rows, and 25k test rows."
   ],
   "metadata": {
    "collapsed": false
   },
   "id": "ea27e1b27e84c957"
  },
  {
   "cell_type": "code",
   "execution_count": 23,
   "outputs": [],
   "source": [
    "import pandas as pd\n",
    "import seaborn as sns\n",
    "from sklearn.model_selection import train_test_split"
   ],
   "metadata": {
    "collapsed": false,
    "ExecuteTime": {
     "end_time": "2023-12-09T20:39:18.302054Z",
     "start_time": "2023-12-09T20:38:33.314909Z"
    }
   },
   "id": "a2270a06690cc139"
  },
  {
   "cell_type": "code",
   "execution_count": 1,
   "outputs": [],
   "source": [
    "# Read JSON file in chunks\n",
    "chunk_size = 100000  # Adjust the chunk size as needed\n",
    "chunks = []\n",
    "with open('Kindle_Store.json', 'r') as file:\n",
    "    for chunk in pd.read_json(file, chunksize=chunk_size, lines=True):\n",
    "        chunks.append(chunk)\n",
    "\n",
    "# Concatenate all chunks to form a single DataFrame\n",
    "df = pd.concat(chunks, ignore_index=True)"
   ],
   "metadata": {
    "collapsed": false,
    "ExecuteTime": {
     "start_time": "2023-12-08T15:52:33.262518Z"
    }
   },
   "id": "bef70c2e42830c95"
  },
  {
   "cell_type": "code",
   "execution_count": 15,
   "outputs": [],
   "source": [
    "kindle_only_df = df[df['style'] == {'Format:': ' Kindle Edition'}]"
   ],
   "metadata": {
    "collapsed": false,
    "ExecuteTime": {
     "end_time": "2023-12-09T20:04:22.507592Z",
     "start_time": "2023-12-09T20:02:01.195623Z"
    }
   },
   "id": "ee418d9fc6055b0f"
  },
  {
   "cell_type": "code",
   "execution_count": 16,
   "outputs": [
    {
     "name": "stdout",
     "output_type": "stream",
     "text": [
      "<class 'pandas.core.frame.DataFrame'>\n",
      "Index: 5045160 entries, 9 to 5722987\n",
      "Data columns (total 12 columns):\n",
      " #   Column          Dtype \n",
      "---  ------          ----- \n",
      " 0   overall         int64 \n",
      " 1   verified        bool  \n",
      " 2   reviewTime      object\n",
      " 3   reviewerID      object\n",
      " 4   asin            object\n",
      " 5   style           object\n",
      " 6   reviewerName    object\n",
      " 7   reviewText      object\n",
      " 8   summary         object\n",
      " 9   unixReviewTime  int64 \n",
      " 10  vote            object\n",
      " 11  image           object\n",
      "dtypes: bool(1), int64(2), object(9)\n",
      "memory usage: 466.7+ MB\n"
     ]
    }
   ],
   "source": [
    "kindle_only_df.info()"
   ],
   "metadata": {
    "collapsed": false,
    "ExecuteTime": {
     "end_time": "2023-12-09T20:08:49.484593Z",
     "start_time": "2023-12-09T20:08:49.352043Z"
    }
   },
   "id": "866946629a351f4a"
  },
  {
   "cell_type": "code",
   "execution_count": 26,
   "outputs": [],
   "source": [
    "df_1 = kindle_only_df[kindle_only_df['overall'] == 1].sample(20_000)\n",
    "df_2 = kindle_only_df[kindle_only_df['overall'] == 2].sample(20_000)\n",
    "df_3 = kindle_only_df[kindle_only_df['overall'] == 3].sample(20_000)\n",
    "df_4 = kindle_only_df[kindle_only_df['overall'] == 4].sample(20_000)\n",
    "df_5 = kindle_only_df[kindle_only_df['overall'] == 5].sample(20_000)\n",
    "sample_df = pd.concat([df_1, df_2, df_3, df_4, df_5])"
   ],
   "metadata": {
    "collapsed": false,
    "ExecuteTime": {
     "end_time": "2023-12-09T20:47:00.753835Z",
     "start_time": "2023-12-09T20:40:32.954749Z"
    }
   },
   "id": "1823ccb1d4f8dd31"
  },
  {
   "cell_type": "code",
   "execution_count": 27,
   "outputs": [
    {
     "name": "stderr",
     "output_type": "stream",
     "text": [
      "/Users/andy/csc5610/lib/python3.11/site-packages/seaborn/_oldcore.py:1498: FutureWarning: is_categorical_dtype is deprecated and will be removed in a future version. Use isinstance(dtype, CategoricalDtype) instead\n",
      "  if pd.api.types.is_categorical_dtype(vector):\n",
      "/Users/andy/csc5610/lib/python3.11/site-packages/seaborn/_oldcore.py:1119: FutureWarning: use_inf_as_na option is deprecated and will be removed in a future version. Convert inf values to NaN before operating instead.\n",
      "  with pd.option_context('mode.use_inf_as_na', True):\n"
     ]
    },
    {
     "data": {
      "text/plain": "<Axes: xlabel='overall', ylabel='Count'>"
     },
     "execution_count": 27,
     "metadata": {},
     "output_type": "execute_result"
    },
    {
     "data": {
      "text/plain": "<Figure size 640x480 with 1 Axes>",
      "image/png": "[encoded data removed]"
     },
     "metadata": {},
     "output_type": "display_data"
    }
   ],
   "source": [
    "sns.histplot(data=sample_df, x='overall', discrete=True)"
   ],
   "metadata": {
    "collapsed": false,
    "ExecuteTime": {
     "end_time": "2023-12-09T21:18:05.478239Z",
     "start_time": "2023-12-09T21:18:04.484477Z"
    }
   },
   "id": "562bf34093a942f8"
  },
  {
   "cell_type": "code",
   "execution_count": 28,
   "outputs": [
    {
     "name": "stdout",
     "output_type": "stream",
     "text": [
      "<class 'pandas.core.frame.DataFrame'>\n",
      "Index: 100000 entries, 4539579 to 2292238\n",
      "Data columns (total 12 columns):\n",
      " #   Column          Non-Null Count   Dtype \n",
      "---  ------          --------------   ----- \n",
      " 0   overall         100000 non-null  int64 \n",
      " 1   verified        100000 non-null  bool  \n",
      " 2   reviewTime      100000 non-null  object\n",
      " 3   reviewerID      100000 non-null  object\n",
      " 4   asin            100000 non-null  object\n",
      " 5   style           100000 non-null  object\n",
      " 6   reviewerName    99993 non-null   object\n",
      " 7   reviewText      99977 non-null   object\n",
      " 8   summary         99961 non-null   object\n",
      " 9   unixReviewTime  100000 non-null  int64 \n",
      " 10  vote            100000 non-null  int64 \n",
      " 11  image           63 non-null      object\n",
      "dtypes: bool(1), int64(3), object(8)\n",
      "memory usage: 9.3+ MB\n"
     ]
    }
   ],
   "source": [
    "# remove commas from vote column\n",
    "sample_df['vote'] = sample_df['vote'].str.replace(',', '')\n",
    "# cast vote column to int, converting Nan to 0\n",
    "sample_df['vote'] = sample_df['vote'].fillna(0)\n",
    "sample_df['vote'] = sample_df['vote'].astype('int')\n",
    "sample_df.info()"
   ],
   "metadata": {
    "collapsed": false,
    "ExecuteTime": {
     "end_time": "2023-12-09T21:18:25.329691Z",
     "start_time": "2023-12-09T21:18:21.237208Z"
    }
   },
   "id": "8c775a6e2060a084"
  },
  {
   "cell_type": "code",
   "execution_count": 29,
   "outputs": [
    {
     "name": "stdout",
     "output_type": "stream",
     "text": [
      "<class 'pandas.core.frame.DataFrame'>\n",
      "Index: 75000 entries, 2325253 to 4180637\n",
      "Data columns (total 12 columns):\n",
      " #   Column          Non-Null Count  Dtype \n",
      "---  ------          --------------  ----- \n",
      " 0   overall         75000 non-null  int64 \n",
      " 1   verified        75000 non-null  bool  \n",
      " 2   reviewTime      75000 non-null  object\n",
      " 3   reviewerID      75000 non-null  object\n",
      " 4   asin            75000 non-null  object\n",
      " 5   style           75000 non-null  object\n",
      " 6   reviewerName    74997 non-null  object\n",
      " 7   reviewText      74981 non-null  object\n",
      " 8   summary         74971 non-null  object\n",
      " 9   unixReviewTime  75000 non-null  int64 \n",
      " 10  vote            75000 non-null  int64 \n",
      " 11  image           51 non-null     object\n",
      "dtypes: bool(1), int64(3), object(8)\n",
      "memory usage: 6.9+ MB\n"
     ]
    }
   ],
   "source": [
    "train_sample_df, test_sample_df = train_test_split(sample_df, test_size=0.25, random_state=42)\n",
    "train_sample_df.info()"
   ],
   "metadata": {
    "collapsed": false,
    "ExecuteTime": {
     "end_time": "2023-12-09T21:19:03.588990Z",
     "start_time": "2023-12-09T21:18:30.495710Z"
    }
   },
   "id": "c5ec589219246e00"
  },
  {
   "cell_type": "code",
   "execution_count": 30,
   "outputs": [],
   "source": [
    "sample_df.to_feather(\"100k_kindle_reviews.feather\")\n",
    "train_sample_df.to_feather(\"75k_train_kindle_reviews.feather\")\n",
    "test_sample_df.to_feather(\"25k_test_kindle_reviews.feather\")"
   ],
   "metadata": {
    "collapsed": false,
    "ExecuteTime": {
     "end_time": "2023-12-09T21:20:23.682689Z",
     "start_time": "2023-12-09T21:19:57.479847Z"
    }
   },
   "id": "b5f892561b98abc1"
  },
  {
   "cell_type": "code",
   "execution_count": 31,
   "outputs": [
    {
     "name": "stdout",
     "output_type": "stream",
     "text": [
      "<class 'pandas.core.frame.DataFrame'>\n",
      "Index: 25000 entries, 1099125 to 1055573\n",
      "Data columns (total 12 columns):\n",
      " #   Column          Non-Null Count  Dtype \n",
      "---  ------          --------------  ----- \n",
      " 0   overall         25000 non-null  int64 \n",
      " 1   verified        25000 non-null  bool  \n",
      " 2   reviewTime      25000 non-null  object\n",
      " 3   reviewerID      25000 non-null  object\n",
      " 4   asin            25000 non-null  object\n",
      " 5   style           25000 non-null  object\n",
      " 6   reviewerName    24996 non-null  object\n",
      " 7   reviewText      24996 non-null  object\n",
      " 8   summary         24990 non-null  object\n",
      " 9   unixReviewTime  25000 non-null  int64 \n",
      " 10  vote            25000 non-null  int64 \n",
      " 11  image           12 non-null     object\n",
      "dtypes: bool(1), int64(3), object(8)\n",
      "memory usage: 2.3+ MB\n"
     ]
    }
   ],
   "source": [
    "loaded_test_sample_df = pd.read_feather(\"25k_test_kindle_reviews.feather\")\n",
    "loaded_test_sample_df.info()"
   ],
   "metadata": {
    "collapsed": false,
    "ExecuteTime": {
     "end_time": "2023-12-09T21:21:10.124909Z",
     "start_time": "2023-12-09T21:21:09.143292Z"
    }
   },
   "id": "16b00de22569f882"
  },
  {
   "cell_type": "code",
   "execution_count": null,
   "outputs": [],
   "source": [],
   "metadata": {
    "collapsed": false
   },
   "id": "2dd91287f52a42a5"
  }
 ],
 "metadata": {
  "kernelspec": {
   "display_name": "Python 3",
   "language": "python",
   "name": "python3"
  },
  "language_info": {
   "codemirror_mode": {
    "name": "ipython",
    "version": 2
   },
   "file_extension": ".py",
   "mimetype": "text/x-python",
   "name": "python",
   "nbconvert_exporter": "python",
   "pygments_lexer": "ipython2",
   "version": "2.7.6"
  }
 },
 "nbformat": 4,
 "nbformat_minor": 5
}
