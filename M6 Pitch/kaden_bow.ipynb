{
 "cells": [
  {
   "cell_type": "code",
   "execution_count": null,
   "metadata": {},
   "outputs": [],
   "source": [
    "import pandas as pd\n",
    "import spacy\n",
    "from sklearn.feature_extraction.text import CountVectorizer\n",
    "from sklearn.decomposition import TruncatedSVD\n",
    "from sklearn.svm import SVR\n",
    "import matplotlib.pyplot as plt"
   ]
  },
  {
   "cell_type": "code",
   "execution_count": 2,
   "metadata": {},
   "outputs": [],
   "source": [
    "#load in the 100k feather file\n",
    "df = pd.read_feather('100k_kindle_reviews.feather')"
   ]
  },
  {
   "cell_type": "code",
   "execution_count": 3,
   "metadata": {},
   "outputs": [],
   "source": [
    "# Load the Spacy language model\n",
    "nlp = spacy.load(\"en_core_web_sm\")\n",
    "\n",
    "# Function to perform lemmatization and stop word removal\n",
    "def preprocess_text(text):\n",
    "    doc = nlp(text)\n",
    "    lemmatized_text = ' '.join([token.lemma_ for token in doc if not token.is_stop])\n",
    "    return lemmatized_text\n",
    "\n",
    "# Apply the preprocessing function to the 'reviewText' column\n",
    "df['processed_review'] = df['reviewText'].apply(preprocess_text)"
   ]
  },
  {
   "cell_type": "code",
   "execution_count": null,
   "metadata": {},
   "outputs": [],
   "source": [
    "vectorizer = CountVectorizer()\n",
    "\n",
    "# Fit CountVectorizer to learn the vocabulary (word dictionary)\n",
    "vectorizer.fit(df['processed_review'])"
   ]
  },
  {
   "cell_type": "code",
   "execution_count": null,
   "metadata": {},
   "outputs": [],
   "source": [
    "# n_components_range = range(1, 200, 10)  # Define the range of components to test\n",
    "# explained_variance = []\n",
    "\n",
    "# for n_components in n_components_range:\n",
    "#     svd = TruncatedSVD(n_components=n_components)\n",
    "#     svd.fit(vectorizer.transform(df['processed_review']))\n",
    "#     explained_variance.append(svd.explained_variance_ratio_.sum())\n",
    "\n",
    "# # Plot the explained variance ratio to identify the elbow point\n",
    "# plt.figure(figsize=(10, 6))\n",
    "# plt.plot(n_components_range, explained_variance, marker='o', linestyle='-')\n",
    "# plt.xlabel('Number of Components')\n",
    "# plt.ylabel('Explained Variance Ratio')\n",
    "# plt.title('Elbow Method for Optimal Number of Components')\n",
    "# plt.grid(True)\n",
    "# plt.show()"
   ]
  }
 ],
 "metadata": {
  "kernelspec": {
   "display_name": "Python 3.11.5 64-bit",
   "language": "python",
   "name": "python3"
  },
  "language_info": {
   "codemirror_mode": {
    "name": "ipython",
    "version": 3
   },
   "file_extension": ".py",
   "mimetype": "text/x-python",
   "name": "python",
   "nbconvert_exporter": "python",
   "pygments_lexer": "ipython3",
   "version": "3.11.5"
  },
  "orig_nbformat": 4,
  "vscode": {
   "interpreter": {
    "hash": "78f26278aaebced278c5097c56985d85bde54a4cf6cf6ca5c930d7239c5fca84"
   }
  }
 },
 "nbformat": 4,
 "nbformat_minor": 2
}
