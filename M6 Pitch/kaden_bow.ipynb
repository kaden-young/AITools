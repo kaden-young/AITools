{
 "cells": [
  {
   "cell_type": "code",
   "execution_count": null,
   "metadata": {},
   "outputs": [],
   "source": [
    "import pandas as pd\n",
    "import numpy as np\n",
    "import matplotlib.pyplot as plt\n",
    "import seaborn as sns\n",
    "import os\n",
    "from sklearn.feature_extraction.text import CountVectorizer\n",
    "from sklearn.decomposition import TruncatedSVD\n",
    "from sklearn.svm import SVR\n",
    "import matplotlib.pyplot as plt\n",
    "from sklearn.linear_model import SGDRegressor\n",
    "from sklearn.model_selection import cross_val_score"
   ]
  },
  {
   "cell_type": "code",
   "execution_count": null,
   "metadata": {},
   "outputs": [],
   "source": [
    "# make a df from 100k_kindle_reviews_lemmatized_with_summary.feather\n",
    "df = pd.read_feather('100k_kindle_reviews_lemmatized_with_summary.feather')"
   ]
  },
  {
   "cell_type": "code",
   "execution_count": null,
   "metadata": {},
   "outputs": [],
   "source": [
    "vectorizer = CountVectorizer()\n",
    "\n",
    "# Fit CountVectorizer to learn the vocabulary (word dictionary)\n",
    "vectorizer.fit(df['lemmatized_reviewText'])"
   ]
  },
  {
   "cell_type": "code",
   "execution_count": null,
   "metadata": {},
   "outputs": [],
   "source": [
    "X = vectorizer.transform(df['lemmatized_reviewText'])"
   ]
  },
  {
   "cell_type": "code",
   "execution_count": null,
   "metadata": {},
   "outputs": [],
   "source": [
    "svd = TruncatedSVD(n_components=min(X.shape) - 1)  # Set maximum number of components\n",
    "\n",
    "# Fit TruncatedSVD on the sparse matrix\n",
    "svd.fit(X)\n",
    "\n",
    "# Plotting the explained variance ratio\n",
    "plt.figure(figsize=(8, 6))\n",
    "plt.plot(range(1, svd.n_components + 1), svd.explained_variance_ratio_.cumsum(), marker='o', linestyle='--')\n",
    "plt.xlabel('Number of Components')\n",
    "plt.ylabel('Cumulative Explained Variance Ratio')\n",
    "plt.title('Explained Variance Ratio vs. Number of Components')\n",
    "plt.grid(True)\n",
    "plt.show()"
   ]
  }
 ],
 "metadata": {
  "kernelspec": {
   "display_name": "Python 3.11.5 64-bit",
   "language": "python",
   "name": "python3"
  },
  "language_info": {
   "name": "python",
   "version": "3.11.5"
  },
  "orig_nbformat": 4,
  "vscode": {
   "interpreter": {
    "hash": "78f26278aaebced278c5097c56985d85bde54a4cf6cf6ca5c930d7239c5fca84"
   }
  }
 },
 "nbformat": 4,
 "nbformat_minor": 2
}
