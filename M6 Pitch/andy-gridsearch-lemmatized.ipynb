{
 "cells": [
  {
   "cell_type": "code",
   "execution_count": 1,
   "metadata": {
    "ExecuteTime": {
     "end_time": "2023-12-13T01:20:33.277234Z",
     "start_time": "2023-12-13T01:20:33.273503Z"
    }
   },
   "outputs": [],
   "source": [
    "import pandas as pd"
   ]
  },
  {
   "cell_type": "code",
   "execution_count": 22,
   "metadata": {
    "ExecuteTime": {
     "end_time": "2023-12-12T22:50:55.518646Z",
     "start_time": "2023-12-12T22:50:53.351515Z"
    }
   },
   "outputs": [],
   "source": [
    "df = pd.read_feather(\"100k_kindle_reviews_lemmatized_with_summary.feather\")"
   ]
  },
  {
   "cell_type": "code",
   "execution_count": 23,
   "metadata": {
    "ExecuteTime": {
     "end_time": "2023-12-12T22:50:55.673323Z",
     "start_time": "2023-12-12T22:50:55.527967Z"
    }
   },
   "outputs": [
    {
     "name": "stdout",
     "output_type": "stream",
     "text": [
      "<class 'pandas.core.frame.DataFrame'>\n",
      "RangeIndex: 100000 entries, 0 to 99999\n",
      "Data columns (total 51 columns):\n",
      " #   Column                 Non-Null Count   Dtype  \n",
      "---  ------                 --------------   -----  \n",
      " 0   overall                100000 non-null  int64  \n",
      " 1   verified               100000 non-null  bool   \n",
      " 2   reviewTime             100000 non-null  object \n",
      " 3   reviewerID             100000 non-null  object \n",
      " 4   asin                   100000 non-null  object \n",
      " 5   style                  100000 non-null  object \n",
      " 6   reviewerName           100000 non-null  object \n",
      " 7   reviewText             100000 non-null  object \n",
      " 8   summary                100000 non-null  object \n",
      " 9   unixReviewTime         100000 non-null  int64  \n",
      " 10  vote                   100000 non-null  int32  \n",
      " 11  image                  70 non-null      object \n",
      " 12  lemmatized_reviewText  100000 non-null  object \n",
      " 13  ADV_review             80797 non-null   float64\n",
      " 14  VERB_review            91419 non-null   float64\n",
      " 15  PRON_review            86519 non-null   float64\n",
      " 16  SCONJ_review           47676 non-null   float64\n",
      " 17  DET_review             89456 non-null   float64\n",
      " 18  ADJ_review             92077 non-null   float64\n",
      " 19  NOUN_review            85753 non-null   float64\n",
      " 20  ADP_review             77298 non-null   float64\n",
      " 21  CCONJ_review           66467 non-null   float64\n",
      " 22  PUNCT_review           83850 non-null   float64\n",
      " 23  AUX_review             76371 non-null   float64\n",
      " 24  PART_review            64968 non-null   float64\n",
      " 25  PROPN_review           46241 non-null   float64\n",
      " 26  NUM_review             30256 non-null   float64\n",
      " 27  SPACE_review           41129 non-null   float64\n",
      " 28  INTJ_review            10307 non-null   float64\n",
      " 29  SYM_review             5198 non-null    float64\n",
      " 30  X_review               3370 non-null    float64\n",
      " 31  X                      91 non-null      float64\n",
      " 32  lemmatized_summary     100000 non-null  object \n",
      " 33  ADV_summary            19523 non-null   float64\n",
      " 34  PART_summary           15842 non-null   float64\n",
      " 35  ADJ_summary            46419 non-null   float64\n",
      " 36  PRON_summary           21033 non-null   float64\n",
      " 37  NOUN_summary           60665 non-null   float64\n",
      " 38  AUX_summary            17556 non-null   float64\n",
      " 39  ADP_summary            23574 non-null   float64\n",
      " 40  PROPN_summary          24464 non-null   float64\n",
      " 41  PUNCT_summary          35211 non-null   float64\n",
      " 42  VERB_summary           32233 non-null   float64\n",
      " 43  DET_summary            29118 non-null   float64\n",
      " 44  NUM_summary            16673 non-null   float64\n",
      " 45  CCONJ_summary          12439 non-null   float64\n",
      " 46  SCONJ_summary          3206 non-null    float64\n",
      " 47  INTJ_summary           3807 non-null    float64\n",
      " 48  SPACE_summary          1105 non-null    float64\n",
      " 49  SYM_summary            566 non-null     float64\n",
      " 50  X_summary              278 non-null     float64\n",
      "dtypes: bool(1), float64(37), int32(1), int64(2), object(10)\n",
      "memory usage: 37.9+ MB\n"
     ]
    }
   ],
   "source": [
    "df.info()"
   ]
  },
  {
   "cell_type": "code",
   "execution_count": 24,
   "metadata": {
    "ExecuteTime": {
     "end_time": "2023-12-12T22:50:55.832284Z",
     "start_time": "2023-12-12T22:50:55.705667Z"
    }
   },
   "outputs": [
    {
     "data": {
      "text/plain": "   overall  verified   reviewTime      reviewerID        asin  \\\n0        1      True  12 27, 2014  A3JRP9RI3ZE6VK  B00JQDHIES   \n1        1     False  06 25, 2016  A3IZWB0YUZXZZ6  B01H124NQQ   \n2        1      True  05 13, 2013   A82LP6E48UFM5  B00C2E9EK4   \n3        1      True  05 10, 2012   AMV9B31WKSLM7  B005RH2GNU   \n4        1      True   09 4, 2013   AZ27B4OUL64TR  B00DC7PXLY   \n\n                            style     reviewerName  \\\n0  {'Format:': ' Kindle Edition'}           e-BOOK   \n1  {'Format:': ' Kindle Edition'}   Kathryn childs   \n2  {'Format:': ' Kindle Edition'}  Amazon Customer   \n3  {'Format:': ' Kindle Edition'}  Eclectic Reader   \n4  {'Format:': ' Kindle Edition'}      Word Junkie   \n\n                                          reviewText  \\\n0  Truly hate it when I make a bad call on a book...   \n1  Only 4% of this book is the discretion it isn'...   \n2  The quality of writing for this book is very p...   \n3  The Outback is the vast, remote, arid area of ...   \n4  Grace Burrowes lives within a few miles of me,...   \n\n                         summary  unixReviewTime  ...  PUNCT_summary  \\\n0                       Juvenile      1419638400  ...            NaN   \n1            Not worth your time      1466812800  ...            NaN   \n2                   poor quality      1368403200  ...            NaN   \n3     Outback is in AUSTRALIA!!!      1336608000  ...            3.0   \n4  Not as good as its progenitor      1378252800  ...            NaN   \n\n  VERB_summary DET_summary  NUM_summary  CCONJ_summary  SCONJ_summary  \\\n0          NaN         NaN          NaN            NaN            NaN   \n1          NaN         NaN          NaN            NaN            NaN   \n2          NaN         NaN          NaN            NaN            NaN   \n3          NaN         NaN          NaN            NaN            NaN   \n4          NaN         NaN          NaN            NaN            NaN   \n\n   INTJ_summary  SPACE_summary  SYM_summary  X_summary  \n0           NaN            NaN          NaN        NaN  \n1           NaN            NaN          NaN        NaN  \n2           NaN            NaN          NaN        NaN  \n3           NaN            NaN          NaN        NaN  \n4           NaN            NaN          NaN        NaN  \n\n[5 rows x 51 columns]",
      "text/html": "<div>\n<style scoped>\n    .dataframe tbody tr th:only-of-type {\n        vertical-align: middle;\n    }\n\n    .dataframe tbody tr th {\n        vertical-align: top;\n    }\n\n    .dataframe thead th {\n        text-align: right;\n    }\n</style>\n<table border=\"1\" class=\"dataframe\">\n  <thead>\n    <tr style=\"text-align: right;\">\n      <th></th>\n      <th>overall</th>\n      <th>verified</th>\n      <th>reviewTime</th>\n      <th>reviewerID</th>\n      <th>asin</th>\n      <th>style</th>\n      <th>reviewerName</th>\n      <th>reviewText</th>\n      <th>summary</th>\n      <th>unixReviewTime</th>\n      <th>...</th>\n      <th>PUNCT_summary</th>\n      <th>VERB_summary</th>\n      <th>DET_summary</th>\n      <th>NUM_summary</th>\n      <th>CCONJ_summary</th>\n      <th>SCONJ_summary</th>\n      <th>INTJ_summary</th>\n      <th>SPACE_summary</th>\n      <th>SYM_summary</th>\n      <th>X_summary</th>\n    </tr>\n  </thead>\n  <tbody>\n    <tr>\n      <th>0</th>\n      <td>1</td>\n      <td>True</td>\n      <td>12 27, 2014</td>\n      <td>A3JRP9RI3ZE6VK</td>\n      <td>B00JQDHIES</td>\n      <td>{'Format:': ' Kindle Edition'}</td>\n      <td>e-BOOK</td>\n      <td>Truly hate it when I make a bad call on a book...</td>\n      <td>Juvenile</td>\n      <td>1419638400</td>\n      <td>...</td>\n      <td>NaN</td>\n      <td>NaN</td>\n      <td>NaN</td>\n      <td>NaN</td>\n      <td>NaN</td>\n      <td>NaN</td>\n      <td>NaN</td>\n      <td>NaN</td>\n      <td>NaN</td>\n      <td>NaN</td>\n    </tr>\n    <tr>\n      <th>1</th>\n      <td>1</td>\n      <td>False</td>\n      <td>06 25, 2016</td>\n      <td>A3IZWB0YUZXZZ6</td>\n      <td>B01H124NQQ</td>\n      <td>{'Format:': ' Kindle Edition'}</td>\n      <td>Kathryn childs</td>\n      <td>Only 4% of this book is the discretion it isn'...</td>\n      <td>Not worth your time</td>\n      <td>1466812800</td>\n      <td>...</td>\n      <td>NaN</td>\n      <td>NaN</td>\n      <td>NaN</td>\n      <td>NaN</td>\n      <td>NaN</td>\n      <td>NaN</td>\n      <td>NaN</td>\n      <td>NaN</td>\n      <td>NaN</td>\n      <td>NaN</td>\n    </tr>\n    <tr>\n      <th>2</th>\n      <td>1</td>\n      <td>True</td>\n      <td>05 13, 2013</td>\n      <td>A82LP6E48UFM5</td>\n      <td>B00C2E9EK4</td>\n      <td>{'Format:': ' Kindle Edition'}</td>\n      <td>Amazon Customer</td>\n      <td>The quality of writing for this book is very p...</td>\n      <td>poor quality</td>\n      <td>1368403200</td>\n      <td>...</td>\n      <td>NaN</td>\n      <td>NaN</td>\n      <td>NaN</td>\n      <td>NaN</td>\n      <td>NaN</td>\n      <td>NaN</td>\n      <td>NaN</td>\n      <td>NaN</td>\n      <td>NaN</td>\n      <td>NaN</td>\n    </tr>\n    <tr>\n      <th>3</th>\n      <td>1</td>\n      <td>True</td>\n      <td>05 10, 2012</td>\n      <td>AMV9B31WKSLM7</td>\n      <td>B005RH2GNU</td>\n      <td>{'Format:': ' Kindle Edition'}</td>\n      <td>Eclectic Reader</td>\n      <td>The Outback is the vast, remote, arid area of ...</td>\n      <td>Outback is in AUSTRALIA!!!</td>\n      <td>1336608000</td>\n      <td>...</td>\n      <td>3.0</td>\n      <td>NaN</td>\n      <td>NaN</td>\n      <td>NaN</td>\n      <td>NaN</td>\n      <td>NaN</td>\n      <td>NaN</td>\n      <td>NaN</td>\n      <td>NaN</td>\n      <td>NaN</td>\n    </tr>\n    <tr>\n      <th>4</th>\n      <td>1</td>\n      <td>True</td>\n      <td>09 4, 2013</td>\n      <td>AZ27B4OUL64TR</td>\n      <td>B00DC7PXLY</td>\n      <td>{'Format:': ' Kindle Edition'}</td>\n      <td>Word Junkie</td>\n      <td>Grace Burrowes lives within a few miles of me,...</td>\n      <td>Not as good as its progenitor</td>\n      <td>1378252800</td>\n      <td>...</td>\n      <td>NaN</td>\n      <td>NaN</td>\n      <td>NaN</td>\n      <td>NaN</td>\n      <td>NaN</td>\n      <td>NaN</td>\n      <td>NaN</td>\n      <td>NaN</td>\n      <td>NaN</td>\n      <td>NaN</td>\n    </tr>\n  </tbody>\n</table>\n<p>5 rows × 51 columns</p>\n</div>"
     },
     "execution_count": 24,
     "metadata": {},
     "output_type": "execute_result"
    }
   ],
   "source": [
    "df.head()"
   ]
  },
  {
   "cell_type": "code",
   "execution_count": 77,
   "metadata": {
    "collapsed": false,
    "ExecuteTime": {
     "end_time": "2023-12-12T23:21:55.090652Z",
     "start_time": "2023-12-12T23:21:55.014875Z"
    }
   },
   "outputs": [],
   "source": [
    "review_speech_count_columns = [col for col in df.columns if col.endswith('_review')]\n",
    "df[review_speech_count_columns] = df[review_speech_count_columns].fillna(0)\n",
    "\n",
    "summary_speech_count_columns = [col for col in df.columns if col.endswith('_summary') and col != 'lemmatized_summary']\n",
    "df[summary_speech_count_columns] = df[summary_speech_count_columns].fillna(0)"
   ]
  },
  {
   "cell_type": "code",
   "execution_count": 78,
   "metadata": {
    "collapsed": false,
    "ExecuteTime": {
     "end_time": "2023-12-12T23:21:59.975654Z",
     "start_time": "2023-12-12T23:21:59.961059Z"
    }
   },
   "outputs": [
    {
     "data": {
      "text/plain": "['ADV_summary',\n 'PART_summary',\n 'ADJ_summary',\n 'PRON_summary',\n 'NOUN_summary',\n 'AUX_summary',\n 'ADP_summary',\n 'PROPN_summary',\n 'PUNCT_summary',\n 'VERB_summary',\n 'DET_summary',\n 'NUM_summary',\n 'CCONJ_summary',\n 'SCONJ_summary',\n 'INTJ_summary',\n 'SPACE_summary',\n 'SYM_summary',\n 'X_summary']"
     },
     "execution_count": 78,
     "metadata": {},
     "output_type": "execute_result"
    }
   ],
   "source": [
    "summary_speech_count_columns"
   ]
  },
  {
   "cell_type": "code",
   "execution_count": 27,
   "metadata": {
    "ExecuteTime": {
     "end_time": "2023-12-12T22:50:55.938986Z",
     "start_time": "2023-12-12T22:50:55.868102Z"
    }
   },
   "outputs": [],
   "source": [
    "# if image is non null return 1 else 0\n",
    "df['image'] = df['image'].notnull().astype('int')"
   ]
  },
  {
   "cell_type": "markdown",
   "metadata": {},
   "source": [
    "replace null with empty string"
   ]
  },
  {
   "cell_type": "code",
   "execution_count": 28,
   "metadata": {
    "ExecuteTime": {
     "end_time": "2023-12-12T22:50:56.028010Z",
     "start_time": "2023-12-12T22:50:55.882787Z"
    }
   },
   "outputs": [],
   "source": [
    "# in review text replace null values with empty string\n",
    "df['reviewText'] = df['reviewText'].fillna('')\n",
    "df['summary'] = df['summary'].fillna('')"
   ]
  },
  {
   "cell_type": "markdown",
   "metadata": {},
   "source": [
    "convert verfied to dummy"
   ]
  },
  {
   "cell_type": "code",
   "execution_count": 29,
   "metadata": {
    "ExecuteTime": {
     "end_time": "2023-12-12T22:50:56.076041Z",
     "start_time": "2023-12-12T22:50:55.912877Z"
    }
   },
   "outputs": [],
   "source": [
    "# convert verified to int 1 if true 0 if false\n",
    "df['verified'] = df['verified'].astype('int')"
   ]
  },
  {
   "cell_type": "code",
   "execution_count": 30,
   "metadata": {
    "ExecuteTime": {
     "end_time": "2023-12-12T22:50:56.258823Z",
     "start_time": "2023-12-12T22:50:55.923430Z"
    }
   },
   "outputs": [],
   "source": [
    "df = df.drop(columns=['style'])"
   ]
  },
  {
   "cell_type": "markdown",
   "metadata": {},
   "source": [
    "dropped reviewtime, already have unix representation"
   ]
  },
  {
   "cell_type": "code",
   "execution_count": 31,
   "metadata": {
    "ExecuteTime": {
     "end_time": "2023-12-12T22:50:56.300940Z",
     "start_time": "2023-12-12T22:50:55.976917Z"
    }
   },
   "outputs": [],
   "source": [
    "# drop the reviewTime column\n",
    "df = df.drop(columns='reviewTime')"
   ]
  },
  {
   "cell_type": "markdown",
   "metadata": {},
   "source": [
    "creating review length column"
   ]
  },
  {
   "cell_type": "code",
   "execution_count": 32,
   "metadata": {
    "ExecuteTime": {
     "end_time": "2023-12-12T22:50:56.744225Z",
     "start_time": "2023-12-12T22:50:56.084523Z"
    }
   },
   "outputs": [],
   "source": [
    "# create a new column called reviewLength\n",
    "df['reviewLength'] = df['reviewText'].apply(lambda x: 0 if isinstance(x, float) else len(x))"
   ]
  },
  {
   "cell_type": "markdown",
   "metadata": {},
   "source": [
    "creating summary length column"
   ]
  },
  {
   "cell_type": "code",
   "execution_count": 33,
   "metadata": {
    "ExecuteTime": {
     "end_time": "2023-12-12T22:50:56.797894Z",
     "start_time": "2023-12-12T22:50:56.751699Z"
    }
   },
   "outputs": [],
   "source": [
    "# create a new column called summaryLength (There were some NaN values in summary, which was forcing the type to be float64.  This ensures everything is an int).\n",
    "df['summaryLength'] = df['summary'].apply(lambda x: 0 if isinstance(x, float) else len(x))"
   ]
  },
  {
   "cell_type": "markdown",
   "metadata": {},
   "source": [
    "asin is the amazon product id. removing this and the reviewer info"
   ]
  },
  {
   "cell_type": "code",
   "execution_count": 34,
   "metadata": {
    "ExecuteTime": {
     "end_time": "2023-12-12T22:50:56.893922Z",
     "start_time": "2023-12-12T22:50:56.786918Z"
    }
   },
   "outputs": [],
   "source": [
    "# removing asin, reviewerID, reviewerName\n",
    "df = df.drop(columns=['asin', 'reviewerID', 'reviewerName'])"
   ]
  },
  {
   "cell_type": "markdown",
   "metadata": {},
   "source": [
    "labeling categorical variables"
   ]
  },
  {
   "cell_type": "code",
   "execution_count": 35,
   "metadata": {
    "ExecuteTime": {
     "end_time": "2023-12-12T22:50:56.909006Z",
     "start_time": "2023-12-12T22:50:56.892608Z"
    }
   },
   "outputs": [],
   "source": [
    "# labeling ['verified', 'image'] as categorical\n",
    "df[['overall', 'verified', 'image']] = df[['overall', 'verified', 'image']].astype('category')"
   ]
  },
  {
   "cell_type": "markdown",
   "metadata": {},
   "source": [
    "reviewing data"
   ]
  },
  {
   "cell_type": "code",
   "execution_count": 60,
   "metadata": {
    "ExecuteTime": {
     "end_time": "2023-12-12T23:12:20.094842Z",
     "start_time": "2023-12-12T23:11:16.741590Z"
    }
   },
   "outputs": [
    {
     "name": "stderr",
     "output_type": "stream",
     "text": [
      "[nltk_data] Downloading package opinion_lexicon to\n",
      "[nltk_data]     /Users/andy/nltk_data...\n",
      "[nltk_data]   Package opinion_lexicon is already up-to-date!\n",
      "[nltk_data] Downloading package punkt to /Users/andy/nltk_data...\n",
      "[nltk_data]   Package punkt is already up-to-date!\n"
     ]
    }
   ],
   "source": [
    "# based off code from https://satish1v.medium.com/sentiment-analysis-and-nlp-dictionary-based-daf01781019e\n",
    "import nltk\n",
    "from nltk.corpus import opinion_lexicon\n",
    "from nltk.tokenize import sent_tokenize\n",
    "from nltk.tokenize import word_tokenize\n",
    "nltk.download('opinion_lexicon') #Download Opinion Dictionary\n",
    "positive_wds = set(opinion_lexicon.positive())\n",
    "negative_wds = set(opinion_lexicon.negative())\n",
    "nltk.download('punkt')\n",
    "\n",
    "\n",
    "def score_review(review):\n",
    "    sentiment_scores = []\n",
    "    sents = sent_tokenize(review)\n",
    "    for sent in sents:\n",
    "        wds = word_tokenize(sent)\n",
    "        sent_scores = score_sent(wds)\n",
    "        sentiment_scores.append(sent_scores)\n",
    "    return sum(sentiment_scores) / (len(sentiment_scores) or 1)\n",
    "\n",
    "def score_sent(sent):\n",
    "    \"\"\"Returns a score btw -1 and 1\"\"\"\n",
    "    sent = [e.lower() for e in sent if e.isalnum()]\n",
    "    total = len(sent)\n",
    "    pos = len([e for e in sent if e in positive_wds])\n",
    "    neg = len([e for e in sent if e in negative_wds])\n",
    "    if total > 0:\n",
    "        return (pos - neg) / total\n",
    "    else:\n",
    "        return 0\n",
    "\n",
    "df[\"reviewText_sentiment_score\"] = df[\"reviewText\"].apply(score_review)\n"
   ]
  },
  {
   "cell_type": "code",
   "execution_count": 62,
   "outputs": [],
   "source": [
    "\n",
    "df[\"summary_sentiment_score\"] = df[\"summary\"].apply(score_review)"
   ],
   "metadata": {
    "collapsed": false,
    "ExecuteTime": {
     "end_time": "2023-12-12T23:12:50.895684Z",
     "start_time": "2023-12-12T23:12:42.313101Z"
    }
   }
  },
  {
   "cell_type": "code",
   "execution_count": 70,
   "outputs": [
    {
     "data": {
      "text/plain": "       reviewText_sentiment_score  summary_sentiment_score\n0                       -0.071429                 0.000000\n1                        0.033333                 0.250000\n2                        0.040476                -0.500000\n3                        0.028571                 0.000000\n4                        0.055592                 0.166667\n...                           ...                      ...\n99995                   -0.013094                 0.000000\n99996                    0.133333                 0.333333\n99997                    0.192617                 0.090909\n99998                   -0.006593                 0.200000\n99999                    0.250000                 0.000000\n\n[100000 rows x 2 columns]",
      "text/html": "<div>\n<style scoped>\n    .dataframe tbody tr th:only-of-type {\n        vertical-align: middle;\n    }\n\n    .dataframe tbody tr th {\n        vertical-align: top;\n    }\n\n    .dataframe thead th {\n        text-align: right;\n    }\n</style>\n<table border=\"1\" class=\"dataframe\">\n  <thead>\n    <tr style=\"text-align: right;\">\n      <th></th>\n      <th>reviewText_sentiment_score</th>\n      <th>summary_sentiment_score</th>\n    </tr>\n  </thead>\n  <tbody>\n    <tr>\n      <th>0</th>\n      <td>-0.071429</td>\n      <td>0.000000</td>\n    </tr>\n    <tr>\n      <th>1</th>\n      <td>0.033333</td>\n      <td>0.250000</td>\n    </tr>\n    <tr>\n      <th>2</th>\n      <td>0.040476</td>\n      <td>-0.500000</td>\n    </tr>\n    <tr>\n      <th>3</th>\n      <td>0.028571</td>\n      <td>0.000000</td>\n    </tr>\n    <tr>\n      <th>4</th>\n      <td>0.055592</td>\n      <td>0.166667</td>\n    </tr>\n    <tr>\n      <th>...</th>\n      <td>...</td>\n      <td>...</td>\n    </tr>\n    <tr>\n      <th>99995</th>\n      <td>-0.013094</td>\n      <td>0.000000</td>\n    </tr>\n    <tr>\n      <th>99996</th>\n      <td>0.133333</td>\n      <td>0.333333</td>\n    </tr>\n    <tr>\n      <th>99997</th>\n      <td>0.192617</td>\n      <td>0.090909</td>\n    </tr>\n    <tr>\n      <th>99998</th>\n      <td>-0.006593</td>\n      <td>0.200000</td>\n    </tr>\n    <tr>\n      <th>99999</th>\n      <td>0.250000</td>\n      <td>0.000000</td>\n    </tr>\n  </tbody>\n</table>\n<p>100000 rows × 2 columns</p>\n</div>"
     },
     "execution_count": 70,
     "metadata": {},
     "output_type": "execute_result"
    }
   ],
   "source": [
    "df[['reviewText_sentiment_score', 'summary_sentiment_score']]"
   ],
   "metadata": {
    "collapsed": false,
    "ExecuteTime": {
     "end_time": "2023-12-12T23:15:32.545868Z",
     "start_time": "2023-12-12T23:15:32.538341Z"
    }
   }
  },
  {
   "cell_type": "code",
   "execution_count": 85,
   "metadata": {
    "collapsed": false,
    "ExecuteTime": {
     "end_time": "2023-12-12T23:29:37.624154Z",
     "start_time": "2023-12-12T23:29:26.079429Z"
    }
   },
   "outputs": [
    {
     "name": "stdout",
     "output_type": "stream",
     "text": [
      "Number of training samples: 75000\n",
      "Micro-averaged F1 score on test set: 0.307\n",
      "Accuracy of model: 0.3068\n"
     ]
    },
    {
     "data": {
      "text/plain": "<Figure size 640x480 with 2 Axes>",
      "image/png": "[encoded data removed]"
     },
     "metadata": {},
     "output_type": "display_data"
    }
   ],
   "source": [
    "from sklearn.model_selection import train_test_split, GridSearchCV\n",
    "from sklearn.pipeline import Pipeline\n",
    "from sklearn.feature_extraction.text import TfidfTransformer\n",
    "from sklearn.feature_extraction.text import CountVectorizer\n",
    "from sklearn.linear_model import SGDClassifier\n",
    "from sklearn.metrics import f1_score\n",
    "from sklearn.metrics import confusion_matrix, ConfusionMatrixDisplay\n",
    "from sklearn.tree import DecisionTreeClassifier\n",
    "import matplotlib.pyplot as plt \n",
    "\n",
    "from sklearn.ensemble import  RandomForestClassifier\n",
    "\n",
    "pipeline = Pipeline(steps=[\n",
    "    (\"clf\", RandomForestClassifier())\n",
    "])\n",
    "\n",
    "best_params = {\n",
    "\n",
    "}\n",
    "\n",
    "classifier = pipeline.set_params(**best_params)\n",
    "\n",
    "# The space is important, otherwise this accidentally creates joined words.\n",
    "X, y = df[['reviewText_sentiment_score', 'summary_sentiment_score']], df['overall']\n",
    "X_train, X_test, y_train, y_test = train_test_split(X, y, random_state=55)\n",
    "\n",
    "print(\"Number of training samples:\", len(X_train))\n",
    "\n",
    "classifier.fit(X_train, y_train)\n",
    "y_pred = classifier.predict(X_test)\n",
    "\n",
    "print(\"Micro-averaged F1 score on test set: %0.3f\"% f1_score(y_test, y_pred, average=\"micro\"))\n",
    "\n",
    "accuracy = classifier.score(X_test, y_test)\n",
    "print(f\"Accuracy of model: {accuracy:.4f}\")\n",
    "\n",
    "cm = confusion_matrix(y_test, y_pred, normalize='true')\n",
    "disp = ConfusionMatrixDisplay(confusion_matrix=cm)\n",
    "disp.plot(cmap='inferno')\n",
    "plt.grid(None)\n",
    "plt.show()"
   ]
  },
  {
   "cell_type": "code",
   "execution_count": null,
   "outputs": [],
   "source": [
    "from sklearn.model_selection import train_test_split, GridSearchCV\n",
    "from sklearn.pipeline import Pipeline\n",
    "from sklearn.feature_extraction.text import TfidfTransformer\n",
    "from sklearn.feature_extraction.text import CountVectorizer\n",
    "from sklearn.linear_model import SGDClassifier\n",
    "from sklearn.metrics import f1_score\n",
    "from sklearn.metrics import confusion_matrix, ConfusionMatrixDisplay\n",
    "\n",
    "pipeline = Pipeline(steps=[\n",
    "    (\"vect\", CountVectorizer()),\n",
    "    (\"tfidf\", TfidfTransformer()),\n",
    "    (\"clf\", SGDClassifier())\n",
    "])\n",
    "\n",
    "best_params = {\n",
    "    'vect__ngram_range': (1, 3),\n",
    "    'vect__stop_words': None,\n",
    "    'vect__strip_accents': None,\n",
    "    'tfidf__norm': 'l2',\n",
    "    'tfidf__sublinear_tf': True,\n",
    "    'tfidf__use_idf': True,\n",
    "    'clf__alpha': 1e-05,\n",
    "    'clf__loss': 'log_loss',\n",
    "    'clf__penalty': 'elasticnet',\n",
    "}\n",
    "\n",
    "classifier = pipeline.set_params(**best_params)\n",
    "\n",
    "# The space is important, otherwise this accidentally creates joined words.\n",
    "X, y = df['reviewText'] + \" \" + df['summary'],  df['overall']\n",
    "X_train, X_test, y_train, y_test = train_test_split(X, y, random_state=55)\n",
    "\n",
    "print(\"Number of training samples:\", len(X_train))\n",
    "\n",
    "classifier.fit(X_train, y_train)\n",
    "y_pred = classifier.predict(X_test)\n",
    "\n",
    "print(\"Micro-averaged F1 score on test set: %0.3f\"% f1_score(y_test, y_pred, average=\"micro\"))\n",
    "\n",
    "accuracy = classifier.score(X_test, y_test)\n",
    "print(f\"Accuracy of model: {accuracy:.4f}\")\n",
    "\n",
    "cm = confusion_matrix(y_test, y_pred, normalize='true')\n",
    "disp = ConfusionMatrixDisplay(confusion_matrix=cm)\n",
    "disp.plot(cmap='inferno')"
   ],
   "metadata": {
    "collapsed": false
   }
  },
  {
   "cell_type": "code",
   "execution_count": 73,
   "outputs": [
    {
     "data": {
      "text/plain": "33364    2\n49406    3\n41740    3\n68165    4\n42153    3\n        ..\n10213    1\n16253    1\n82888    5\n28967    2\n4762     1\nName: overall, Length: 75000, dtype: category\nCategories (5, int64): [1, 2, 3, 4, 5]"
     },
     "execution_count": 73,
     "metadata": {},
     "output_type": "execute_result"
    }
   ],
   "source": [
    "y_train"
   ],
   "metadata": {
    "collapsed": false,
    "ExecuteTime": {
     "end_time": "2023-12-12T23:18:28.095598Z",
     "start_time": "2023-12-12T23:18:28.078787Z"
    }
   }
  },
  {
   "cell_type": "code",
   "execution_count": 38,
   "outputs": [
    {
     "ename": "NameError",
     "evalue": "name 'plt' is not defined",
     "output_type": "error",
     "traceback": [
      "\u001B[0;31m---------------------------------------------------------------------------\u001B[0m",
      "\u001B[0;31mNameError\u001B[0m                                 Traceback (most recent call last)",
      "Cell \u001B[0;32mIn[38], line 4\u001B[0m\n\u001B[1;32m      2\u001B[0m disp \u001B[38;5;241m=\u001B[39m ConfusionMatrixDisplay(confusion_matrix\u001B[38;5;241m=\u001B[39mcm)\n\u001B[1;32m      3\u001B[0m disp\u001B[38;5;241m.\u001B[39mplot(cmap\u001B[38;5;241m=\u001B[39m\u001B[38;5;124m'\u001B[39m\u001B[38;5;124minferno\u001B[39m\u001B[38;5;124m'\u001B[39m)\n\u001B[0;32m----> 4\u001B[0m \u001B[43mplt\u001B[49m\u001B[38;5;241m.\u001B[39mgrid(\u001B[38;5;28;01mNone\u001B[39;00m)\n\u001B[1;32m      5\u001B[0m plt\u001B[38;5;241m.\u001B[39mshow()\n",
      "\u001B[0;31mNameError\u001B[0m: name 'plt' is not defined"
     ]
    },
    {
     "data": {
      "text/plain": "<Figure size 640x480 with 2 Axes>",
      "image/png": "[encoded data removed]"
     },
     "metadata": {},
     "output_type": "display_data"
    }
   ],
   "source": [
    "cm = confusion_matrix(y_test, y_pred, normalize='true')\n",
    "disp = ConfusionMatrixDisplay(confusion_matrix=cm)\n",
    "disp.plot(cmap='inferno')\n",
    "plt.grid(None)\n",
    "plt.show()"
   ],
   "metadata": {
    "collapsed": false,
    "ExecuteTime": {
     "end_time": "2023-12-12T22:51:37.174264Z",
     "start_time": "2023-12-12T22:51:36.533170Z"
    }
   }
  },
  {
   "cell_type": "code",
   "execution_count": null,
   "outputs": [],
   "source": [],
   "metadata": {
    "collapsed": false,
    "ExecuteTime": {
     "start_time": "2023-12-12T22:51:37.170272Z"
    }
   }
  }
 ],
 "metadata": {
  "kernelspec": {
   "display_name": "Python 3 (ipykernel)",
   "language": "python",
   "name": "python3"
  },
  "language_info": {
   "codemirror_mode": {
    "name": "ipython",
    "version": 3
   },
   "file_extension": ".py",
   "mimetype": "text/x-python",
   "name": "python",
   "nbconvert_exporter": "python",
   "pygments_lexer": "ipython3",
   "version": "3.11.6"
  },
  "vscode": {
   "interpreter": {
    "hash": "78f26278aaebced278c5097c56985d85bde54a4cf6cf6ca5c930d7239c5fca84"
   }
  }
 },
 "nbformat": 4,
 "nbformat_minor": 4
}
